{
 "cells": [
  {
   "cell_type": "code",
   "execution_count": 1,
   "id": "9d02f0e2-690f-4751-a0c4-59561018c61d",
   "metadata": {},
   "outputs": [],
   "source": [
    "import numpy as np"
   ]
  },
  {
   "cell_type": "code",
   "execution_count": 3,
   "id": "dd393df7-8653-4645-bfcf-2fda265f4b29",
   "metadata": {},
   "outputs": [],
   "source": [
    "def viterbi(obs, states, start_p, trans_p, emit_p):\n",
    "    n = len(obs)\n",
    "    m = len(states)\n",
    "    \n",
    "    dp = np.zeros((m, n))\n",
    "    path = np.zeros((m, n), dtype=int)\n",
    "    \n",
    "    # Initialization\n",
    "    for i in range(m):\n",
    "        dp[i][0] = start_p[i] * emit_p[i][obs[0]]\n",
    "    \n",
    "    # Recursion\n",
    "    for t in range(1, n):\n",
    "        for i in range(m):\n",
    "            probabilities = [dp[j][t-1] * trans_p[j][i] * emit_p[i][obs[t]] for j in range(m)]\n",
    "            dp[i][t] = max(probabilities)\n",
    "            path[i][t] = np.argmax(probabilities)\n",
    "    \n",
    "    # Backtracking\n",
    "    best_path = [np.argmax(dp[:, n-1])]\n",
    "    for t in range(n-1, 0, -1):\n",
    "        best_path.insert(0, path[best_path[0]][t])\n",
    "    \n",
    "    return best_path"
   ]
  },
  {
   "cell_type": "code",
   "execution_count": 15,
   "id": "13b1f940-cad3-4795-9c78-277e9022b592",
   "metadata": {},
   "outputs": [],
   "source": [
    "\n",
    "# Example Data\n",
    "states = ['extron', 'Intron']\n",
    "observations = [0, 1, 0, 2]  # Example nucleotide mapping\n",
    "start_prob = [0.6, 0.4]\n",
    "trans_prob = [[0.7, 0.3], [0.4, 0.6]]\n",
    "emit_prob = [[0.5, 0.4, 0.1], [0.1, 0.1, 0.8]]"
   ]
  },
  {
   "cell_type": "code",
   "execution_count": 17,
   "id": "419b65cd-eabd-43d2-86a6-4a400712f3aa",
   "metadata": {},
   "outputs": [
    {
     "name": "stdout",
     "output_type": "stream",
     "text": [
      "Predicted Sequence of States: ['extron', 'extron', 'extron', 'Intron']\n"
     ]
    }
   ],
   "source": [
    "\n",
    "# Prediction\n",
    "result = viterbi(observations, states, start_prob, trans_prob, emit_prob)\n",
    "print(\"Predicted Sequence of States:\", [states[i] for i in result])\n"
   ]
  },
  {
   "cell_type": "code",
   "execution_count": null,
   "id": "fb866e1f-7dbf-4b0b-86c6-68acd02411f3",
   "metadata": {},
   "outputs": [],
   "source": []
  },
  {
   "cell_type": "code",
   "execution_count": null,
   "id": "40f59328-68f1-4260-bfe0-91028c0ed9ac",
   "metadata": {},
   "outputs": [],
   "source": []
  }
 ],
 "metadata": {
  "kernelspec": {
   "display_name": "Python 3 (ipykernel)",
   "language": "python",
   "name": "python3"
  },
  "language_info": {
   "codemirror_mode": {
    "name": "ipython",
    "version": 3
   },
   "file_extension": ".py",
   "mimetype": "text/x-python",
   "name": "python",
   "nbconvert_exporter": "python",
   "pygments_lexer": "ipython3",
   "version": "3.12.7"
  }
 },
 "nbformat": 4,
 "nbformat_minor": 5
}
