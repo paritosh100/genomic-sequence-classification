import pandas as pd

# Read CSV file directly from .gz
df = pd.read_csv('gene2ensembl.gz', compression='gzip')
print(df.head())
