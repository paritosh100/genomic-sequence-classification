{
 "cells": [
  {
   "cell_type": "markdown",
   "metadata": {
    "id": "59DLQSAO7PBm"
   },
   "source": [
    "# Tutorial - Deep Learning for Genomics\n",
    "\n",
    "\n",
    "\n",
    "In this tutorial we will use a convolutional neuronal network to address a fairly basic but common problem in genomics. Given a set of sequences belonging to different classes, what are the characteristics in the DNA sequence that let us distinguish the classes. For example, given a set of promoter and enhancer sequences, we could ask if there are any patterns in the DNA that let us distinguish between the two.\n",
    "\n",
    "For a 'simple' example, think of two ChIP-seq experiments for two different transcription factors. After analysing the ChIP-seq data, we know at what positions in the genome the two factors bind and the majority of binding sites might be distinct. If we extract the underlying sequences and search for DNA patterns that are enriched in the respective sets, we get an idea what DNA sequences the transcription factor might bind and/or which co-factors influence their binding.\n",
    "\n",
    "Traditionally, people use motif discovery tools for finding overrepresented words and motifs. However, if we move to slightly more complicated questions these methods quickly reach their limits and machine learning approaches become more promising.\n",
    "\n",
    "A more complicated question: If we have multiple sets of enhancers that are active in different tissues and cell types and we have the underlying sequences, can we figure out what sequence patterns are characteristic for what activity? And once we know that can we infer which factors are common and which are tissue specific?\n",
    "\n",
    "For our test dataset we have a simplfied, simulated version of such a task. We simulated 40,000 DNA sequences of length 200 bp. We split them into 4 enhancer classes and populated them with transcription factor binding motifs and other DNA patters to make them distinguishable. However, some motifs are shared between classes, they may overlap each other and are not necessarily perfect matches to the text book motifs. Thats much more how regulatory DNA actually looks like :)!\n",
    "\n",
    "We will use keras to build and train a small convolutional neuronal network to classify our enhancer sequences. Once this network is trained well, we can than investigate how the network has learned to distinguish between the classes and try to relate this back to transcriptions factor motifs and so on.\n",
    "\n",
    "------------\n",
    "\n",
    "You can run the tutorial in this colab notebook or checkout (and clone) the github repository (https://github.com/rschwess/tutorial_dl_for_genomics). From there you can either run everything in an interactive python or ipython session or (especially later when optimizing) just adjust and run python dl_intro.py in the terminal.\n",
    "\n",
    "----------------\n",
    "\n",
    "## Set up\n",
    "\n",
    "We will start by downloading the tutorial data. There are more data available on github if you want to work on a slightly more difficult set."
   ]
  },
  {
   "cell_type": "code",
   "execution_count": 3,
   "metadata": {
    "ExecuteTime": {
     "end_time": "2025-02-16T21:07:47.583526Z",
     "start_time": "2025-02-16T21:07:47.494278Z"
    }
   },
   "outputs": [
    {
     "name": "stdout",
     "output_type": "stream",
     "text": [
      "curl 8.9.1 (x86_64-pc-win32) libcurl/8.9.1 Schannel zlib/1.2.13 libssh2/1.11.0\n",
      "Release-Date: 2024-07-31\n",
      "Protocols: dict file ftp ftps gopher gophers http https imap imaps ipfs ipns ldap ldaps mqtt pop3 pop3s rtsp scp sftp smb smbs smtp smtps telnet tftp\n",
      "Features: alt-svc AsynchDNS HSTS HTTPS-proxy IPv6 Kerberos Largefile libz NTLM SPNEGO SSL SSPI threadsafe Unicode UnixSockets\n"
     ]
    }
   ],
   "source": [
    "!curl --version"
   ]
  },
  {
   "cell_type": "code",
   "execution_count": 7,
   "metadata": {},
   "outputs": [
    {
     "name": "stdout",
     "output_type": "stream",
     "text": [
      "curl 8.9.1 (x86_64-pc-win32) libcurl/8.9.1 Schannel zlib/1.2.13 libssh2/1.11.0\n",
      "Release-Date: 2024-07-31\n",
      "Protocols: dict file ftp ftps gopher gophers http https imap imaps ipfs ipns ldap ldaps mqtt pop3 pop3s rtsp scp sftp smb smbs smtp smtps telnet tftp\n",
      "Features: alt-svc AsynchDNS HSTS HTTPS-proxy IPv6 Kerberos Largefile libz NTLM SPNEGO SSL SSPI threadsafe Unicode UnixSockets\n"
     ]
    }
   ],
   "source": [
    "!curl --version"
   ]
  },
  {
   "cell_type": "code",
   "execution_count": 5,
   "metadata": {
    "ExecuteTime": {
     "end_time": "2025-02-16T20:52:45.167516Z",
     "start_time": "2025-02-16T20:52:44.714506Z"
    },
    "colab": {
     "base_uri": "https://localhost:8080/",
     "height": 173
    },
    "id": "68wKlyer7Hti",
    "outputId": "d3850ef3-0475-4bd8-b957-d5a27ac14daf"
   },
   "outputs": [
    {
     "name": "stderr",
     "output_type": "stream",
     "text": [
      "-bash: line 10: curl: command not found\n",
      "-bash: line 11: curl: command not found\n",
      "-bash: line 12: curl: command not found\n"
     ]
    },
    {
     "ename": "CalledProcessError",
     "evalue": "Command 'b'\\n# Download Example Data --------------------------------------------------------\\n\\nrm -rf ./sample_data/\\n\\nmkdir -p data\\n\\nrm -f ./data/*\\n\\ncurl https://raw.githubusercontent.com/rschwess/tutorial_dl_for_genomics/master/data/pwm_seq_200bp_test_set.txt >./data/pwm_seq_200bp_test_set.txt\\ncurl https://raw.githubusercontent.com/rschwess/tutorial_dl_for_genomics/master/data/pwm_seq_200bp_valid_set.txt >./data/pwm_seq_200bp_valid_set.txt\\ncurl https://raw.githubusercontent.com/rschwess/tutorial_dl_for_genomics/master/data/pwm_seq_200bp_train_set.txt >./data/pwm_seq_200bp_train_set.txt\\n'' returned non-zero exit status 127.",
     "output_type": "error",
     "traceback": [
      "\u001b[1;31m---------------------------------------------------------------------------\u001b[0m",
      "\u001b[1;31mCalledProcessError\u001b[0m                        Traceback (most recent call last)",
      "Cell \u001b[1;32mIn[5], line 1\u001b[0m\n\u001b[1;32m----> 1\u001b[0m \u001b[43mget_ipython\u001b[49m\u001b[43m(\u001b[49m\u001b[43m)\u001b[49m\u001b[38;5;241;43m.\u001b[39;49m\u001b[43mrun_cell_magic\u001b[49m\u001b[43m(\u001b[49m\u001b[38;5;124;43m'\u001b[39;49m\u001b[38;5;124;43mbash\u001b[39;49m\u001b[38;5;124;43m'\u001b[39;49m\u001b[43m,\u001b[49m\u001b[43m \u001b[49m\u001b[38;5;124;43m'\u001b[39;49m\u001b[38;5;124;43m'\u001b[39;49m\u001b[43m,\u001b[49m\u001b[43m \u001b[49m\u001b[38;5;124;43m'\u001b[39;49m\u001b[38;5;130;43;01m\\n\u001b[39;49;00m\u001b[38;5;124;43m# Download Example Data --------------------------------------------------------\u001b[39;49m\u001b[38;5;130;43;01m\\n\u001b[39;49;00m\u001b[38;5;130;43;01m\\n\u001b[39;49;00m\u001b[38;5;124;43mrm -rf ./sample_data/\u001b[39;49m\u001b[38;5;130;43;01m\\n\u001b[39;49;00m\u001b[38;5;130;43;01m\\n\u001b[39;49;00m\u001b[38;5;124;43mmkdir -p data\u001b[39;49m\u001b[38;5;130;43;01m\\n\u001b[39;49;00m\u001b[38;5;130;43;01m\\n\u001b[39;49;00m\u001b[38;5;124;43mrm -f ./data/*\u001b[39;49m\u001b[38;5;130;43;01m\\n\u001b[39;49;00m\u001b[38;5;130;43;01m\\n\u001b[39;49;00m\u001b[38;5;124;43mcurl https://raw.githubusercontent.com/rschwess/tutorial_dl_for_genomics/master/data/pwm_seq_200bp_test_set.txt >./data/pwm_seq_200bp_test_set.txt\u001b[39;49m\u001b[38;5;130;43;01m\\n\u001b[39;49;00m\u001b[38;5;124;43mcurl https://raw.githubusercontent.com/rschwess/tutorial_dl_for_genomics/master/data/pwm_seq_200bp_valid_set.txt >./data/pwm_seq_200bp_valid_set.txt\u001b[39;49m\u001b[38;5;130;43;01m\\n\u001b[39;49;00m\u001b[38;5;124;43mcurl https://raw.githubusercontent.com/rschwess/tutorial_dl_for_genomics/master/data/pwm_seq_200bp_train_set.txt >./data/pwm_seq_200bp_train_set.txt\u001b[39;49m\u001b[38;5;130;43;01m\\n\u001b[39;49;00m\u001b[38;5;124;43m'\u001b[39;49m\u001b[43m)\u001b[49m\n",
      "File \u001b[1;32m~\\AppData\\Roaming\\Python\\Python312\\site-packages\\IPython\\core\\interactiveshell.py:2541\u001b[0m, in \u001b[0;36mInteractiveShell.run_cell_magic\u001b[1;34m(self, magic_name, line, cell)\u001b[0m\n\u001b[0;32m   2539\u001b[0m \u001b[38;5;28;01mwith\u001b[39;00m \u001b[38;5;28mself\u001b[39m\u001b[38;5;241m.\u001b[39mbuiltin_trap:\n\u001b[0;32m   2540\u001b[0m     args \u001b[38;5;241m=\u001b[39m (magic_arg_s, cell)\n\u001b[1;32m-> 2541\u001b[0m     result \u001b[38;5;241m=\u001b[39m \u001b[43mfn\u001b[49m\u001b[43m(\u001b[49m\u001b[38;5;241;43m*\u001b[39;49m\u001b[43margs\u001b[49m\u001b[43m,\u001b[49m\u001b[43m \u001b[49m\u001b[38;5;241;43m*\u001b[39;49m\u001b[38;5;241;43m*\u001b[39;49m\u001b[43mkwargs\u001b[49m\u001b[43m)\u001b[49m\n\u001b[0;32m   2543\u001b[0m \u001b[38;5;66;03m# The code below prevents the output from being displayed\u001b[39;00m\n\u001b[0;32m   2544\u001b[0m \u001b[38;5;66;03m# when using magics with decorator @output_can_be_silenced\u001b[39;00m\n\u001b[0;32m   2545\u001b[0m \u001b[38;5;66;03m# when the last Python token in the expression is a ';'.\u001b[39;00m\n\u001b[0;32m   2546\u001b[0m \u001b[38;5;28;01mif\u001b[39;00m \u001b[38;5;28mgetattr\u001b[39m(fn, magic\u001b[38;5;241m.\u001b[39mMAGIC_OUTPUT_CAN_BE_SILENCED, \u001b[38;5;28;01mFalse\u001b[39;00m):\n",
      "File \u001b[1;32m~\\AppData\\Roaming\\Python\\Python312\\site-packages\\IPython\\core\\magics\\script.py:155\u001b[0m, in \u001b[0;36mScriptMagics._make_script_magic.<locals>.named_script_magic\u001b[1;34m(line, cell)\u001b[0m\n\u001b[0;32m    153\u001b[0m \u001b[38;5;28;01melse\u001b[39;00m:\n\u001b[0;32m    154\u001b[0m     line \u001b[38;5;241m=\u001b[39m script\n\u001b[1;32m--> 155\u001b[0m \u001b[38;5;28;01mreturn\u001b[39;00m \u001b[38;5;28;43mself\u001b[39;49m\u001b[38;5;241;43m.\u001b[39;49m\u001b[43mshebang\u001b[49m\u001b[43m(\u001b[49m\u001b[43mline\u001b[49m\u001b[43m,\u001b[49m\u001b[43m \u001b[49m\u001b[43mcell\u001b[49m\u001b[43m)\u001b[49m\n",
      "File \u001b[1;32m~\\AppData\\Roaming\\Python\\Python312\\site-packages\\IPython\\core\\magics\\script.py:315\u001b[0m, in \u001b[0;36mScriptMagics.shebang\u001b[1;34m(self, line, cell)\u001b[0m\n\u001b[0;32m    310\u001b[0m \u001b[38;5;28;01mif\u001b[39;00m args\u001b[38;5;241m.\u001b[39mraise_error \u001b[38;5;129;01mand\u001b[39;00m p\u001b[38;5;241m.\u001b[39mreturncode \u001b[38;5;241m!=\u001b[39m \u001b[38;5;241m0\u001b[39m:\n\u001b[0;32m    311\u001b[0m     \u001b[38;5;66;03m# If we get here and p.returncode is still None, we must have\u001b[39;00m\n\u001b[0;32m    312\u001b[0m     \u001b[38;5;66;03m# killed it but not yet seen its return code. We don't wait for it,\u001b[39;00m\n\u001b[0;32m    313\u001b[0m     \u001b[38;5;66;03m# in case it's stuck in uninterruptible sleep. -9 = SIGKILL\u001b[39;00m\n\u001b[0;32m    314\u001b[0m     rc \u001b[38;5;241m=\u001b[39m p\u001b[38;5;241m.\u001b[39mreturncode \u001b[38;5;129;01mor\u001b[39;00m \u001b[38;5;241m-\u001b[39m\u001b[38;5;241m9\u001b[39m\n\u001b[1;32m--> 315\u001b[0m     \u001b[38;5;28;01mraise\u001b[39;00m CalledProcessError(rc, cell)\n",
      "\u001b[1;31mCalledProcessError\u001b[0m: Command 'b'\\n# Download Example Data --------------------------------------------------------\\n\\nrm -rf ./sample_data/\\n\\nmkdir -p data\\n\\nrm -f ./data/*\\n\\ncurl https://raw.githubusercontent.com/rschwess/tutorial_dl_for_genomics/master/data/pwm_seq_200bp_test_set.txt >./data/pwm_seq_200bp_test_set.txt\\ncurl https://raw.githubusercontent.com/rschwess/tutorial_dl_for_genomics/master/data/pwm_seq_200bp_valid_set.txt >./data/pwm_seq_200bp_valid_set.txt\\ncurl https://raw.githubusercontent.com/rschwess/tutorial_dl_for_genomics/master/data/pwm_seq_200bp_train_set.txt >./data/pwm_seq_200bp_train_set.txt\\n'' returned non-zero exit status 127."
     ]
    }
   ],
   "source": [
    "%%bash\n",
    "\n",
    "# Download Example Data --------------------------------------------------------\n",
    "\n",
    "rm -rf ./sample_data/\n",
    "\n",
    "mkdir -p data\n",
    "\n",
    "rm -f ./data/*\n",
    "\n",
    "curl https://raw.githubusercontent.com/rschwess/tutorial_dl_for_genomics/master/data/pwm_seq_200bp_test_set.txt >./data/pwm_seq_200bp_test_set.txt\n",
    "curl https://raw.githubusercontent.com/rschwess/tutorial_dl_for_genomics/master/data/pwm_seq_200bp_valid_set.txt >./data/pwm_seq_200bp_valid_set.txt\n",
    "curl https://raw.githubusercontent.com/rschwess/tutorial_dl_for_genomics/master/data/pwm_seq_200bp_train_set.txt >./data/pwm_seq_200bp_train_set.txt\n"
   ]
  },
  {
   "cell_type": "code",
   "execution_count": 3,
   "metadata": {
    "ExecuteTime": {
     "end_time": "2025-02-16T21:09:17.586693Z",
     "start_time": "2025-02-16T21:09:17.141837Z"
    },
    "colab": {
     "base_uri": "https://localhost:8080/",
     "height": 173
    },
    "id": "bnkSDL5RY1ci",
    "outputId": "91d03521-ea52-44ba-8ef6-cdd72ea841be"
   },
   "outputs": [
    {
     "name": "stderr",
     "output_type": "stream",
     "text": [
      "W\u0000i\u0000n\u0000d\u0000o\u0000w\u0000s\u0000 \u0000S\u0000u\u0000b\u0000s\u0000y\u0000s\u0000t\u0000e\u0000m\u0000 \u0000f\u0000o\u0000r\u0000 \u0000L\u0000i\u0000n\u0000u\u0000x\u0000 \u0000m\u0000u\u0000s\u0000t\u0000 \u0000b\u0000e\u0000 \u0000u\u0000p\u0000d\u0000a\u0000t\u0000e\u0000d\u0000 \u0000t\u0000o\u0000 \u0000t\u0000h\u0000e\u0000 \u0000l\u0000a\u0000t\u0000e\u0000s\u0000t\u0000 \u0000v\u0000e\u0000r\u0000s\u0000i\u0000o\u0000n\u0000 \u0000t\u0000o\u0000 \u0000p\u0000r\u0000o\u0000c\u0000e\u0000e\u0000d\u0000.\u0000 \u0000Y\u0000o\u0000u\u0000 \u0000c\u0000a\u0000n\u0000 \u0000u\u0000p\u0000d\u0000a\u0000t\u0000e\u0000 \u0000b\u0000y\u0000 \u0000r\u0000u\u0000n\u0000n\u0000i\u0000n\u0000g\u0000 \u0000'\u0000w\u0000s\u0000l\u0000.\u0000e\u0000x\u0000e\u0000 \u0000-\u0000-\u0000u\u0000p\u0000d\u0000a\u0000t\u0000e\u0000'\u0000.\u0000\r",
      "\u0000\r",
      "\u0000\n",
      "\u0000F\u0000o\u0000r\u0000 \u0000m\u0000o\u0000r\u0000e\u0000 \u0000i\u0000n\u0000f\u0000o\u0000r\u0000m\u0000a\u0000t\u0000i\u0000o\u0000n\u0000 \u0000p\u0000l\u0000e\u0000a\u0000s\u0000e\u0000 \u0000v\u0000i\u0000s\u0000i\u0000t\u0000 \u0000h\u0000t\u0000t\u0000p\u0000s\u0000:\u0000/\u0000/\u0000a\u0000k\u0000a\u0000.\u0000m\u0000s\u0000/\u0000w\u0000s\u0000l\u0000i\u0000n\u0000s\u0000t\u0000a\u0000l\u0000l\u0000\r",
      "\u0000\r",
      "\u0000\n",
      "\u0000"
     ]
    },
    {
     "ename": "CalledProcessError",
     "evalue": "Command 'b'\\n# Create some directories and download helper scripts for later ----------------\\nmkdir -p helper visualize\\n\\ncurl https://raw.githubusercontent.com/rschwess/tutorial_dl_for_genomics/master/helper/functions_for_motif_plotting.R >./helper/functions_for_motif_plotting.R\\ncurl https://raw.githubusercontent.com/rschwess/tutorial_dl_for_genomics/master/helper/plot_sequence_kernel_weights_per_dir.R >./helper/plot_sequence_kernel_weights_per_dir.R\\ncurl https://raw.githubusercontent.com/rschwess/tutorial_dl_for_genomics/master/helper/plot_sequence_kernel_icms_per_dir.R >./helper/plot_sequence_kernel_icms_per_dir.R\\n'' returned non-zero exit status 1.",
     "output_type": "error",
     "traceback": [
      "\u001b[1;31m---------------------------------------------------------------------------\u001b[0m",
      "\u001b[1;31mCalledProcessError\u001b[0m                        Traceback (most recent call last)",
      "\u001b[1;32m<ipython-input-3-8b581feb6fab>\u001b[0m in \u001b[0;36m<module>\u001b[1;34m\u001b[0m\n\u001b[1;32m----> 1\u001b[1;33m \u001b[0mget_ipython\u001b[0m\u001b[1;33m(\u001b[0m\u001b[1;33m)\u001b[0m\u001b[1;33m.\u001b[0m\u001b[0mrun_cell_magic\u001b[0m\u001b[1;33m(\u001b[0m\u001b[1;34m'bash'\u001b[0m\u001b[1;33m,\u001b[0m \u001b[1;34m''\u001b[0m\u001b[1;33m,\u001b[0m \u001b[1;34m'\\n# Create some directories and download helper scripts for later ----------------\\nmkdir -p helper visualize\\n\\ncurl https://raw.githubusercontent.com/rschwess/tutorial_dl_for_genomics/master/helper/functions_for_motif_plotting.R >./helper/functions_for_motif_plotting.R\\ncurl https://raw.githubusercontent.com/rschwess/tutorial_dl_for_genomics/master/helper/plot_sequence_kernel_weights_per_dir.R >./helper/plot_sequence_kernel_weights_per_dir.R\\ncurl https://raw.githubusercontent.com/rschwess/tutorial_dl_for_genomics/master/helper/plot_sequence_kernel_icms_per_dir.R >./helper/plot_sequence_kernel_icms_per_dir.R\\n'\u001b[0m\u001b[1;33m)\u001b[0m\u001b[1;33m\u001b[0m\u001b[1;33m\u001b[0m\u001b[0m\n\u001b[0m",
      "\u001b[1;32m~\\anaconda3\\lib\\site-packages\\IPython\\core\\interactiveshell.py\u001b[0m in \u001b[0;36mrun_cell_magic\u001b[1;34m(self, magic_name, line, cell)\u001b[0m\n\u001b[0;32m   2369\u001b[0m             \u001b[1;32mwith\u001b[0m \u001b[0mself\u001b[0m\u001b[1;33m.\u001b[0m\u001b[0mbuiltin_trap\u001b[0m\u001b[1;33m:\u001b[0m\u001b[1;33m\u001b[0m\u001b[1;33m\u001b[0m\u001b[0m\n\u001b[0;32m   2370\u001b[0m                 \u001b[0margs\u001b[0m \u001b[1;33m=\u001b[0m \u001b[1;33m(\u001b[0m\u001b[0mmagic_arg_s\u001b[0m\u001b[1;33m,\u001b[0m \u001b[0mcell\u001b[0m\u001b[1;33m)\u001b[0m\u001b[1;33m\u001b[0m\u001b[1;33m\u001b[0m\u001b[0m\n\u001b[1;32m-> 2371\u001b[1;33m                 \u001b[0mresult\u001b[0m \u001b[1;33m=\u001b[0m \u001b[0mfn\u001b[0m\u001b[1;33m(\u001b[0m\u001b[1;33m*\u001b[0m\u001b[0margs\u001b[0m\u001b[1;33m,\u001b[0m \u001b[1;33m**\u001b[0m\u001b[0mkwargs\u001b[0m\u001b[1;33m)\u001b[0m\u001b[1;33m\u001b[0m\u001b[1;33m\u001b[0m\u001b[0m\n\u001b[0m\u001b[0;32m   2372\u001b[0m             \u001b[1;32mreturn\u001b[0m \u001b[0mresult\u001b[0m\u001b[1;33m\u001b[0m\u001b[1;33m\u001b[0m\u001b[0m\n\u001b[0;32m   2373\u001b[0m \u001b[1;33m\u001b[0m\u001b[0m\n",
      "\u001b[1;32m~\\anaconda3\\lib\\site-packages\\IPython\\core\\magics\\script.py\u001b[0m in \u001b[0;36mnamed_script_magic\u001b[1;34m(line, cell)\u001b[0m\n\u001b[0;32m    140\u001b[0m             \u001b[1;32melse\u001b[0m\u001b[1;33m:\u001b[0m\u001b[1;33m\u001b[0m\u001b[1;33m\u001b[0m\u001b[0m\n\u001b[0;32m    141\u001b[0m                 \u001b[0mline\u001b[0m \u001b[1;33m=\u001b[0m \u001b[0mscript\u001b[0m\u001b[1;33m\u001b[0m\u001b[1;33m\u001b[0m\u001b[0m\n\u001b[1;32m--> 142\u001b[1;33m             \u001b[1;32mreturn\u001b[0m \u001b[0mself\u001b[0m\u001b[1;33m.\u001b[0m\u001b[0mshebang\u001b[0m\u001b[1;33m(\u001b[0m\u001b[0mline\u001b[0m\u001b[1;33m,\u001b[0m \u001b[0mcell\u001b[0m\u001b[1;33m)\u001b[0m\u001b[1;33m\u001b[0m\u001b[1;33m\u001b[0m\u001b[0m\n\u001b[0m\u001b[0;32m    143\u001b[0m \u001b[1;33m\u001b[0m\u001b[0m\n\u001b[0;32m    144\u001b[0m         \u001b[1;31m# write a basic docstring:\u001b[0m\u001b[1;33m\u001b[0m\u001b[1;33m\u001b[0m\u001b[1;33m\u001b[0m\u001b[0m\n",
      "\u001b[1;32m<decorator-gen-104>\u001b[0m in \u001b[0;36mshebang\u001b[1;34m(self, line, cell)\u001b[0m\n",
      "\u001b[1;32m~\\anaconda3\\lib\\site-packages\\IPython\\core\\magic.py\u001b[0m in \u001b[0;36m<lambda>\u001b[1;34m(f, *a, **k)\u001b[0m\n\u001b[0;32m    185\u001b[0m     \u001b[1;31m# but it's overkill for just that one bit of state.\u001b[0m\u001b[1;33m\u001b[0m\u001b[1;33m\u001b[0m\u001b[1;33m\u001b[0m\u001b[0m\n\u001b[0;32m    186\u001b[0m     \u001b[1;32mdef\u001b[0m \u001b[0mmagic_deco\u001b[0m\u001b[1;33m(\u001b[0m\u001b[0marg\u001b[0m\u001b[1;33m)\u001b[0m\u001b[1;33m:\u001b[0m\u001b[1;33m\u001b[0m\u001b[1;33m\u001b[0m\u001b[0m\n\u001b[1;32m--> 187\u001b[1;33m         \u001b[0mcall\u001b[0m \u001b[1;33m=\u001b[0m \u001b[1;32mlambda\u001b[0m \u001b[0mf\u001b[0m\u001b[1;33m,\u001b[0m \u001b[1;33m*\u001b[0m\u001b[0ma\u001b[0m\u001b[1;33m,\u001b[0m \u001b[1;33m**\u001b[0m\u001b[0mk\u001b[0m\u001b[1;33m:\u001b[0m \u001b[0mf\u001b[0m\u001b[1;33m(\u001b[0m\u001b[1;33m*\u001b[0m\u001b[0ma\u001b[0m\u001b[1;33m,\u001b[0m \u001b[1;33m**\u001b[0m\u001b[0mk\u001b[0m\u001b[1;33m)\u001b[0m\u001b[1;33m\u001b[0m\u001b[1;33m\u001b[0m\u001b[0m\n\u001b[0m\u001b[0;32m    188\u001b[0m \u001b[1;33m\u001b[0m\u001b[0m\n\u001b[0;32m    189\u001b[0m         \u001b[1;32mif\u001b[0m \u001b[0mcallable\u001b[0m\u001b[1;33m(\u001b[0m\u001b[0marg\u001b[0m\u001b[1;33m)\u001b[0m\u001b[1;33m:\u001b[0m\u001b[1;33m\u001b[0m\u001b[1;33m\u001b[0m\u001b[0m\n",
      "\u001b[1;32m~\\anaconda3\\lib\\site-packages\\IPython\\core\\magics\\script.py\u001b[0m in \u001b[0;36mshebang\u001b[1;34m(self, line, cell)\u001b[0m\n\u001b[0;32m    243\u001b[0m             \u001b[0msys\u001b[0m\u001b[1;33m.\u001b[0m\u001b[0mstderr\u001b[0m\u001b[1;33m.\u001b[0m\u001b[0mflush\u001b[0m\u001b[1;33m(\u001b[0m\u001b[1;33m)\u001b[0m\u001b[1;33m\u001b[0m\u001b[1;33m\u001b[0m\u001b[0m\n\u001b[0;32m    244\u001b[0m         \u001b[1;32mif\u001b[0m \u001b[0margs\u001b[0m\u001b[1;33m.\u001b[0m\u001b[0mraise_error\u001b[0m \u001b[1;32mand\u001b[0m \u001b[0mp\u001b[0m\u001b[1;33m.\u001b[0m\u001b[0mreturncode\u001b[0m\u001b[1;33m!=\u001b[0m\u001b[1;36m0\u001b[0m\u001b[1;33m:\u001b[0m\u001b[1;33m\u001b[0m\u001b[1;33m\u001b[0m\u001b[0m\n\u001b[1;32m--> 245\u001b[1;33m             \u001b[1;32mraise\u001b[0m \u001b[0mCalledProcessError\u001b[0m\u001b[1;33m(\u001b[0m\u001b[0mp\u001b[0m\u001b[1;33m.\u001b[0m\u001b[0mreturncode\u001b[0m\u001b[1;33m,\u001b[0m \u001b[0mcell\u001b[0m\u001b[1;33m,\u001b[0m \u001b[0moutput\u001b[0m\u001b[1;33m=\u001b[0m\u001b[0mout\u001b[0m\u001b[1;33m,\u001b[0m \u001b[0mstderr\u001b[0m\u001b[1;33m=\u001b[0m\u001b[0merr\u001b[0m\u001b[1;33m)\u001b[0m\u001b[1;33m\u001b[0m\u001b[1;33m\u001b[0m\u001b[0m\n\u001b[0m\u001b[0;32m    246\u001b[0m \u001b[1;33m\u001b[0m\u001b[0m\n\u001b[0;32m    247\u001b[0m     \u001b[1;32mdef\u001b[0m \u001b[0m_run_script\u001b[0m\u001b[1;33m(\u001b[0m\u001b[0mself\u001b[0m\u001b[1;33m,\u001b[0m \u001b[0mp\u001b[0m\u001b[1;33m,\u001b[0m \u001b[0mcell\u001b[0m\u001b[1;33m,\u001b[0m \u001b[0mto_close\u001b[0m\u001b[1;33m)\u001b[0m\u001b[1;33m:\u001b[0m\u001b[1;33m\u001b[0m\u001b[1;33m\u001b[0m\u001b[0m\n",
      "\u001b[1;31mCalledProcessError\u001b[0m: Command 'b'\\n# Create some directories and download helper scripts for later ----------------\\nmkdir -p helper visualize\\n\\ncurl https://raw.githubusercontent.com/rschwess/tutorial_dl_for_genomics/master/helper/functions_for_motif_plotting.R >./helper/functions_for_motif_plotting.R\\ncurl https://raw.githubusercontent.com/rschwess/tutorial_dl_for_genomics/master/helper/plot_sequence_kernel_weights_per_dir.R >./helper/plot_sequence_kernel_weights_per_dir.R\\ncurl https://raw.githubusercontent.com/rschwess/tutorial_dl_for_genomics/master/helper/plot_sequence_kernel_icms_per_dir.R >./helper/plot_sequence_kernel_icms_per_dir.R\\n'' returned non-zero exit status 1."
     ]
    }
   ],
   "source": [
    "%%bash\n",
    "\n",
    "# Create some directories and download helper scripts for later ----------------\n",
    "mkdir -p helper visualize\n",
    "\n",
    "curl https://raw.githubusercontent.com/rschwess/tutorial_dl_for_genomics/master/helper/functions_for_motif_plotting.R >./helper/functions_for_motif_plotting.R\n",
    "curl https://raw.githubusercontent.com/rschwess/tutorial_dl_for_genomics/master/helper/plot_sequence_kernel_weights_per_dir.R >./helper/plot_sequence_kernel_weights_per_dir.R\n",
    "curl https://raw.githubusercontent.com/rschwess/tutorial_dl_for_genomics/master/helper/plot_sequence_kernel_icms_per_dir.R >./helper/plot_sequence_kernel_icms_per_dir.R\n"
   ]
  },
  {
   "cell_type": "markdown",
   "metadata": {
    "id": "-7YlfP_RIPUd"
   },
   "source": [
    "Lets start by looking at the data. We have 40,000 sequences and they are all labeled with their respective class. We already split them up into taining, test and validation set. It is also a good idea to check if our classes are roughly equally distributed across our different sets."
   ]
  },
  {
   "cell_type": "code",
   "execution_count": null,
   "metadata": {
    "colab": {
     "base_uri": "https://localhost:8080/",
     "height": 538
    },
    "id": "2xI_e2JEIPhX",
    "outputId": "84ac5432-cec2-4568-8eda-b4332caed3ef"
   },
   "outputs": [
    {
     "name": "stdout",
     "output_type": "stream",
     "text": [
      "Numbers:\n",
      "   1000 ./data/pwm_seq_200bp_test_set.txt\n",
      "  38000 ./data/pwm_seq_200bp_train_set.txt\n",
      "   1000 ./data/pwm_seq_200bp_valid_set.txt\n",
      "  40000 total\n",
      "\n",
      "Format\n",
      "3\tATGGCTGATAATGACGATTGTACAGATGGTGGATGAGATTGCCTCGTCCCGGCAGCATTACCCCCTGGTGGCAACGGCCACCAGGGGGCAATAAATCTGTGTCTTATCTCCGAGACCAAACAATTCCACAGCCTCTTATACAGCACCGAATGGACCGCCCCCTGGTGGCCAGGTATCGTCGAGGGCTCAATTAAACTCCT\n",
      "1\tGCAGGCATTATGAGGTAATAAACTCAGCGCGTGTTGAGATAAGATTCTAAGCGGCGCGCGCGCGCGACCGCGAGAAGTGGAGATTAAGCGCGCTAATGGTGTGTCCGATAGTCACGTGTCCGCGCGGCGCGCGCCATGTATGTTCTGTTCTGCGCGCCGCGCTTTGCGCGCGCGCTTGGTATATAAAGCTGGGTTTTAAT\n",
      "1\tGGCGCGCCTGGCATTTCTTAGAGAGGCGCGCAATACAACGAGAATCACCTAGAAGCCGTGTCTGTTGCTTATCACCGTTCGCCTAGGCCGCACGGGCACGTGGGTCTCCCGTTCCCTCAATCCTAACAGAAGCGCGCTAAGTCGTCGTTGGCTCTCTTACTAGCAGCGCGCCTGTACTAACCCGGCACTCGGCGGTGGGC\n",
      "\n",
      "Class Representations:\n",
      "\n",
      "Training:\n",
      "   9489 0\n",
      "   9513 1\n",
      "   9508 2\n",
      "   9490 3\n",
      "\n",
      "Test:\n",
      "    268 0\n",
      "    237 1\n",
      "    243 2\n",
      "    252 3\n",
      "\n",
      "Validation:\n",
      "    243 0\n",
      "    250 1\n",
      "    249 2\n",
      "    258 3\n"
     ]
    }
   ],
   "source": [
    "%%bash\n",
    "\n",
    "# Check Data Layout ###########################\n",
    "\n",
    "# check lines per set\n",
    "echo \"Numbers:\"\n",
    "wc -l ./data/pwm*\n",
    "\n",
    "# check data format\n",
    "echo -ne \"\\nFormat\\n\"\n",
    "head -n 3 ./data/pwm_seq_200bp_test_set.txt\n",
    "\n",
    "# check class representation\n",
    "echo -ne \"\\nClass Representations:\\n\"\n",
    "\n",
    "echo -ne \"\\nTraining:\\n\"\n",
    "cut -f 1 ./data/pwm_seq_200bp_train_set.txt | sort | uniq -c\n",
    "echo -ne \"\\nTest:\\n\"\n",
    "cut -f 1 ./data/pwm_seq_200bp_test_set.txt | sort | uniq -c\n",
    "echo -ne \"\\nValidation:\\n\"\n",
    "cut -f 1 ./data/pwm_seq_200bp_valid_set.txt | sort | uniq -c\n",
    "\n"
   ]
  },
  {
   "cell_type": "markdown",
   "metadata": {
    "id": "lpkUq8kjKv8s"
   },
   "source": [
    "\n",
    "Looks good, lets move straight in! We will use keras with tensorflow as its backend. Keras is ideal for quickly writing down and prototyping networks in just a few lines of code. The documentation site will be usefull throught the tutorial https://keras.io/.\n",
    "\n",
    "We import keras and the relevant layers and operations we need.\n"
   ]
  },
  {
   "cell_type": "code",
   "execution_count": null,
   "metadata": {
    "id": "2XjUxMEwKwMp"
   },
   "outputs": [],
   "source": [
    "# IMPORTING MODULES\n",
    "\n",
    "# import keras\n",
    "# from keras.models import Sequential\n",
    "# from keras.layers import Dense, Flatten\n",
    "# from keras.layers import Conv1D, MaxPooling1D\n",
    "from tensorflow.keras.layers import Conv1D, Dense, MaxPooling1D, Flatten\n",
    "from tensorflow.keras.models import Sequential\n",
    "import numpy as np\n",
    "import os\n",
    "import matplotlib.pyplot as plt"
   ]
  },
  {
   "cell_type": "markdown",
   "metadata": {
    "id": "OCzDfI2mK898"
   },
   "source": [
    "I wrote two helper functions to convert the sequences into hot encoded sequences and a wrapper to read in and assemble the data. Feel free to skip over this but you might want to have a quick look and understand how we format the data. The hot encoding transforms the sequence into an X x 4 array whith rows corresponding to the sequence position and the columns representing the 4 DNA bases. The respective base column that matches the sequence at that position is 1 the rest 0.\n"
   ]
  },
  {
   "cell_type": "code",
   "execution_count": null,
   "metadata": {
    "id": "XnubGHyAK9IA"
   },
   "outputs": [],
   "source": [
    "# Helper Function  get hotcoded sequence\n",
    "def get_hot_coded_seq(sequence):\n",
    "    \"\"\"Convert a 4 base letter sequence to 4-row x-cols hot coded sequence\"\"\"\n",
    "    # initialise empty\n",
    "    hotsequence = np.zeros((len(sequence),4))\n",
    "    # set hot code 1 according to gathered sequence\n",
    "    for i in range(len(sequence)):\n",
    "        if sequence[i] == 'A':\n",
    "            hotsequence[i,0] = 1\n",
    "        elif sequence[i] == 'C':\n",
    "            hotsequence[i,1] = 1\n",
    "        elif sequence[i] == 'G':\n",
    "            hotsequence[i,2] = 1\n",
    "        elif sequence[i] == 'T':\n",
    "            hotsequence[i,3] = 1\n",
    "    # return the numpy array\n",
    "    return hotsequence\n",
    "\n",
    "# Helper function to read in the labels and seqs and store as hot encoded np array\n",
    "def read_data(infile):\n",
    "    # read file in\n",
    "    with open(infile, \"r\") as f:\n",
    "        seqs = []\n",
    "        labels = []\n",
    "        for i,l in enumerate(f):\n",
    "            l = l.rstrip()\n",
    "            l = l.split(\"\\t\")\n",
    "            seqs.append(l[1])\n",
    "            labels.append(l[0])\n",
    "    # make labels np.array\n",
    "    labels = np.array(labels)\n",
    "    # convert to one_hot_labels\n",
    "    hot_labels = keras.utils.to_categorical(labels, num_classes=4)\n",
    "    # make seqs np.array\n",
    "    hot_seqs = np.zeros( (len(seqs), 200, 4) )\n",
    "    # fill with hot encoded sequences\n",
    "    for j in range(len(seqs)):\n",
    "        hotsequence = get_hot_coded_seq(seqs[j])\n",
    "        hot_seqs[j,] = hotsequence\n",
    "    return hot_labels, hot_seqs\n",
    "\n"
   ]
  },
  {
   "cell_type": "markdown",
   "metadata": {
    "id": "l8J-AlxKLLSf"
   },
   "source": [
    "Now we can read in the data.\n"
   ]
  },
  {
   "cell_type": "code",
   "execution_count": null,
   "metadata": {
    "id": "FRT4zlKdLOlk"
   },
   "outputs": [],
   "source": [
    "# read data --------------------------------------------------------------------\n",
    "train_file = \"./data/pwm_seq_200bp_train_set.txt\"\n",
    "train_labels, train_seqs = read_data(train_file)\n",
    "valid_file = \"./data/pwm_seq_200bp_valid_set.txt\"\n",
    "valid_labels, valid_seqs = read_data(valid_file)"
   ]
  },
  {
   "cell_type": "markdown",
   "metadata": {
    "id": "EKscmL-6LUWo"
   },
   "source": [
    "Lets check how the data looks like after we read it into python and hot encoded it."
   ]
  },
  {
   "cell_type": "code",
   "execution_count": null,
   "metadata": {
    "colab": {
     "base_uri": "https://localhost:8080/",
     "height": 312
    },
    "id": "r0ajVoy3LTy4",
    "outputId": "8a984a77-6638-4848-8507-e0e865b9cecd"
   },
   "outputs": [
    {
     "name": "stdout",
     "output_type": "stream",
     "text": [
      "Train Seq Shape (38000, 200, 4)\n",
      "Train Label Shape (38000, 4)\n",
      "Labels Format:\n",
      "[[1. 0. 0. 0.]\n",
      " [0. 0. 1. 0.]\n",
      " [0. 1. 0. 0.]\n",
      " [0. 0. 0. 1.]]\n",
      "Seq Format (first 10 bp):\n",
      "[[0. 0. 0. 1.]\n",
      " [0. 0. 0. 1.]\n",
      " [0. 0. 1. 0.]\n",
      " [0. 1. 0. 0.]\n",
      " [0. 0. 1. 0.]\n",
      " [0. 1. 0. 0.]\n",
      " [0. 0. 1. 0.]\n",
      " [0. 1. 0. 0.]\n",
      " [0. 1. 0. 0.]]\n"
     ]
    }
   ],
   "source": [
    "# Check Data in Python ---------------------------------------------------------\n",
    "\n",
    "# check shapes\n",
    "print(\"Train Seq Shape\", train_seqs.shape)\n",
    "print(\"Train Label Shape\", train_labels.shape)\n",
    "\n",
    "# check data format\n",
    "print(\"Labels Format:\")\n",
    "print(train_labels[1:5])\n",
    "print(\"Seq Format (first 10 bp):\")\n",
    "print(train_seqs[1, 1:10,:])"
   ]
  },
  {
   "cell_type": "markdown",
   "metadata": {
    "id": "itcX25I4L6Gb"
   },
   "source": [
    "\n",
    "The labels have a one hot encoding where every column represents a different class and in this case only one class can be active at a time.\n",
    "\n",
    "The sequences have shape [sample x sequence_length x base]. We encod the 4 DNA bases as \"channels\" a term borrowed from image analysis you will encounter a lot when working with tensorlfow. For comparison a set of 2D images would have the dimensions [sample x pixel_rows x pixel_columns x colour_channels]. A grey scale picture would have only one channel while RGB images have three. We can thus think of our sequence as a 1D image with 4 channels."
   ]
  },
  {
   "cell_type": "markdown",
   "metadata": {
    "id": "-if6bqKaSE1x"
   },
   "source": [
    "## Building the Network\n",
    "\n",
    "We now define our network. We first set some global and network architecture options and put them all together in the keras sequential mode. The sequential mode is an easy wrapper for linearly stacked networks that makes your code even more concise. We just define the model to be sequential and than add/stack layer after layer. Here we use a simple convolutional architecture.\n",
    "\n",
    "* Our first layer is a 1D convolution over the input:\n",
    "  * We use a 1D convolution because we only want the filter to move along the sequence axis and map the channels to the hidden units.\n",
    "  * We start with 10 hidden units or filters or kernels which are all of length 5 (bp)\n",
    "  * We use the RELU activation function\n",
    "  * We also define the input shape and how to pad the input if necessary (see doc.)\n",
    "* We next perform max pooling where we take the maximum of a window of 5 consecutive activation values\n",
    "  * This reduces the data dimension, thus simplifying the model and speeding up further computations\n",
    "  * But it also enforces some extend of positional invariance into our model. For example, if we have a match to transcription factor motif in our sequence, we don't necessarily care where exactly this motif lies and a few bp up- or downstream shouldn't make a difference to our predictions.\n",
    "* We then \"Flatten\" the activation values to a 1 dimensional vector\n",
    "* And apply a fully connected or \"Dense\" layer connecting every value in the 1D vector to every class prediction\n",
    "  * We use the sigmoid (softmax) activation function to perform effectively a multinomial logistic regression\n",
    "\n",
    "The number of hidden units, the size of the kernel, the pooling size, but also the number and types of layers we use in the network are usually called hyperparameters. The most work in DL usually comes down to finding the right hyperparameters that let our network training converge and that give us the best possible (at least the best we are able to find) accuracies.\n",
    "\n",
    "We set some reasonable choices to begin with. But your task will be to play with these hyperparameters and see how well you can tune the model with a few adjustments."
   ]
  },
  {
   "cell_type": "code",
   "execution_count": null,
   "metadata": {
    "colab": {
     "base_uri": "https://localhost:8080/",
     "height": 89
    },
    "id": "L3eVN0jEL5Ev",
    "outputId": "2bc6623c-c089-4991-a1db-edfeaa6a7433"
   },
   "outputs": [
    {
     "name": "stderr",
     "output_type": "stream",
     "text": [
      "W0820 15:12:48.162098 140558602651520 deprecation.py:506] From /usr/local/lib/python3.6/dist-packages/tensorflow/python/ops/init_ops.py:1251: calling VarianceScaling.__init__ (from tensorflow.python.ops.init_ops) with dtype is deprecated and will be removed in a future version.\n",
      "Instructions for updating:\n",
      "Call initializer instance with the dtype argument instead of passing it to the constructor\n"
     ]
    }
   ],
   "source": [
    "# Define the Model Architecture ------------------------------------------------\n",
    "# global options\n",
    "num_classes = 4\n",
    "\n",
    "# network architecture options\n",
    "conv1_hidden_units = 10\n",
    "conv1_filter_size = 5\n",
    "maxpool1_width = 5\n",
    "\n",
    "# construct the model ----------------------------------------------------------\n",
    "model = Sequential()\n",
    "model.add(Conv1D(conv1_hidden_units, kernel_size=(conv1_filter_size), activation='relu', input_shape=(200, 4), padding='same'))\n",
    "model.add(MaxPooling1D(pool_size=maxpool1_width))\n",
    "model.add(Flatten())\n",
    "model.add(Dense(num_classes, activation='softmax'))"
   ]
  },
  {
   "cell_type": "markdown",
   "metadata": {
    "id": "IlU4fVZHSsdS"
   },
   "source": [
    "Next we compile the model. We use adam as our optimizer. Since the classes are mutually exclusive we select the binary_crossentropy as our loss function and we want to monitor the accuracy during training.\n",
    "\n",
    "We also print a summary of our network telling us the data shapes throught the network and sumarizing the number of trainable parameters in our model."
   ]
  },
  {
   "cell_type": "code",
   "execution_count": null,
   "metadata": {
    "colab": {
     "base_uri": "https://localhost:8080/",
     "height": 295
    },
    "id": "OZPCH5WASxLr",
    "outputId": "e1917d3d-ec84-43cb-c01f-d7baf76828a4"
   },
   "outputs": [
    {
     "name": "stdout",
     "output_type": "stream",
     "text": [
      "Model: \"sequential\"\n",
      "_________________________________________________________________\n",
      "Layer (type)                 Output Shape              Param #   \n",
      "=================================================================\n",
      "conv1d (Conv1D)              (None, 200, 10)           210       \n",
      "_________________________________________________________________\n",
      "max_pooling1d (MaxPooling1D) (None, 40, 10)            0         \n",
      "_________________________________________________________________\n",
      "flatten (Flatten)            (None, 400)               0         \n",
      "_________________________________________________________________\n",
      "dense (Dense)                (None, 4)                 1604      \n",
      "=================================================================\n",
      "Total params: 1,814\n",
      "Trainable params: 1,814\n",
      "Non-trainable params: 0\n",
      "_________________________________________________________________\n"
     ]
    }
   ],
   "source": [
    "# compile ----------------------------------------------------------------------\n",
    "model.compile(optimizer='adam',\n",
    "              loss='categorical_crossentropy',\n",
    "              metrics=['accuracy'])\n",
    "\n",
    "# print model summary ----------------------------------------------------------\n",
    "model.summary()\n",
    "\n"
   ]
  },
  {
   "cell_type": "markdown",
   "metadata": {
    "id": "PO8y82o2TFX9"
   },
   "source": [
    "## Training\n",
    "\n",
    "Now that we have our model set up we can train it. We feed the model with our training sequences and labels, we define a batch size (since we are training in batch mode) and set the number of epochs (cycles through the training data) we want to train for. Five epochs should be fine for us feel free to ramp this up a bit and see if you get improvements or if the learning plateus quickly."
   ]
  },
  {
   "cell_type": "code",
   "execution_count": null,
   "metadata": {
    "colab": {
     "base_uri": "https://localhost:8080/",
     "height": 104
    },
    "id": "MhvQukq1TPXU",
    "outputId": "d960e4e4-2f23-4ab7-816a-3b1a5fee2749"
   },
   "outputs": [
    {
     "name": "stdout",
     "output_type": "stream",
     "text": [
      "Train on 38000 samples, validate on 1000 samples\n",
      "Epoch 1/2\n",
      "38000/38000 [==============================] - 5s 125us/sample - loss: 0.8327 - acc: 0.6522 - val_loss: 0.5405 - val_acc: 0.7880\n",
      "Epoch 2/2\n",
      "38000/38000 [==============================] - 5s 120us/sample - loss: 0.4508 - acc: 0.8284 - val_loss: 0.4049 - val_acc: 0.8520\n"
     ]
    }
   ],
   "source": [
    "# Training Options\n",
    "batch_size = 100\n",
    "epochs = 2\n",
    "\n",
    "# Train ------------------------------------------------------------------------\n",
    "history = model.fit(train_seqs, train_labels,\n",
    "          batch_size=batch_size,\n",
    "          epochs=epochs,\n",
    "          verbose=1,\n",
    "          validation_data=(valid_seqs, valid_labels))"
   ]
  },
  {
   "cell_type": "markdown",
   "metadata": {
    "id": "srhT4-NcTWzz"
   },
   "source": [
    "You will notice that we stored the training output in a **history** variable. We can use this variable to monitor the loss function and accuracy over the training progress."
   ]
  },
  {
   "cell_type": "code",
   "execution_count": null,
   "metadata": {
    "colab": {
     "base_uri": "https://localhost:8080/",
     "height": 573
    },
    "id": "aBkXtzyoTXCI",
    "outputId": "d070468e-d8b1-4efe-9665-ff1292f893a1"
   },
   "outputs": [
    {
     "data": {
      "image/png": "[encoded data removed]",
      "text/plain": [
       "<Figure size 432x288 with 1 Axes>"
      ]
     },
     "metadata": {
      "tags": []
     },
     "output_type": "display_data"
    },
    {
     "data": {
      "image/png": "[encoded data removed]",
      "text/plain": [
       "<Figure size 432x288 with 1 Axes>"
      ]
     },
     "metadata": {
      "tags": []
     },
     "output_type": "display_data"
    }
   ],
   "source": [
    "# Plot Training and Validation Loss ------------------------------\n",
    "plt.figure()\n",
    "plt.plot(history.history['loss'])\n",
    "plt.plot(history.history['val_loss'])\n",
    "plt.title('model loss')\n",
    "plt.ylabel('loss')\n",
    "plt.xlabel('epoch')\n",
    "plt.legend(['train', 'validation'])\n",
    "plt.show()\n",
    "\n",
    "# Plot Training and Validation Accuracy ------------------------------\n",
    "plt.figure()\n",
    "plt.plot(history.history['acc'])\n",
    "plt.plot(history.history['val_acc'])\n",
    "plt.title('model accuracy')\n",
    "plt.ylabel('accuracy')\n",
    "plt.xlabel('epoch')\n",
    "plt.legend(['train', 'validation'])\n",
    "plt.show()"
   ]
  },
  {
   "cell_type": "markdown",
   "metadata": {
    "id": "J3sAKG3hV_CQ"
   },
   "source": [
    "Looks alright, the training as well as the validation accuracy is climbing from epoch to epoch and slows down a little more after every epoch. It is now your task to find better hyperparameters for our network and training procedure to see how high up you can get the accuracy. For doing that, I suggest taking dl_intro.py, commenting out all the code after the training, adjust your hyperparameters and/or network architectures how you like and running it in the terminal via python dl_intro.py.\n",
    "\n",
    "Tipps:\n",
    "\n",
    "* Should we train longer?\n",
    "* Do we need more hidden layers?\n",
    "* Could we max pool over the entire sequence to get one output per filter?\n",
    "* Would a second layer be beneficial?\n",
    "* You could also bias the network architechture with some biological knowledge: How long are transcription factor binding motifs in general and what would be an appropriate filter_width then?\n",
    "\n",
    "(Hint: you can do pretty well in 5 - 10 epochs with minor tweaks!)\n"
   ]
  },
  {
   "cell_type": "markdown",
   "metadata": {
    "id": "Pl7Z7qITWNoP"
   },
   "source": [
    "Evaluation and Prediction\n",
    "\n",
    "Once you are happy with you network performance or in case you want to jump ahead first and optimize later, we will evaluate our network on the held out validation data. Technically, we only optimized on the training data set but we always kept an eye on the validation data loss as well. We are discarding all nets that do well on the training but worse at the validation (overfitted), therefore we always have an intrinsic bias. The test data set is meant to have never been touched throughout the whole optimization process and we evaluate the perormance of our final model on this set to get an unbiased estimate of its performance."
   ]
  },
  {
   "cell_type": "code",
   "execution_count": null,
   "metadata": {
    "colab": {
     "base_uri": "https://localhost:8080/",
     "height": 52
    },
    "id": "LKJCMoPPWdkq",
    "outputId": "aefbe5cb-f518-44a9-ea12-fff6d21e2d5a"
   },
   "outputs": [
    {
     "name": "stdout",
     "output_type": "stream",
     "text": [
      "Test loss: 0.3826813440322876\n",
      "Test accuracy: 0.847\n"
     ]
    }
   ],
   "source": [
    "# Evaluate ---------------------------------------------------------------------\n",
    "test_file = \"./data/pwm_seq_200bp_test_set.txt\"\n",
    "test_labels, test_seqs = read_data(test_file)\n",
    "score = model.evaluate(test_seqs, test_labels, verbose=0)\n",
    "print('Test loss:', score[0])\n",
    "print('Test accuracy:', score[1])"
   ]
  },
  {
   "cell_type": "markdown",
   "metadata": {
    "id": "HI7MBOL9Wfek"
   },
   "source": [
    "\n",
    "\n",
    "Once we are happy with our network we obviously want to employ it as well. Lets say we have a new sequence we want to classify.\n"
   ]
  },
  {
   "cell_type": "code",
   "execution_count": null,
   "metadata": {
    "colab": {
     "base_uri": "https://localhost:8080/",
     "height": 173
    },
    "id": "Aq185u3_Wiar",
    "outputId": "8a3b4175-f647-44ac-9136-ca4cd6dd725e"
   },
   "outputs": [
    {
     "name": "stdout",
     "output_type": "stream",
     "text": [
      "Sequence: ATGGCTGATAATGACGATTGTACAGATGGTGGATGAGATTGCCTCGTCCCGGCAGCATTACCCCCTGGTGGCAACGGCCACCAGGGGGCAATAAATCTGTGTCTTATCTCCGAGACCAAACAATTCCACAGCCTCTTATACAGCACCGAATGGACCGCCCCCTGGTGGCCAGGTATCGTCGAGGGCTCAATTAAACTCCT\n",
      "\n",
      "Class Prediction \"Probability\":\n",
      "\tClass 0 = 2.8729322e-05\n",
      "\tClass 1 = 0.0037810686\n",
      "\tClass 2 = 0.034345713\n",
      "\tClass 3 = 0.96184444\n",
      "\n",
      "True Class: 3\n"
     ]
    }
   ],
   "source": [
    "# Predictions ------------------------------------------------------------------\n",
    "# read test sequences again\n",
    "with open(test_file, \"r\") as f:\n",
    "    seqs = []\n",
    "    labels = []\n",
    "    for i,l in enumerate(f):\n",
    "        l = l.rstrip()\n",
    "        l = l.split(\"\\t\")\n",
    "        seqs.append(l[1])\n",
    "        labels.append(l[0])\n",
    "\n",
    "# select a single sequence\n",
    "single_seq = seqs[0]\n",
    "single_label = labels[0]\n",
    "\n",
    "print(\"Sequence: \" + single_seq)\n",
    "\n",
    "# hot encode\n",
    "hotseq = get_hot_coded_seq(single_seq)\n",
    "\n",
    "# calculate predictions\n",
    "single_prediction = model.predict(np.expand_dims(hotseq, axis=0))\n",
    "print(\"\\nClass Prediction \\\"Probability\\\":\")\n",
    "print(\"\\tClass 0 = %s\" % single_prediction[0][0])\n",
    "print(\"\\tClass 1 = %s\" % single_prediction[0][1])\n",
    "print(\"\\tClass 2 = %s\" % single_prediction[0][2])\n",
    "print(\"\\tClass 3 = %s\" % single_prediction[0][3])\n",
    "\n",
    "# print the true class\n",
    "print(\"\\nTrue Class: \" + single_label)\n"
   ]
  },
  {
   "cell_type": "code",
   "execution_count": null,
   "metadata": {
    "colab": {
     "base_uri": "https://localhost:8080/",
     "height": 86
    },
    "id": "R8QUuQ7hWzSG",
    "outputId": "84fa342a-3010-4cd5-f039-cc4e482e39b1"
   },
   "outputs": [
    {
     "name": "stdout",
     "output_type": "stream",
     "text": [
      "(1000, 4)\n",
      "[[2.0259339e-04 4.4085991e-02 4.9523282e-01 4.6047854e-01]\n",
      " [2.4785337e-05 8.4876185e-03 3.3676609e-01 6.5472156e-01]\n",
      " [5.9616971e-01 4.0373576e-01 5.2598742e-05 4.1942374e-05]]\n"
     ]
    }
   ],
   "source": [
    "# or just run all predictions for\n",
    "all_test_predictions = model.predict(test_seqs)\n",
    "print(all_test_predictions.shape)\n",
    "print(all_test_predictions[5:8])"
   ]
  },
  {
   "cell_type": "markdown",
   "metadata": {
    "id": "SmsbE-BWXbcN"
   },
   "source": [
    "\n",
    "##Inspecting Learned Filters\n",
    "\n",
    "Now that we have a reasonably working model, we also want to inspect and see what the net has learned. In applications, we often don't care what the network has learned as long as it performs well and outperforms our competitors. For many research problems however, we are exactly interested in what the network has learned. What features distinguish a cat from a dog or if it comes to decision making (e.g. health care or self driving cars), we obviously want to be able to understand and be able to justify why a certain decision has been chosen and learn how to correct missbehavior.\n",
    "\n",
    "In genomics we usually want to learn what sequence features distinguish the sequences from one another and map them back to biological properties and factors. The easiest way is to just plot the filter weights. In the first convolutional layer, our filters are just like position weight matrices, multiplying every base at every position with a learned weight and summing the value up (plus a bias and pipe it through the RELU activation function). Unfortunatly, this becomes less straight forward to interpret in deeper layers. There are ways of back engineering and learning the importance of filters in higher layers (e.g. https://github.com/kundajelab/deeplift) but we concern ourself only with the simple first layer here.\n",
    "\n",
    "We can get the weigths of the filters from the model, save them as .txt files and plot them out. I wrote a wrapper to plot the filter weigths for you in R. Run the code, check the filter_X.txt files and look at the plots and try to interpret them. In Colab runs you probaly want to download them.\n",
    "\n",
    "* Do any look like transciption factor binding sites you know?\n",
    "* Do you recognize any sequence features that are not binding motifs?\n",
    "* Can you simplify the sequences/ motifs from the plot an query them in a transcription factor binding motif database (http://jaspar.genereg.net/)\n",
    "* What is your best bet: Which sequence motifs did we use for simulating the sequence classes?\n",
    "* Check the input data. Split them up by class into text files with only the sequences one sequence per line (see example). Query them in standard motif analysis tools (e.g. http://rsat.sb-roscoff.fr/oligo-analysis_form.cgi or http://meme-suite.org/tools/meme). Do these tools find different or similar things?\n"
   ]
  },
  {
   "cell_type": "code",
   "execution_count": null,
   "metadata": {
    "id": "ncB7-8g-Ybu3"
   },
   "outputs": [],
   "source": [
    "# Inspect weights --------------------------------------------------------------\n",
    "model_weights = model.get_weights()\n",
    "filter_weights = model_weights[0]\n",
    "\n",
    "# save conv filter weights\n",
    "for k in range(model_weights[0].shape[2]):\n",
    "    # save single filter weights\n",
    "    np.savetxt((\"./visualize/filter_%s.txt\" % k), filter_weights[:,:,k], delimiter=\"\\t\")"
   ]
  },
  {
   "cell_type": "code",
   "execution_count": null,
   "metadata": {
    "colab": {
     "base_uri": "https://localhost:8080/",
     "height": 243
    },
    "id": "fhlssg9kaIiy",
    "outputId": "2df597d7-59c3-4fe4-ca77-4cdb37dcaf39"
   },
   "outputs": [
    {
     "name": "stdout",
     "output_type": "stream",
     "text": [
      " [1] \"filter_0.txt\" \"filter_1.txt\" \"filter_2.txt\" \"filter_3.txt\" \"filter_4.txt\"\n",
      " [6] \"filter_5.txt\" \"filter_6.txt\" \"filter_7.txt\" \"filter_8.txt\" \"filter_9.txt\"\n",
      "[1] \"Saving Plot filter_0.png\"\n",
      "[1] \"Saving Plot filter_1.png\"\n",
      "[1] \"Saving Plot filter_2.png\"\n",
      "[1] \"Saving Plot filter_3.png\"\n",
      "[1] \"Saving Plot filter_4.png\"\n",
      "[1] \"Saving Plot filter_5.png\"\n",
      "[1] \"Saving Plot filter_6.png\"\n",
      "[1] \"Saving Plot filter_7.png\"\n",
      "[1] \"Saving Plot filter_8.png\"\n",
      "[1] \"Saving Plot filter_9.png\"\n",
      "[1] \"Passing: 10  Skipped: 0\"\n"
     ]
    }
   ],
   "source": [
    "%%bash\n",
    "\n",
    "# Plot them using the supplied R script\n",
    "Rscript ./helper/plot_sequence_kernel_weights_per_dir.R ./visualize ./visualize plot_weight 5 2.5"
   ]
  },
  {
   "cell_type": "markdown",
   "metadata": {
    "id": "M8QJwyRZa7NJ"
   },
   "source": [
    "Now thay don't look the nice motifs with information content we are used to look at from ChIP-seq analysis and such. Our filters have positive and negative values all contributing to the \"matching score\" of a filter at a given position. In contrast, information content motifs don't have negative values just less informative bases that occur less often in a, let's say, binding site. Luckily there is a [transformation](https://www.biorxiv.org/content/10.1101/163220v2) we can apply to the filter weights to derive information content. For our purposes her just use the helper script that implements the transformation."
   ]
  },
  {
   "cell_type": "code",
   "execution_count": null,
   "metadata": {
    "colab": {
     "base_uri": "https://localhost:8080/",
     "height": 243
    },
    "id": "VdQK0t8vbsJn",
    "outputId": "3ed85baf-13aa-43c4-b908-36c6beb12a56"
   },
   "outputs": [
    {
     "name": "stdout",
     "output_type": "stream",
     "text": [
      " [1] \"filter_0.txt\" \"filter_1.txt\" \"filter_2.txt\" \"filter_3.txt\" \"filter_4.txt\"\n",
      " [6] \"filter_5.txt\" \"filter_6.txt\" \"filter_7.txt\" \"filter_8.txt\" \"filter_9.txt\"\n",
      "[1] \"Saving Plot filter_0.png\"\n",
      "[1] \"Saving Plot filter_1.png\"\n",
      "[1] \"Saving Plot filter_2.png\"\n",
      "[1] \"Saving Plot filter_3.png\"\n",
      "[1] \"Saving Plot filter_4.png\"\n",
      "[1] \"Saving Plot filter_5.png\"\n",
      "[1] \"Saving Plot filter_6.png\"\n",
      "[1] \"Saving Plot filter_7.png\"\n",
      "[1] \"Saving Plot filter_8.png\"\n",
      "[1] \"Saving Plot filter_9.png\"\n",
      "[1] \"Passing: 10  Skipped: 0\"\n"
     ]
    }
   ],
   "source": [
    "%%bash\n",
    "\n",
    "# Plot ICM like motifs using the supplied R script\n",
    "Rscript ./helper/plot_sequence_kernel_icms_per_dir.R ./visualize ./visualize plot_motif 5 2.5"
   ]
  },
  {
   "cell_type": "markdown",
   "metadata": {
    "id": "IIPoJryvdiwa"
   },
   "source": [
    "A little wrapper to zip all plots and filter weigths into a tar.gz. Gownload them from the files menu."
   ]
  },
  {
   "cell_type": "code",
   "execution_count": null,
   "metadata": {
    "colab": {
     "base_uri": "https://localhost:8080/",
     "height": 555
    },
    "id": "eQC9DTgZdi8N",
    "outputId": "a93d3064-4326-4e3e-e102-b6b6718a7de7"
   },
   "outputs": [
    {
     "name": "stdout",
     "output_type": "stream",
     "text": [
      "./visualize/\n",
      "./visualize/plot_motif_filter_5.png\n",
      "./visualize/filter_6.txt\n",
      "./visualize/plot_motif_filter_0.png\n",
      "./visualize/plot_weight_filter_1.png\n",
      "./visualize/filter_8.txt\n",
      "./visualize/plot_motif_filter_9.png\n",
      "./visualize/filter_2.txt\n",
      "./visualize/filter_3.txt\n",
      "./visualize/plot_weight_filter_2.png\n",
      "./visualize/filter_0.txt\n",
      "./visualize/plot_weight_filter_9.png\n",
      "./visualize/plot_weight_filter_7.png\n",
      "./visualize/plot_weight_filter_3.png\n",
      "./visualize/plot_motif_filter_2.png\n",
      "./visualize/plot_motif_filter_6.png\n",
      "./visualize/filter_1.txt\n",
      "./visualize/filter_7.txt\n",
      "./visualize/plot_motif_filter_7.png\n",
      "./visualize/filter_5.txt\n",
      "./visualize/plot_weight_filter_4.png\n",
      "./visualize/filter_9.txt\n",
      "./visualize/plot_motif_filter_4.png\n",
      "./visualize/plot_weight_filter_0.png\n",
      "./visualize/filter_4.txt\n",
      "./visualize/plot_motif_filter_3.png\n",
      "./visualize/plot_weight_filter_6.png\n",
      "./visualize/plot_weight_filter_8.png\n",
      "./visualize/plot_weight_filter_5.png\n",
      "./visualize/plot_motif_filter_1.png\n",
      "./visualize/plot_motif_filter_8.png\n"
     ]
    }
   ],
   "source": [
    "%%bash\n",
    "\n",
    "tar czvf visualize.tar.gz ./visualize"
   ]
  },
  {
   "cell_type": "markdown",
   "metadata": {
    "id": "T6-X-0dZc6IQ"
   },
   "source": [
    "## Visualize Importance\n",
    "\n",
    "A popular approach to visualize and start to interpret the importance of sequence features is the so called **Saliency**. This term has been introduced to descripe the gradient of the model output with respect to a sequence input. In other words, how much would the prediction change if we were to change a single base pair. Here change mean changing the *1* in the hot encoding to a marginally different value e.g. *1.00001*.\n",
    "\n",
    "\n",
    "I nicked this function and visualization was adapted from the James Zhou's [Primer on Genomics](https://colab.research.google.com/drive/17E4h5aAOioh5DiTo7MZg4hpL6Z_0FyWr#scrollTo=WNT_Au-dAP8a) colab notebook. Check it out and the paper is worth a read.\n",
    "\n",
    "\n",
    "In summary, what we are doing here is calculating the gradient of the model ouput with respect to a single sequence input. We then multiply this gradient with the one hot endoded sequence, effectively zeroing all non present bases, and then sum this over the 4 output classes and trim everything below zero (for pure ease of visualization)."
   ]
  },
  {
   "cell_type": "code",
   "execution_count": null,
   "metadata": {
    "id": "6ocZEt_2eZcw"
   },
   "outputs": [],
   "source": [
    "import tensorflow.keras.backend as K\n",
    "\n",
    "def compute_salient_bases(model, x):\n",
    "\n",
    "  input_tensors = [model.input]\n",
    "  gradients = model.optimizer.get_gradients(model.output, model.input)\n",
    "  compute_gradients = K.function(inputs = input_tensors, outputs = gradients)\n",
    "\n",
    "  gradients = compute_gradients([x])[0][0]\n",
    "  x = np.squeeze(x, axis = 0)\n",
    "  sal = np.clip(np.sum(np.multiply(gradients,x), axis=1),a_min=0, a_max=None)\n",
    "\n",
    "  return sal"
   ]
  },
  {
   "cell_type": "code",
   "execution_count": null,
   "metadata": {
    "colab": {
     "base_uri": "https://localhost:8080/",
     "height": 52
    },
    "id": "vg5oB0RdgzgS",
    "outputId": "0aaf1f87-1319-46d3-aeae-ba0266252cb6"
   },
   "outputs": [
    {
     "name": "stdout",
     "output_type": "stream",
     "text": [
      "Prediction: [[5.6772256e-01 4.3193689e-01 2.1812480e-04 1.2235751e-04]]\n",
      "True Label: 1\n"
     ]
    }
   ],
   "source": [
    "# use a single sequence again (index 1 works well)\n",
    "selected_index = 1\n",
    "\n",
    "single_seq = seqs[selected_index]\n",
    "\n",
    "# hot encode\n",
    "hotseq = get_hot_coded_seq(single_seq)\n",
    "\n",
    "hotseq = np.expand_dims(hotseq, axis=0)\n",
    "\n",
    "# calculate predictions\n",
    "single_prediction = model.predict(hotseq)\n",
    "\n",
    "print(\"Prediction: %s\" % single_prediction)\n",
    "\n",
    "print(\"True Label: %s\" % labels[selected_index])\n"
   ]
  },
  {
   "cell_type": "code",
   "execution_count": null,
   "metadata": {
    "colab": {
     "base_uri": "https://localhost:8080/",
     "height": 1000
    },
    "id": "fTCrGCS6mMKP",
    "outputId": "fb5d63aa-90e5-4360-e97d-78f8bf3df182"
   },
   "outputs": [
    {
     "name": "stdout",
     "output_type": "stream",
     "text": [
      "[2.37885889e-09 3.62792640e-09 0.00000000e+00 0.00000000e+00\n",
      " 0.00000000e+00 1.23124511e-09 0.00000000e+00 2.74632606e-09\n",
      " 0.00000000e+00 0.00000000e+00 0.00000000e+00 8.54737836e-10\n",
      " 0.00000000e+00 6.25662455e-09 1.09956044e-09 0.00000000e+00\n",
      " 0.00000000e+00 0.00000000e+00 0.00000000e+00 0.00000000e+00\n",
      " 0.00000000e+00 0.00000000e+00 4.04498879e-09 0.00000000e+00\n",
      " 4.99761477e-09 0.00000000e+00 0.00000000e+00 3.69327302e-09\n",
      " 1.04785229e-08 1.14255245e-08 9.90976545e-09 0.00000000e+00\n",
      " 5.90284177e-09 0.00000000e+00 3.32863714e-09 1.41415635e-09\n",
      " 0.00000000e+00 6.71260425e-09 0.00000000e+00 0.00000000e+00\n",
      " 0.00000000e+00 2.42397102e-10 4.10047996e-09 9.52395829e-10\n",
      " 1.02856301e-09 0.00000000e+00 4.85603158e-09 0.00000000e+00\n",
      " 0.00000000e+00 0.00000000e+00 2.64236022e-10 3.02113357e-09\n",
      " 1.95228722e-10 3.61702246e-09 9.77749082e-09 9.50345758e-09\n",
      " 1.30148177e-08 9.48953627e-09 4.88826624e-09 2.78966872e-09\n",
      " 3.87633259e-09 3.67074304e-09 2.51256793e-09 9.52419699e-10\n",
      " 0.00000000e+00 0.00000000e+00 0.00000000e+00 0.00000000e+00\n",
      " 1.05173426e-08 1.23401396e-08 1.46106673e-08 8.94580676e-09\n",
      " 0.00000000e+00 1.81175408e-09 0.00000000e+00 0.00000000e+00\n",
      " 2.40900667e-11 0.00000000e+00 1.42412637e-09 4.60309524e-09\n",
      " 0.00000000e+00 0.00000000e+00 0.00000000e+00 1.60297242e-09\n",
      " 0.00000000e+00 0.00000000e+00 0.00000000e+00 2.05615791e-09\n",
      " 6.81202916e-09 1.41157743e-08 1.15239374e-08 6.86984292e-09\n",
      " 5.76053072e-09 0.00000000e+00 2.73331802e-09 5.36137135e-10\n",
      " 0.00000000e+00 0.00000000e+00 7.89140930e-09 0.00000000e+00\n",
      " 6.88873270e-09 0.00000000e+00 6.32130970e-09 0.00000000e+00\n",
      " 0.00000000e+00 4.93858199e-09 1.17518644e-08 0.00000000e+00\n",
      " 0.00000000e+00 0.00000000e+00 0.00000000e+00 0.00000000e+00\n",
      " 5.50205437e-09 0.00000000e+00 6.10026341e-09 8.24432256e-09\n",
      " 0.00000000e+00 4.58746863e-09 0.00000000e+00 0.00000000e+00\n",
      " 3.87973520e-09 7.14130621e-09 4.68950567e-09 3.75464770e-09\n",
      " 5.12408649e-09 5.97827676e-10 3.65939545e-09 2.49821097e-09\n",
      " 4.23281410e-09 1.18463026e-08 8.69760619e-09 8.42790016e-09\n",
      " 6.73295064e-09 2.96269231e-09 2.42858023e-09 0.00000000e+00\n",
      " 0.00000000e+00 5.38845635e-09 0.00000000e+00 0.00000000e+00\n",
      " 0.00000000e+00 4.00627531e-09 0.00000000e+00 2.54793076e-10\n",
      " 4.81084728e-09 0.00000000e+00 5.02164532e-09 0.00000000e+00\n",
      " 0.00000000e+00 5.84688387e-09 0.00000000e+00 0.00000000e+00\n",
      " 4.34124958e-09 1.26892354e-08 9.91361215e-09 8.37160119e-09\n",
      " 3.96661770e-09 6.12862205e-09 5.99745809e-09 1.09421077e-08\n",
      " 1.06308295e-08 9.67529612e-09 0.00000000e+00 0.00000000e+00\n",
      " 0.00000000e+00 0.00000000e+00 4.26359970e-09 8.00624100e-09\n",
      " 8.88049101e-09 1.24153976e-08 8.97447716e-09 4.04166745e-09\n",
      " 7.89769405e-09 4.87801088e-09 1.63641944e-09 0.00000000e+00\n",
      " 0.00000000e+00 3.35296613e-09 0.00000000e+00 0.00000000e+00\n",
      " 0.00000000e+00 0.00000000e+00 0.00000000e+00 0.00000000e+00\n",
      " 0.00000000e+00 2.63893907e-10 0.00000000e+00 5.59090552e-09\n",
      " 7.86544962e-09 0.00000000e+00 1.35824885e-09 0.00000000e+00\n",
      " 0.00000000e+00 0.00000000e+00 1.06601039e-09 0.00000000e+00\n",
      " 0.00000000e+00 0.00000000e+00 1.57612479e-10 6.01731720e-10]\n"
     ]
    },
    {
     "data": {
      "image/png": "[encoded data removed]",
      "text/plain": [
       "<Figure size 1800x216 with 1 Axes>"
      ]
     },
     "metadata": {
      "tags": []
     },
     "output_type": "display_data"
    }
   ],
   "source": [
    "sal = compute_salient_bases(model, hotseq)\n",
    "\n",
    "plt.figure(figsize=[25,3])\n",
    "barlist = plt.bar(np.arange(len(sal)), sal)\n",
    "plt.xlabel('Bases')\n",
    "plt.ylabel('Saliency values')\n",
    "plt.xticks(np.arange(len(sal)), list(single_seq));\n",
    "plt.title('Saliency map for bases in one of the test sequences');"
   ]
  },
  {
   "cell_type": "markdown",
   "metadata": {
    "id": "NKqSNnuhXkg4"
   },
   "source": [
    "## Further\n",
    "\n",
    "On the github page you wild find links to a slightly more difficult set, using more motifs and 300 bp sequences.\n",
    "You can adapt the notebook to run on those.\n"
   ]
  }
 ],
 "metadata": {
  "colab": {
   "name": "DL_genomics_intro.ipynb",
   "provenance": [],
   "toc_visible": true
  },
  "kernelspec": {
   "display_name": "Python 3 (ipykernel)",
   "language": "python",
   "name": "python3"
  },
  "language_info": {
   "codemirror_mode": {
    "name": "ipython",
    "version": 3
   },
   "file_extension": ".py",
   "mimetype": "text/x-python",
   "name": "python",
   "nbconvert_exporter": "python",
   "pygments_lexer": "ipython3",
   "version": "3.12.7"
  }
 },
 "nbformat": 4,
 "nbformat_minor": 4
}
