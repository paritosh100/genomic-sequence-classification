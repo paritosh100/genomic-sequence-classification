{
  "cells": [
    {
      "cell_type": "markdown",
      "metadata": {
        "id": "59DLQSAO7PBm"
      },
      "source": [
        "# Tutorial - Deep Learning for Genomics\n",
        "\n",
        "\n",
        "\n",
        "In this tutorial we will use a convolutional neuronal network to address a fairly basic but common problem in genomics. Given a set of sequences belonging to different classes, what are the characteristics in the DNA sequence that let us distinguish the classes. For example, given a set of promoter and enhancer sequences, we could ask if there are any patterns in the DNA that let us distinguish between the two.\n",
        "\n",
        "For a 'simple' example, think of two ChIP-seq experiments for two different transcription factors. After analysing the ChIP-seq data, we know at what positions in the genome the two factors bind and the majority of binding sites might be distinct. If we extract the underlying sequences and search for DNA patterns that are enriched in the respective sets, we get an idea what DNA sequences the transcription factor might bind and/or which co-factors influence their binding.\n",
        "\n",
        "Traditionally, people use motif discovery tools for finding overrepresented words and motifs. However, if we move to slightly more complicated questions these methods quickly reach their limits and machine learning approaches become more promising.\n",
        "\n",
        "A more complicated question: If we have multiple sets of enhancers that are active in different tissues and cell types and we have the underlying sequences, can we figure out what sequence patterns are characteristic for what activity? And once we know that can we infer which factors are common and which are tissue specific?\n",
        "\n",
        "For our test dataset we have a simplfied, simulated version of such a task. We simulated 40,000 DNA sequences of length 200 bp. We split them into 4 enhancer classes and populated them with transcription factor binding motifs and other DNA patters to make them distinguishable. However, some motifs are shared between classes, they may overlap each other and are not necessarily perfect matches to the text book motifs. Thats much more how regulatory DNA actually looks like :)!\n",
        "\n",
        "We will use keras to build and train a small convolutional neuronal network to classify our enhancer sequences. Once this network is trained well, we can than investigate how the network has learned to distinguish between the classes and try to relate this back to transcriptions factor motifs and so on.\n",
        "\n",
        "------------\n",
        "\n",
        "You can run the tutorial in this colab notebook or checkout (and clone) the github repository (https://github.com/rschwess/tutorial_dl_for_genomics). From there you can either run everything in an interactive python or ipython session or (especially later when optimizing) just adjust and run python dl_intro.py in the terminal.\n",
        "\n",
        "----------------\n",
        "\n",
        "## Set up\n",
        "\n",
        "We will start by downloading the tutorial data. There are more data available on github if you want to work on a slightly more difficult set."
      ]
    },
    {
      "cell_type": "code",
      "execution_count": 1,
      "metadata": {
        "id": "fIoMifW7ISKy"
      },
      "outputs": [],
      "source": [
        "# from google.colab import drive\n",
        "# drive.mount('/content/drive')"
      ]
    },
    {
      "cell_type": "code",
      "execution_count": 2,
      "metadata": {
        "colab": {
          "base_uri": "https://localhost:8080/"
        },
        "id": "68wKlyer7Hti",
        "outputId": "94572cd3-8335-45f9-861c-2bed61cc97ee"
      },
      "outputs": [
        {
          "output_type": "stream",
          "name": "stderr",
          "text": [
            "  % Total    % Received % Xferd  Average Speed   Time    Time     Time  Current\n",
            "                                 Dload  Upload   Total   Spent    Left  Speed\n",
            "\r  0     0    0     0    0     0      0      0 --:--:-- --:--:-- --:--:--     0\r100  198k  100  198k    0     0   290k      0 --:--:-- --:--:-- --:--:--  291k\n",
            "  % Total    % Received % Xferd  Average Speed   Time    Time     Time  Current\n",
            "                                 Dload  Upload   Total   Spent    Left  Speed\n",
            "\r  0     0    0     0    0     0      0      0 --:--:-- --:--:-- --:--:--     0\r  2  198k    2  5503    0     0   8501      0  0:00:23 --:--:--  0:00:23  8492\r100  198k  100  198k    0     0   288k      0 --:--:-- --:--:-- --:--:--  288k\n",
            "  % Total    % Received % Xferd  Average Speed   Time    Time     Time  Current\n",
            "                                 Dload  Upload   Total   Spent    Left  Speed\n",
            "\r  0     0    0     0    0     0      0      0 --:--:-- --:--:-- --:--:--     0\r  0 7533k    0  5503    0     0   7822      0  0:16:26 --:--:--  0:16:26  7816\r100 7533k  100 7533k    0     0  6964k      0  0:00:01  0:00:01 --:--:-- 6968k\n"
          ]
        }
      ],
      "source": [
        "%%bash\n",
        "\n",
        "# Download Example Data --------------------------------------------------------\n",
        "\n",
        "rm -rf ./sample_data/\n",
        "\n",
        "mkdir -p data\n",
        "\n",
        "rm -f ./data/*\n",
        "\n",
        "curl https://raw.githubusercontent.com/rschwess/tutorial_dl_for_genomics/master/data/pwm_seq_200bp_test_set.txt >./data/pwm_seq_200bp_test_set.txt\n",
        "curl https://raw.githubusercontent.com/rschwess/tutorial_dl_for_genomics/master/data/pwm_seq_200bp_valid_set.txt >./data/pwm_seq_200bp_valid_set.txt\n",
        "curl https://raw.githubusercontent.com/rschwess/tutorial_dl_for_genomics/master/data/pwm_seq_200bp_train_set.txt >./data/pwm_seq_200bp_train_set.txt\n"
      ]
    },
    {
      "cell_type": "code",
      "execution_count": 3,
      "metadata": {
        "id": "ggouV8KQrq4M"
      },
      "outputs": [],
      "source": [
        "# from google.colab import drive\n",
        "# drive.mount('/content/drive')"
      ]
    },
    {
      "cell_type": "code",
      "execution_count": 4,
      "metadata": {
        "id": "GhvTIDjQgde1"
      },
      "outputs": [],
      "source": [
        "# SAFE TO IGNORE\n",
        "# if you want to mount your google drive\n",
        "# from google.colab import drive\n",
        "# drive.mount('/content/drive')"
      ]
    },
    {
      "cell_type": "code",
      "execution_count": 5,
      "metadata": {
        "id": "WG23xMgboNNG"
      },
      "outputs": [],
      "source": [
        "# SAFE TO IGNORE\n",
        "# # for uploading local files\n",
        "# from google.colab import files\n",
        "# uploaded = files.upload()"
      ]
    },
    {
      "cell_type": "code",
      "execution_count": 6,
      "metadata": {
        "colab": {
          "base_uri": "https://localhost:8080/"
        },
        "id": "bnkSDL5RY1ci",
        "outputId": "85fcbe6c-5622-424f-ee56-e84d78336d5b"
      },
      "outputs": [
        {
          "output_type": "stream",
          "name": "stderr",
          "text": [
            "  % Total    % Received % Xferd  Average Speed   Time    Time     Time  Current\n",
            "                                 Dload  Upload   Total   Spent    Left  Speed\n",
            "\r  0     0    0     0    0     0      0      0 --:--:-- --:--:-- --:--:--     0\r 31 18139   31  5679    0     0   9075      0  0:00:01 --:--:--  0:00:01  9071\r100 18139  100 18139    0     0  28525      0 --:--:-- --:--:-- --:--:-- 28520\n",
            "  % Total    % Received % Xferd  Average Speed   Time    Time     Time  Current\n",
            "                                 Dload  Upload   Total   Spent    Left  Speed\n",
            "\r  0     0    0     0    0     0      0      0 --:--:-- --:--:-- --:--:--     0\r100  1512  100  1512    0     0   3178      0 --:--:-- --:--:-- --:--:--  3183\n",
            "  % Total    % Received % Xferd  Average Speed   Time    Time     Time  Current\n",
            "                                 Dload  Upload   Total   Spent    Left  Speed\n",
            "\r  0     0    0     0    0     0      0      0 --:--:-- --:--:-- --:--:--     0\r100  1510  100  1510    0     0   3284      0 --:--:-- --:--:-- --:--:--  3282\r100  1510  100  1510    0     0   3283      0 --:--:-- --:--:-- --:--:--  3282\n"
          ]
        }
      ],
      "source": [
        "%%bash\n",
        "\n",
        "# Create some directories and download helper scripts for later ----------------\n",
        "mkdir -p helper visualize\n",
        "\n",
        "curl https://raw.githubusercontent.com/rschwess/tutorial_dl_for_genomics/master/helper/functions_for_motif_plotting.R >./helper/functions_for_motif_plotting.R\n",
        "curl https://raw.githubusercontent.com/rschwess/tutorial_dl_for_genomics/master/helper/plot_sequence_kernel_weights_per_dir.R >./helper/plot_sequence_kernel_weights_per_dir.R\n",
        "curl https://raw.githubusercontent.com/rschwess/tutorial_dl_for_genomics/master/helper/plot_sequence_kernel_icms_per_dir.R >./helper/plot_sequence_kernel_icms_per_dir.R\n"
      ]
    },
    {
      "cell_type": "markdown",
      "metadata": {
        "id": "-7YlfP_RIPUd"
      },
      "source": [
        "Lets start by looking at the data. We have 40,000 sequences and they are all labeled with their respective class. We already split them up into training, test and validation set. It is also a good idea to check if our classes are roughly equally distributed across our different sets."
      ]
    },
    {
      "cell_type": "code",
      "execution_count": 7,
      "metadata": {
        "colab": {
          "base_uri": "https://localhost:8080/"
        },
        "id": "2xI_e2JEIPhX",
        "outputId": "f3a32df1-14f1-4d78-a8a1-b6e95dd45d37"
      },
      "outputs": [
        {
          "output_type": "stream",
          "name": "stdout",
          "text": [
            "Numbers:\n",
            "   1000 ./data/pwm_seq_200bp_test_set.txt\n",
            "  38000 ./data/pwm_seq_200bp_train_set.txt\n",
            "   1000 ./data/pwm_seq_200bp_valid_set.txt\n",
            "  40000 total\n",
            "\n",
            "Format\n",
            "3\tATGGCTGATAATGACGATTGTACAGATGGTGGATGAGATTGCCTCGTCCCGGCAGCATTACCCCCTGGTGGCAACGGCCACCAGGGGGCAATAAATCTGTGTCTTATCTCCGAGACCAAACAATTCCACAGCCTCTTATACAGCACCGAATGGACCGCCCCCTGGTGGCCAGGTATCGTCGAGGGCTCAATTAAACTCCT\n",
            "1\tGCAGGCATTATGAGGTAATAAACTCAGCGCGTGTTGAGATAAGATTCTAAGCGGCGCGCGCGCGCGACCGCGAGAAGTGGAGATTAAGCGCGCTAATGGTGTGTCCGATAGTCACGTGTCCGCGCGGCGCGCGCCATGTATGTTCTGTTCTGCGCGCCGCGCTTTGCGCGCGCGCTTGGTATATAAAGCTGGGTTTTAAT\n",
            "1\tGGCGCGCCTGGCATTTCTTAGAGAGGCGCGCAATACAACGAGAATCACCTAGAAGCCGTGTCTGTTGCTTATCACCGTTCGCCTAGGCCGCACGGGCACGTGGGTCTCCCGTTCCCTCAATCCTAACAGAAGCGCGCTAAGTCGTCGTTGGCTCTCTTACTAGCAGCGCGCCTGTACTAACCCGGCACTCGGCGGTGGGC\n",
            "\n",
            "Class Representations:\n",
            "\n",
            "Training:\n",
            "   9489 0\n",
            "   9513 1\n",
            "   9508 2\n",
            "   9490 3\n",
            "\n",
            "Test:\n",
            "    268 0\n",
            "    237 1\n",
            "    243 2\n",
            "    252 3\n",
            "\n",
            "Validation:\n",
            "    243 0\n",
            "    250 1\n",
            "    249 2\n",
            "    258 3\n"
          ]
        }
      ],
      "source": [
        "%%bash\n",
        "\n",
        "# Check Data Layout ###########################\n",
        "\n",
        "# check lines per set\n",
        "echo \"Numbers:\"\n",
        "wc -l ./data/pwm*\n",
        "\n",
        "# check data format\n",
        "echo -ne \"\\nFormat\\n\"\n",
        "head -n 3 ./data/pwm_seq_200bp_test_set.txt\n",
        "\n",
        "# check class representation\n",
        "echo -ne \"\\nClass Representations:\\n\"\n",
        "\n",
        "echo -ne \"\\nTraining:\\n\"\n",
        "cut -f 1 ./data/pwm_seq_200bp_train_set.txt | sort | uniq -c\n",
        "echo -ne \"\\nTest:\\n\"\n",
        "cut -f 1 ./data/pwm_seq_200bp_test_set.txt | sort | uniq -c\n",
        "echo -ne \"\\nValidation:\\n\"\n",
        "cut -f 1 ./data/pwm_seq_200bp_valid_set.txt | sort | uniq -c\n",
        "\n"
      ]
    },
    {
      "cell_type": "markdown",
      "metadata": {
        "id": "lpkUq8kjKv8s"
      },
      "source": [
        "\n",
        "Looks good, lets move straight in! We will use keras with tensorflow as its backend. Keras is ideal for quickly writing down and prototyping networks in just a few lines of code. The documentation site will be usefull throught the tutorial https://keras.io/.\n",
        "\n",
        "We import keras and the relevant layers and operations we need.\n"
      ]
    },
    {
      "cell_type": "code",
      "execution_count": 8,
      "metadata": {
        "id": "2XjUxMEwKwMp"
      },
      "outputs": [],
      "source": [
        "# IMPORTING MODULES\n",
        "# %tensorflow_version 1.x\n",
        "\n",
        "import keras\n",
        "\n",
        "# from keras.models import Sequential\n",
        "# from keras.layers import Dense, Flatten\n",
        "# from keras.layers import Conv1D, MaxPooling1D\n",
        "\n",
        "from tensorflow.keras.layers import Conv1D, Dense, MaxPooling1D, Flatten, Dropout\n",
        "from tensorflow.keras.models import Sequential\n",
        "import numpy as np\n",
        "import os\n",
        "import matplotlib.pyplot as plt"
      ]
    },
    {
      "cell_type": "markdown",
      "metadata": {
        "id": "OCzDfI2mK898"
      },
      "source": [
        "I wrote two helper functions to convert the sequences into hot encoded sequences and a wrapper to read in and assemble the data. Feel free to skip over this but you might want to have a quick look and understand how we format the data. The hot encoding transforms the sequence into an X x 4 array whith rows corresponding to the sequence position and the columns representing the 4 DNA bases. The respective base column that matches the sequence at that position is 1 the rest 0.\n"
      ]
    },
    {
      "cell_type": "code",
      "execution_count": 9,
      "metadata": {
        "id": "XnubGHyAK9IA"
      },
      "outputs": [],
      "source": [
        "# Helper Function  get hotcoded sequence\n",
        "def get_hot_coded_seq(sequence):\n",
        "    \"\"\"Convert a 4 base letter sequence to 4-row x-cols hot coded sequence\"\"\"\n",
        "    # initialise empty\n",
        "    hotsequence = np.zeros((len(sequence),4))\n",
        "    # set hot code 1 according to gathered sequence\n",
        "    for i in range(len(sequence)):\n",
        "        if sequence[i] == 'A':\n",
        "            hotsequence[i,0] = 1 #[1,0,0,0]\n",
        "        elif sequence[i] == 'C':\n",
        "            hotsequence[i,1] = 1 #[0,1,0,0]\n",
        "        elif sequence[i] == 'G':\n",
        "            hotsequence[i,2] = 1 #[0,0,1,0]\n",
        "        elif sequence[i] == 'T':\n",
        "            hotsequence[i,3] = 1 #[0,0,0,1]\n",
        "    # return the numpy array\n",
        "    return hotsequence\n",
        "\n",
        "# Helper function to read in the labels and seqs and store as hot encoded np array\n",
        "def read_data(infile):\n",
        "    # read file in\n",
        "    with open(infile, \"r\") as f:\n",
        "        seqs = []\n",
        "        labels = []\n",
        "        for i,l in enumerate(f):\n",
        "            l = l.rstrip()\n",
        "            l = l.split(\"\\t\")\n",
        "            #[\"1\",\"GGGCCCGGAAGTACCATTGCTCCGCTT\"]\n",
        "            seqs.append(l[1]) #[\"GGGCCCGGAAGTACCATTGCTCCGCTT\"]\n",
        "            labels.append(l[0]) #[\"1\"]\n",
        "    # make labels np.array\n",
        "    labels = np.array(labels)\n",
        "    # convert to one_hot_labels\n",
        "    hot_labels = keras.utils.to_categorical(labels, num_classes=4)\n",
        "    # make seqs np.array\n",
        "    hot_seqs = np.zeros( (len(seqs), 200, 4) )\n",
        "    # fill with hot encoded sequences\n",
        "    for j in range(len(seqs)):\n",
        "        hotsequence = get_hot_coded_seq(seqs[j])\n",
        "        hot_seqs[j,] = hotsequence\n",
        "    return hot_labels, hot_seqs\n",
        "\n"
      ]
    },
    {
      "cell_type": "markdown",
      "metadata": {
        "id": "l8J-AlxKLLSf"
      },
      "source": [
        "Now we can read in the data.\n"
      ]
    },
    {
      "cell_type": "code",
      "execution_count": 10,
      "metadata": {
        "id": "FRT4zlKdLOlk"
      },
      "outputs": [],
      "source": [
        "# read data --------------------------------------------------------------------\n",
        "train_file = \"./data/pwm_seq_200bp_train_set.txt\"\n",
        "train_labels, train_seqs = read_data(train_file)\n",
        "valid_file = \"./data/pwm_seq_200bp_valid_set.txt\"\n",
        "valid_labels, valid_seqs = read_data(valid_file)"
      ]
    },
    {
      "cell_type": "markdown",
      "metadata": {
        "id": "EKscmL-6LUWo"
      },
      "source": [
        "Lets check how the data looks like after we read it into python and hot encoded it."
      ]
    },
    {
      "cell_type": "code",
      "execution_count": 11,
      "metadata": {
        "id": "mSfx9XzvigCq",
        "colab": {
          "base_uri": "https://localhost:8080/"
        },
        "outputId": "5429b841-a903-4393-bd8a-dee64803e259"
      },
      "outputs": [
        {
          "output_type": "execute_result",
          "data": {
            "text/plain": [
              "((38000, 200, 4), (1000, 200, 4))"
            ]
          },
          "metadata": {},
          "execution_count": 11
        }
      ],
      "source": [
        "train_seqs.shape, valid_seqs.shape"
      ]
    },
    {
      "cell_type": "code",
      "execution_count": 12,
      "metadata": {
        "colab": {
          "base_uri": "https://localhost:8080/"
        },
        "id": "r0ajVoy3LTy4",
        "outputId": "35a7ca64-093f-4cfa-f9b2-875e80424699"
      },
      "outputs": [
        {
          "output_type": "stream",
          "name": "stdout",
          "text": [
            "Train Seq Shape (38000, 200, 4)\n",
            "Train Label Shape (38000, 4)\n",
            "Labels Format:\n",
            "[[1. 0. 0. 0.]\n",
            " [0. 0. 1. 0.]\n",
            " [0. 1. 0. 0.]\n",
            " [0. 0. 0. 1.]]\n",
            "Seq Format (first 10 bp):\n",
            "[[0. 0. 0. 1.]\n",
            " [0. 0. 0. 1.]\n",
            " [0. 0. 1. 0.]\n",
            " [0. 1. 0. 0.]\n",
            " [0. 0. 1. 0.]\n",
            " [0. 1. 0. 0.]\n",
            " [0. 0. 1. 0.]\n",
            " [0. 1. 0. 0.]\n",
            " [0. 1. 0. 0.]]\n"
          ]
        }
      ],
      "source": [
        "# Check Data in Python ---------------------------------------------------------\n",
        "\n",
        "# check shapes\n",
        "print(\"Train Seq Shape\", train_seqs.shape)\n",
        "print(\"Train Label Shape\", train_labels.shape)\n",
        "\n",
        "# check data format\n",
        "print(\"Labels Format:\")\n",
        "print(train_labels[1:5])\n",
        "print(\"Seq Format (first 10 bp):\")\n",
        "print(train_seqs[1, 1:10,:])"
      ]
    },
    {
      "cell_type": "markdown",
      "metadata": {
        "id": "itcX25I4L6Gb"
      },
      "source": [
        "\n",
        "The labels have a one hot encoding where every column represents a different class and in this case only one class can be active at a time.\n",
        "\n",
        "The sequences have shape [sample x sequence_length x base]. We encod the 4 DNA bases as \"channels\" a term borrowed from image analysis you will encounter a lot when working with tensorlfow. For comparison a set of 2D images would have the dimensions [sample x pixel_rows x pixel_columns x colour_channels]. A grey scale picture would have only one channel while RGB images have three. We can thus think of our sequence as a 1D image with 4 channels."
      ]
    },
    {
      "cell_type": "code",
      "execution_count": 34,
      "metadata": {
        "colab": {
          "base_uri": "https://localhost:8080/"
        },
        "id": "L3eVN0jEL5Ev",
        "outputId": "9835d5e9-ddac-4f08-d0f3-fbc6fb17e705"
      },
      "outputs": [
        {
          "output_type": "stream",
          "name": "stderr",
          "text": [
            "/usr/local/lib/python3.11/dist-packages/keras/src/layers/convolutional/base_conv.py:107: UserWarning: Do not pass an `input_shape`/`input_dim` argument to a layer. When using Sequential models, prefer using an `Input(shape)` object as the first layer in the model instead.\n",
            "  super().__init__(activity_regularizer=activity_regularizer, **kwargs)\n"
          ]
        }
      ],
      "source": [
        "# Define the Model Architecture ------------------------------------------------\n",
        "# global options\n",
        "num_classes = 4\n",
        "\n",
        "# network architecture options\n",
        "conv1_hidden_units = 10\n",
        "conv1_filter_size = 20\n",
        "maxpool1_width = 3\n",
        "\n",
        "# construct the model ----------------------------------------------------------\n",
        "\n",
        "model = keras.Sequential()\n",
        "model.add(Conv1D(conv1_hidden_units, kernel_size=(conv1_filter_size), activation='relu', input_shape=(200, 4), padding='same'))\n",
        "model.add(MaxPooling1D(pool_size=maxpool1_width))\n",
        "## code examples to add dropout and additional layers\n",
        "## to add dropout use:\n",
        "model.add(Dropout(rate = 0.3))   # Dropout\n",
        "# # for a second layer add it like this:\n",
        "model.add(Conv1D(conv1_hidden_units, kernel_size=(conv1_filter_size), activation='relu', padding='same'))\n",
        "model.add(MaxPooling1D(pool_size=maxpool1_width))\n",
        "model.add(Flatten())\n",
        "model.add(Dense(num_classes, activation='softmax'))"
      ]
    },
    {
      "cell_type": "markdown",
      "metadata": {
        "id": "-if6bqKaSE1x"
      },
      "source": [
        "## Building the Network\n",
        "\n",
        "We now define our network. We first set some global and network architecture options and put them all together in the keras sequential mode. The sequential mode is an easy wrapper for linearly stacked networks that makes your code even more concise. We just define the model to be sequential and than add/stack layer after layer. Here we use a simple convolutional architecture.\n",
        "\n",
        "* Our first layer is a 1D convolution over the input:\n",
        "  * We use a 1D convolution because we only want the filter to move along the sequence axis and map the channels to the hidden units.\n",
        "  * We start with 10 hidden units or filters or kernels which are all of length 5 (bp)\n",
        "  * We use the RELU activation function\n",
        "  * We also define the input shape and how to pad the input if necessary (see doc.)\n",
        "* We next perform max pooling where we take the maximum of a window of 5 consecutive activation values\n",
        "  * This reduces the data dimension, thus simplifying the model and speeding up further computations\n",
        "  * But it also enforces some extend of positional invariance into our model. For example, if we have a match to transcription factor motif in our sequence, we don't necessarily care where exactly this motif lies and a few bp up- or downstream shouldn't make a difference to our predictions.\n",
        "* We then \"Flatten\" the activation values to a 1 dimensional vector\n",
        "* And apply a fully connected or \"Dense\" layer connecting every value in the 1D vector to every class prediction\n",
        "  * We use the sigmoid activation function (with softmax scaling) to perform effectively a multinomial logistic regression\n",
        "\n",
        "The number of hidden units, the size of the kernel, the pooling size, but also the number and types of layers we use in the network are usually called hyperparameters. The most work in DL usually comes down to finding the right hyperparameters that let our network training converge and that give us the best possible (at least the best we are able to find) accuracies.\n",
        "\n",
        "We set some reasonable choices to begin with. But your task will be to play with these hyperparameters and see how well you can tune the model with a few adjustments."
      ]
    },
    {
      "cell_type": "markdown",
      "metadata": {
        "id": "IlU4fVZHSsdS"
      },
      "source": [
        "Next we compile the model. We use adam as our optimizer. Since the classes are mutually exclusive we select the categorical_crossentropy as our loss function and we want to monitor the accuracy during training.\n",
        "\n",
        "We also print a summary of our network telling us the data shapes throught the network and sumarizing the number of trainable parameters in our model."
      ]
    },
    {
      "cell_type": "code",
      "execution_count": 35,
      "metadata": {
        "colab": {
          "base_uri": "https://localhost:8080/",
          "height": 363
        },
        "id": "OZPCH5WASxLr",
        "outputId": "d8da6de0-6f17-4817-d6d1-861cb711ecf1"
      },
      "outputs": [
        {
          "output_type": "display_data",
          "data": {
            "text/plain": [
              "\u001b[1mModel: \"sequential_3\"\u001b[0m\n"
            ],
            "text/html": [
              "<pre style=\"white-space:pre;overflow-x:auto;line-height:normal;font-family:Menlo,'DejaVu Sans Mono',consolas,'Courier New',monospace\"><span style=\"font-weight: bold\">Model: \"sequential_3\"</span>\n",
              "</pre>\n"
            ]
          },
          "metadata": {}
        },
        {
          "output_type": "display_data",
          "data": {
            "text/plain": [
              "┏━━━━━━━━━━━━━━━━━━━━━━━━━━━━━━━━━┳━━━━━━━━━━━━━━━━━━━━━━━━┳━━━━━━━━━━━━━━━┓\n",
              "┃\u001b[1m \u001b[0m\u001b[1mLayer (type)                   \u001b[0m\u001b[1m \u001b[0m┃\u001b[1m \u001b[0m\u001b[1mOutput Shape          \u001b[0m\u001b[1m \u001b[0m┃\u001b[1m \u001b[0m\u001b[1m      Param #\u001b[0m\u001b[1m \u001b[0m┃\n",
              "┡━━━━━━━━━━━━━━━━━━━━━━━━━━━━━━━━━╇━━━━━━━━━━━━━━━━━━━━━━━━╇━━━━━━━━━━━━━━━┩\n",
              "│ conv1d_6 (\u001b[38;5;33mConv1D\u001b[0m)               │ (\u001b[38;5;45mNone\u001b[0m, \u001b[38;5;34m200\u001b[0m, \u001b[38;5;34m10\u001b[0m)        │           \u001b[38;5;34m810\u001b[0m │\n",
              "├─────────────────────────────────┼────────────────────────┼───────────────┤\n",
              "│ max_pooling1d_6 (\u001b[38;5;33mMaxPooling1D\u001b[0m)  │ (\u001b[38;5;45mNone\u001b[0m, \u001b[38;5;34m66\u001b[0m, \u001b[38;5;34m10\u001b[0m)         │             \u001b[38;5;34m0\u001b[0m │\n",
              "├─────────────────────────────────┼────────────────────────┼───────────────┤\n",
              "│ dropout_2 (\u001b[38;5;33mDropout\u001b[0m)             │ (\u001b[38;5;45mNone\u001b[0m, \u001b[38;5;34m66\u001b[0m, \u001b[38;5;34m10\u001b[0m)         │             \u001b[38;5;34m0\u001b[0m │\n",
              "├─────────────────────────────────┼────────────────────────┼───────────────┤\n",
              "│ conv1d_7 (\u001b[38;5;33mConv1D\u001b[0m)               │ (\u001b[38;5;45mNone\u001b[0m, \u001b[38;5;34m66\u001b[0m, \u001b[38;5;34m10\u001b[0m)         │         \u001b[38;5;34m2,010\u001b[0m │\n",
              "├─────────────────────────────────┼────────────────────────┼───────────────┤\n",
              "│ max_pooling1d_7 (\u001b[38;5;33mMaxPooling1D\u001b[0m)  │ (\u001b[38;5;45mNone\u001b[0m, \u001b[38;5;34m22\u001b[0m, \u001b[38;5;34m10\u001b[0m)         │             \u001b[38;5;34m0\u001b[0m │\n",
              "├─────────────────────────────────┼────────────────────────┼───────────────┤\n",
              "│ flatten_3 (\u001b[38;5;33mFlatten\u001b[0m)             │ (\u001b[38;5;45mNone\u001b[0m, \u001b[38;5;34m220\u001b[0m)            │             \u001b[38;5;34m0\u001b[0m │\n",
              "├─────────────────────────────────┼────────────────────────┼───────────────┤\n",
              "│ dense_3 (\u001b[38;5;33mDense\u001b[0m)                 │ (\u001b[38;5;45mNone\u001b[0m, \u001b[38;5;34m4\u001b[0m)              │           \u001b[38;5;34m884\u001b[0m │\n",
              "└─────────────────────────────────┴────────────────────────┴───────────────┘\n"
            ],
            "text/html": [
              "<pre style=\"white-space:pre;overflow-x:auto;line-height:normal;font-family:Menlo,'DejaVu Sans Mono',consolas,'Courier New',monospace\">┏━━━━━━━━━━━━━━━━━━━━━━━━━━━━━━━━━┳━━━━━━━━━━━━━━━━━━━━━━━━┳━━━━━━━━━━━━━━━┓\n",
              "┃<span style=\"font-weight: bold\"> Layer (type)                    </span>┃<span style=\"font-weight: bold\"> Output Shape           </span>┃<span style=\"font-weight: bold\">       Param # </span>┃\n",
              "┡━━━━━━━━━━━━━━━━━━━━━━━━━━━━━━━━━╇━━━━━━━━━━━━━━━━━━━━━━━━╇━━━━━━━━━━━━━━━┩\n",
              "│ conv1d_6 (<span style=\"color: #0087ff; text-decoration-color: #0087ff\">Conv1D</span>)               │ (<span style=\"color: #00d7ff; text-decoration-color: #00d7ff\">None</span>, <span style=\"color: #00af00; text-decoration-color: #00af00\">200</span>, <span style=\"color: #00af00; text-decoration-color: #00af00\">10</span>)        │           <span style=\"color: #00af00; text-decoration-color: #00af00\">810</span> │\n",
              "├─────────────────────────────────┼────────────────────────┼───────────────┤\n",
              "│ max_pooling1d_6 (<span style=\"color: #0087ff; text-decoration-color: #0087ff\">MaxPooling1D</span>)  │ (<span style=\"color: #00d7ff; text-decoration-color: #00d7ff\">None</span>, <span style=\"color: #00af00; text-decoration-color: #00af00\">66</span>, <span style=\"color: #00af00; text-decoration-color: #00af00\">10</span>)         │             <span style=\"color: #00af00; text-decoration-color: #00af00\">0</span> │\n",
              "├─────────────────────────────────┼────────────────────────┼───────────────┤\n",
              "│ dropout_2 (<span style=\"color: #0087ff; text-decoration-color: #0087ff\">Dropout</span>)             │ (<span style=\"color: #00d7ff; text-decoration-color: #00d7ff\">None</span>, <span style=\"color: #00af00; text-decoration-color: #00af00\">66</span>, <span style=\"color: #00af00; text-decoration-color: #00af00\">10</span>)         │             <span style=\"color: #00af00; text-decoration-color: #00af00\">0</span> │\n",
              "├─────────────────────────────────┼────────────────────────┼───────────────┤\n",
              "│ conv1d_7 (<span style=\"color: #0087ff; text-decoration-color: #0087ff\">Conv1D</span>)               │ (<span style=\"color: #00d7ff; text-decoration-color: #00d7ff\">None</span>, <span style=\"color: #00af00; text-decoration-color: #00af00\">66</span>, <span style=\"color: #00af00; text-decoration-color: #00af00\">10</span>)         │         <span style=\"color: #00af00; text-decoration-color: #00af00\">2,010</span> │\n",
              "├─────────────────────────────────┼────────────────────────┼───────────────┤\n",
              "│ max_pooling1d_7 (<span style=\"color: #0087ff; text-decoration-color: #0087ff\">MaxPooling1D</span>)  │ (<span style=\"color: #00d7ff; text-decoration-color: #00d7ff\">None</span>, <span style=\"color: #00af00; text-decoration-color: #00af00\">22</span>, <span style=\"color: #00af00; text-decoration-color: #00af00\">10</span>)         │             <span style=\"color: #00af00; text-decoration-color: #00af00\">0</span> │\n",
              "├─────────────────────────────────┼────────────────────────┼───────────────┤\n",
              "│ flatten_3 (<span style=\"color: #0087ff; text-decoration-color: #0087ff\">Flatten</span>)             │ (<span style=\"color: #00d7ff; text-decoration-color: #00d7ff\">None</span>, <span style=\"color: #00af00; text-decoration-color: #00af00\">220</span>)            │             <span style=\"color: #00af00; text-decoration-color: #00af00\">0</span> │\n",
              "├─────────────────────────────────┼────────────────────────┼───────────────┤\n",
              "│ dense_3 (<span style=\"color: #0087ff; text-decoration-color: #0087ff\">Dense</span>)                 │ (<span style=\"color: #00d7ff; text-decoration-color: #00d7ff\">None</span>, <span style=\"color: #00af00; text-decoration-color: #00af00\">4</span>)              │           <span style=\"color: #00af00; text-decoration-color: #00af00\">884</span> │\n",
              "└─────────────────────────────────┴────────────────────────┴───────────────┘\n",
              "</pre>\n"
            ]
          },
          "metadata": {}
        },
        {
          "output_type": "display_data",
          "data": {
            "text/plain": [
              "\u001b[1m Total params: \u001b[0m\u001b[38;5;34m3,704\u001b[0m (14.47 KB)\n"
            ],
            "text/html": [
              "<pre style=\"white-space:pre;overflow-x:auto;line-height:normal;font-family:Menlo,'DejaVu Sans Mono',consolas,'Courier New',monospace\"><span style=\"font-weight: bold\"> Total params: </span><span style=\"color: #00af00; text-decoration-color: #00af00\">3,704</span> (14.47 KB)\n",
              "</pre>\n"
            ]
          },
          "metadata": {}
        },
        {
          "output_type": "display_data",
          "data": {
            "text/plain": [
              "\u001b[1m Trainable params: \u001b[0m\u001b[38;5;34m3,704\u001b[0m (14.47 KB)\n"
            ],
            "text/html": [
              "<pre style=\"white-space:pre;overflow-x:auto;line-height:normal;font-family:Menlo,'DejaVu Sans Mono',consolas,'Courier New',monospace\"><span style=\"font-weight: bold\"> Trainable params: </span><span style=\"color: #00af00; text-decoration-color: #00af00\">3,704</span> (14.47 KB)\n",
              "</pre>\n"
            ]
          },
          "metadata": {}
        },
        {
          "output_type": "display_data",
          "data": {
            "text/plain": [
              "\u001b[1m Non-trainable params: \u001b[0m\u001b[38;5;34m0\u001b[0m (0.00 B)\n"
            ],
            "text/html": [
              "<pre style=\"white-space:pre;overflow-x:auto;line-height:normal;font-family:Menlo,'DejaVu Sans Mono',consolas,'Courier New',monospace\"><span style=\"font-weight: bold\"> Non-trainable params: </span><span style=\"color: #00af00; text-decoration-color: #00af00\">0</span> (0.00 B)\n",
              "</pre>\n"
            ]
          },
          "metadata": {}
        }
      ],
      "source": [
        "# compile ----------------------------------------------------------------------\n",
        "model.compile(optimizer='adam',\n",
        "              loss='categorical_crossentropy',\n",
        "              metrics=['accuracy'])\n",
        "\n",
        "# print model summary ----------------------------------------------------------\n",
        "model.summary()\n",
        "\n"
      ]
    },
    {
      "cell_type": "markdown",
      "metadata": {
        "id": "PO8y82o2TFX9"
      },
      "source": [
        "## Training\n",
        "\n",
        "Now that we have our model set up we can train it. We feed the model with our training sequences and labels, we define a batch size (since we are training in batch mode) and set the number of epochs (cycles through the training data) we want to train for. Five epochs should be fine for us feel free to ramp this up a bit and see if you get improvements or if the learning plateus quickly."
      ]
    },
    {
      "cell_type": "code",
      "execution_count": 36,
      "metadata": {
        "colab": {
          "base_uri": "https://localhost:8080/"
        },
        "id": "MhvQukq1TPXU",
        "outputId": "807ef0ac-3151-4439-affc-6240104cb08f"
      },
      "outputs": [
        {
          "output_type": "stream",
          "name": "stdout",
          "text": [
            "Epoch 1/20\n",
            "\u001b[1m380/380\u001b[0m \u001b[32m━━━━━━━━━━━━━━━━━━━━\u001b[0m\u001b[37m\u001b[0m \u001b[1m4s\u001b[0m 4ms/step - accuracy: 0.5343 - loss: 0.9787 - val_accuracy: 0.8150 - val_loss: 0.4949\n",
            "Epoch 2/20\n",
            "\u001b[1m380/380\u001b[0m \u001b[32m━━━━━━━━━━━━━━━━━━━━\u001b[0m\u001b[37m\u001b[0m \u001b[1m3s\u001b[0m 3ms/step - accuracy: 0.8176 - loss: 0.4468 - val_accuracy: 0.8720 - val_loss: 0.3253\n",
            "Epoch 3/20\n",
            "\u001b[1m380/380\u001b[0m \u001b[32m━━━━━━━━━━━━━━━━━━━━\u001b[0m\u001b[37m\u001b[0m \u001b[1m1s\u001b[0m 3ms/step - accuracy: 0.8683 - loss: 0.3151 - val_accuracy: 0.9080 - val_loss: 0.2413\n",
            "Epoch 4/20\n",
            "\u001b[1m380/380\u001b[0m \u001b[32m━━━━━━━━━━━━━━━━━━━━\u001b[0m\u001b[37m\u001b[0m \u001b[1m1s\u001b[0m 3ms/step - accuracy: 0.8977 - loss: 0.2522 - val_accuracy: 0.9130 - val_loss: 0.2067\n",
            "Epoch 5/20\n",
            "\u001b[1m380/380\u001b[0m \u001b[32m━━━━━━━━━━━━━━━━━━━━\u001b[0m\u001b[37m\u001b[0m \u001b[1m1s\u001b[0m 3ms/step - accuracy: 0.9104 - loss: 0.2187 - val_accuracy: 0.9300 - val_loss: 0.1842\n",
            "Epoch 6/20\n",
            "\u001b[1m380/380\u001b[0m \u001b[32m━━━━━━━━━━━━━━━━━━━━\u001b[0m\u001b[37m\u001b[0m \u001b[1m1s\u001b[0m 4ms/step - accuracy: 0.9249 - loss: 0.1921 - val_accuracy: 0.9450 - val_loss: 0.1408\n",
            "Epoch 7/20\n",
            "\u001b[1m380/380\u001b[0m \u001b[32m━━━━━━━━━━━━━━━━━━━━\u001b[0m\u001b[37m\u001b[0m \u001b[1m1s\u001b[0m 3ms/step - accuracy: 0.9308 - loss: 0.1767 - val_accuracy: 0.9590 - val_loss: 0.1213\n",
            "Epoch 8/20\n",
            "\u001b[1m380/380\u001b[0m \u001b[32m━━━━━━━━━━━━━━━━━━━━\u001b[0m\u001b[37m\u001b[0m \u001b[1m2s\u001b[0m 3ms/step - accuracy: 0.9411 - loss: 0.1541 - val_accuracy: 0.9610 - val_loss: 0.1042\n",
            "Epoch 9/20\n",
            "\u001b[1m380/380\u001b[0m \u001b[32m━━━━━━━━━━━━━━━━━━━━\u001b[0m\u001b[37m\u001b[0m \u001b[1m1s\u001b[0m 3ms/step - accuracy: 0.9477 - loss: 0.1349 - val_accuracy: 0.9640 - val_loss: 0.0967\n",
            "Epoch 10/20\n",
            "\u001b[1m380/380\u001b[0m \u001b[32m━━━━━━━━━━━━━━━━━━━━\u001b[0m\u001b[37m\u001b[0m \u001b[1m1s\u001b[0m 3ms/step - accuracy: 0.9575 - loss: 0.1140 - val_accuracy: 0.9690 - val_loss: 0.0830\n",
            "Epoch 11/20\n",
            "\u001b[1m380/380\u001b[0m \u001b[32m━━━━━━━━━━━━━━━━━━━━\u001b[0m\u001b[37m\u001b[0m \u001b[1m1s\u001b[0m 3ms/step - accuracy: 0.9620 - loss: 0.1025 - val_accuracy: 0.9770 - val_loss: 0.0680\n",
            "Epoch 12/20\n",
            "\u001b[1m380/380\u001b[0m \u001b[32m━━━━━━━━━━━━━━━━━━━━\u001b[0m\u001b[37m\u001b[0m \u001b[1m1s\u001b[0m 3ms/step - accuracy: 0.9660 - loss: 0.0975 - val_accuracy: 0.9750 - val_loss: 0.0785\n",
            "Epoch 13/20\n",
            "\u001b[1m380/380\u001b[0m \u001b[32m━━━━━━━━━━━━━━━━━━━━\u001b[0m\u001b[37m\u001b[0m \u001b[1m1s\u001b[0m 3ms/step - accuracy: 0.9665 - loss: 0.0948 - val_accuracy: 0.9760 - val_loss: 0.0623\n",
            "Epoch 14/20\n",
            "\u001b[1m380/380\u001b[0m \u001b[32m━━━━━━━━━━━━━━━━━━━━\u001b[0m\u001b[37m\u001b[0m \u001b[1m1s\u001b[0m 3ms/step - accuracy: 0.9692 - loss: 0.0864 - val_accuracy: 0.9800 - val_loss: 0.0557\n",
            "Epoch 15/20\n",
            "\u001b[1m380/380\u001b[0m \u001b[32m━━━━━━━━━━━━━━━━━━━━\u001b[0m\u001b[37m\u001b[0m \u001b[1m2s\u001b[0m 4ms/step - accuracy: 0.9699 - loss: 0.0822 - val_accuracy: 0.9830 - val_loss: 0.0530\n",
            "Epoch 16/20\n",
            "\u001b[1m380/380\u001b[0m \u001b[32m━━━━━━━━━━━━━━━━━━━━\u001b[0m\u001b[37m\u001b[0m \u001b[1m1s\u001b[0m 3ms/step - accuracy: 0.9713 - loss: 0.0795 - val_accuracy: 0.9780 - val_loss: 0.0594\n",
            "Epoch 17/20\n",
            "\u001b[1m380/380\u001b[0m \u001b[32m━━━━━━━━━━━━━━━━━━━━\u001b[0m\u001b[37m\u001b[0m \u001b[1m1s\u001b[0m 3ms/step - accuracy: 0.9708 - loss: 0.0791 - val_accuracy: 0.9850 - val_loss: 0.0446\n",
            "Epoch 18/20\n",
            "\u001b[1m380/380\u001b[0m \u001b[32m━━━━━━━━━━━━━━━━━━━━\u001b[0m\u001b[37m\u001b[0m \u001b[1m1s\u001b[0m 3ms/step - accuracy: 0.9727 - loss: 0.0750 - val_accuracy: 0.9820 - val_loss: 0.0552\n",
            "Epoch 19/20\n",
            "\u001b[1m380/380\u001b[0m \u001b[32m━━━━━━━━━━━━━━━━━━━━\u001b[0m\u001b[37m\u001b[0m \u001b[1m1s\u001b[0m 3ms/step - accuracy: 0.9755 - loss: 0.0703 - val_accuracy: 0.9860 - val_loss: 0.0377\n",
            "Epoch 20/20\n",
            "\u001b[1m380/380\u001b[0m \u001b[32m━━━━━━━━━━━━━━━━━━━━\u001b[0m\u001b[37m\u001b[0m \u001b[1m1s\u001b[0m 3ms/step - accuracy: 0.9779 - loss: 0.0626 - val_accuracy: 0.9850 - val_loss: 0.0421\n"
          ]
        }
      ],
      "source": [
        "# Training Options\n",
        "batch_size = 100\n",
        "epochs = 20\n",
        "\n",
        "# Train ------------------------------------------------------------------------\n",
        "history = model.fit(train_seqs, train_labels,\n",
        "          batch_size=batch_size,\n",
        "          epochs=epochs,\n",
        "          verbose=1,\n",
        "          validation_data=(valid_seqs, valid_labels))\n",
        "# For fun you can change the runtime type to cpu only and\n",
        "# compare how long the model takes there\n",
        "# then extrapolate to millions of data examples"
      ]
    },
    {
      "cell_type": "markdown",
      "metadata": {
        "id": "j_X-3DfOQhrS"
      },
      "source": []
    },
    {
      "cell_type": "markdown",
      "metadata": {
        "id": "srhT4-NcTWzz"
      },
      "source": [
        "You will notice that we stored the training output in a **history** variable. We can use this variable to monitor the loss function and accuracy over the training progress."
      ]
    },
    {
      "cell_type": "code",
      "execution_count": 37,
      "metadata": {
        "colab": {
          "base_uri": "https://localhost:8080/",
          "height": 927
        },
        "id": "aBkXtzyoTXCI",
        "outputId": "d350c926-d868-4b1a-a6dd-75d28e17dd8b"
      },
      "outputs": [
        {
          "output_type": "display_data",
          "data": {
            "text/plain": [
              "<Figure size 640x480 with 1 Axes>"
            ],
            "image/png": "[encoded data removed]"
          },
          "metadata": {}
        },
        {
          "output_type": "display_data",
          "data": {
            "text/plain": [
              "<Figure size 640x480 with 1 Axes>"
            ],
            "image/png": "[encoded data removed]"
          },
          "metadata": {}
        }
      ],
      "source": [
        "# Plot Training and Validation Loss ------------------------------\n",
        "plt.figure()\n",
        "plt.plot(history.history['loss'])\n",
        "plt.plot(history.history['val_loss'])\n",
        "plt.title('model loss')\n",
        "plt.ylabel('loss')\n",
        "plt.xlabel('epoch')\n",
        "plt.legend(['train', 'validation'])\n",
        "plt.show()\n",
        "\n",
        "# Plot Training and Validation Accuracy ------------------------------\n",
        "plt.figure()\n",
        "plt.plot(history.history['accuracy'])\n",
        "plt.plot(history.history['val_accuracy'])\n",
        "plt.title('model accuracy')\n",
        "plt.ylabel('accuracy')\n",
        "plt.xlabel('epoch')\n",
        "plt.legend(['train', 'validation'])\n",
        "plt.show()\n"
      ]
    },
    {
      "cell_type": "markdown",
      "metadata": {
        "id": "J3sAKG3hV_CQ"
      },
      "source": [
        "Looks alright, the training as well as the validation accuracy is climbing from epoch to epoch and slows down a little more after every epoch. It is now your task to find better hyperparameters for our network and training procedure to see how high up you can get the accuracy.\n",
        "\n",
        "Tipps:\n",
        "\n",
        "* Should we train longer?\n",
        "* Do we need more hidden layers?\n",
        "* Could we max pool over the entire sequence to get one output per filter?\n",
        "* Would a second layer be beneficial?\n",
        "* You could also bias the network architechture with some biological knowledge: How long are transcription factor binding motifs in general and what would be an appropriate filter_width then?\n",
        "\n",
        "(Hint: you can do pretty well in 5 - 10 epochs with minor tweaks!)\n"
      ]
    },
    {
      "cell_type": "markdown",
      "metadata": {
        "id": "Pl7Z7qITWNoP"
      },
      "source": [
        "Evaluation and Prediction\n",
        "\n",
        "Once you are happy with you network performance or in case you want to jump ahead first and optimize later, we will evaluate our network on the held out validation data. Technically, we only optimized on the training data set but we always kept an eye on the validation data loss as well. We are discarding all nets that do well on the training but worse at the validation (overfitted), therefore we always have an intrinsic bias. The test data set is meant to have never been touched throughout the whole optimization process and we evaluate the perormance of our final model on this set to get an unbiased estimate of its performance."
      ]
    },
    {
      "cell_type": "code",
      "execution_count": 38,
      "metadata": {
        "colab": {
          "base_uri": "https://localhost:8080/"
        },
        "id": "LKJCMoPPWdkq",
        "outputId": "6ff7e468-fc09-43a2-cb11-a55c60cc789f"
      },
      "outputs": [
        {
          "output_type": "stream",
          "name": "stdout",
          "text": [
            "(1000, 200, 4)\n",
            "Test loss: 0.04569614678621292\n",
            "Test accuracy: 0.9860000014305115\n"
          ]
        }
      ],
      "source": [
        "# Evaluate ---------------------------------------------------------------------\n",
        "test_file = \"./data/pwm_seq_200bp_test_set.txt\"\n",
        "test_labels, test_seqs = read_data(test_file)\n",
        "score = model.evaluate(test_seqs, test_labels, verbose=0)\n",
        "print(test_seqs.shape)\n",
        "print('Test loss:', score[0])\n",
        "print('Test accuracy:', score[1])"
      ]
    },
    {
      "cell_type": "code",
      "source": [
        "\n"
      ],
      "metadata": {
        "id": "1_u29IJzFgPk"
      },
      "execution_count": null,
      "outputs": []
    },
    {
      "cell_type": "markdown",
      "source": [
        "![image.png](data:image/png;base64,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)"
      ],
      "metadata": {
        "id": "3QHHZSpSfJ4G"
      }
    },
    {
      "cell_type": "markdown",
      "source": [
        "![image.png](data:image/png;base64,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)"
      ],
      "metadata": {
        "id": "9O9x_M7Sb7pD"
      }
    },
    {
      "cell_type": "markdown",
      "source": [
        "epoch 20: <br>\n",
        "Test loss: 0.14391350746154785\n",
        "Test accuracy: 0.9380000233650208\n",
        "Epoch 20/20\n",
        "380/380 ━━━━━━━━━━━━━━━━━━━━ 3s 4ms/step - accuracy: 0.9608 - loss: 0.1078 - val_accuracy: 0.9420 - val_loss: 0.1429"
      ],
      "metadata": {
        "id": "vioOQB6sFpk8"
      }
    },
    {
      "cell_type": "markdown",
      "metadata": {
        "id": "HI7MBOL9Wfek"
      },
      "source": [
        "\n",
        "\n",
        "Once we are happy with our network we obviously want to employ it as well. Lets say we have a new sequence we want to classify.\n"
      ]
    },
    {
      "cell_type": "code",
      "execution_count": null,
      "metadata": {
        "colab": {
          "base_uri": "https://localhost:8080/"
        },
        "id": "Aq185u3_Wiar",
        "outputId": "9f2d4913-3253-40a9-ce69-4f616eb9fde7"
      },
      "outputs": [
        {
          "output_type": "stream",
          "name": "stdout",
          "text": [
            "Sequence: ATGGCTGATAATGACGATTGTACAGATGGTGGATGAGATTGCCTCGTCCCGGCAGCATTACCCCCTGGTGGCAACGGCCACCAGGGGGCAATAAATCTGTGTCTTATCTCCGAGACCAAACAATTCCACAGCCTCTTATACAGCACCGAATGGACCGCCCCCTGGTGGCCAGGTATCGTCGAGGGCTCAATTAAACTCCT\n",
            "\u001b[1m1/1\u001b[0m \u001b[32m━━━━━━━━━━━━━━━━━━━━\u001b[0m\u001b[37m\u001b[0m \u001b[1m0s\u001b[0m 198ms/step\n",
            "\n",
            "Class Prediction \"Probability\":\n",
            "\tClass 0 = 2.2775263e-08\n",
            "\tClass 1 = 1.1804945e-05\n",
            "\tClass 2 = 0.0047106124\n",
            "\tClass 3 = 0.99527764\n",
            "\n",
            "True Class: 3\n"
          ]
        }
      ],
      "source": [
        "# Predictions ------------------------------------------------------------------\n",
        "# read test sequences again\n",
        "with open(test_file, \"r\") as f:\n",
        "    seqs = []\n",
        "    labels = []\n",
        "    for i,l in enumerate(f):\n",
        "        l = l.rstrip()\n",
        "        l = l.split(\"\\t\")\n",
        "        seqs.append(l[1])\n",
        "        labels.append(l[0])\n",
        "\n",
        "# select a single sequence\n",
        "single_seq = seqs[0]\n",
        "single_label = labels[0]\n",
        "\n",
        "print(\"Sequence: \" + single_seq)\n",
        "\n",
        "# hot encode\n",
        "hotseq = get_hot_coded_seq(single_seq)\n",
        "\n",
        "# calculate predictions\n",
        "single_prediction = model.predict(np.expand_dims(hotseq, axis=0))\n",
        "print(\"\\nClass Prediction \\\"Probability\\\":\")\n",
        "print(\"\\tClass 0 = %s\" % single_prediction[0][0])\n",
        "print(\"\\tClass 1 = %s\" % single_prediction[0][1])\n",
        "print(\"\\tClass 2 = %s\" % single_prediction[0][2])\n",
        "print(\"\\tClass 3 = %s\" % single_prediction[0][3])\n",
        "\n",
        "# print the true class\n",
        "print(\"\\nTrue Class: \" + single_label)\n"
      ]
    },
    {
      "cell_type": "code",
      "execution_count": null,
      "metadata": {
        "colab": {
          "base_uri": "https://localhost:8080/"
        },
        "id": "R8QUuQ7hWzSG",
        "outputId": "45498a2e-dc00-4ac7-d4dc-32e55b6b1e70"
      },
      "outputs": [
        {
          "output_type": "stream",
          "name": "stdout",
          "text": [
            "\u001b[1m32/32\u001b[0m \u001b[32m━━━━━━━━━━━━━━━━━━━━\u001b[0m\u001b[37m\u001b[0m \u001b[1m0s\u001b[0m 5ms/step\n",
            "(1000, 4)\n",
            "[[3.9629136e-08 3.4502096e-05 9.9993694e-01 2.8588027e-05]\n",
            " [2.8087356e-07 2.0209288e-04 6.1799153e-03 9.9361777e-01]\n",
            " [2.6318336e-01 7.3681664e-01 3.1328873e-10 3.0842690e-10]]\n"
          ]
        }
      ],
      "source": [
        "# or just run all predictions for the test and visualize a few\n",
        "all_test_predictions = model.predict(test_seqs)\n",
        "print(all_test_predictions.shape)\n",
        "print(all_test_predictions[5:8])"
      ]
    },
    {
      "cell_type": "markdown",
      "metadata": {
        "id": "SmsbE-BWXbcN"
      },
      "source": [
        "\n",
        "##Inspecting Learned Filters\n",
        "\n",
        "Now that we have a reasonably working model, we also want to inspect and see what the net has learned. In applications, we often don't care what the network has learned as long as it performs well and outperforms our competitors. For many research problems however, we are exactly interested in what the network has learned. What features distinguish a cat from a dog or if it comes to decision making (e.g. health care or self driving cars), we obviously want to be able to understand and be able to justify why a certain decision has been chosen and learn how to correct missbehavior.\n",
        "\n",
        "In genomics we usually want to learn what sequence features distinguish the sequences from one another and map them back to biological properties and factors. The easiest way is to just plot the filter weights. In the first convolutional layer, our filters are just like position weight matrices, multiplying every base at every position with a learned weight and summing the value up (plus a bias and pipe it through the RELU activation function). Unfortunatly, this becomes less straight forward to interpret in deeper layers. There are ways of back engineering and learning the importance of filters in higher layers (e.g. https://github.com/kundajelab/deeplift) but we concern ourself only with the simple first layer here.\n",
        "\n",
        "We can get the weigths of the filters from the model, save them as .txt files and plot them out. I wrote a wrapper to plot the filter weigths for you in R. Run the code, check the filter_X.txt files and look at the plots and try to interpret them. In Colab runs you probaly want to download them.\n",
        "\n",
        "* Do any look like transciption factor binding sites you know?\n",
        "* Do you recognize any sequence features that are not binding motifs?\n",
        "* Can you simplify the sequences/ motifs from the plot an query them in a transcription factor binding motif database (http://jaspar.genereg.net/)\n",
        "* What is your best bet: Which sequence motifs did we use for simulating the sequence classes?\n",
        "* Check the input data. Split them up by class into text files with only the sequences one sequence per line (see example). Query them in standard motif analysis tools (e.g. http://rsat.sb-roscoff.fr/oligo-analysis_form.cgi or http://meme-suite.org/tools/meme). Do these tools find different or similar things?\n"
      ]
    },
    {
      "cell_type": "code",
      "execution_count": null,
      "metadata": {
        "id": "ncB7-8g-Ybu3"
      },
      "outputs": [],
      "source": [
        "# Inspect weights --------------------------------------------------------------\n",
        "model_weights = model.get_weights()\n",
        "filter_weights = model_weights[0]\n",
        "\n",
        "# save conv filter weights\n",
        "for k in range(model_weights[0].shape[2]):\n",
        "    # save single filter weights\n",
        "    np.savetxt((\"./visualize/filter_%s.txt\" % k), filter_weights[:,:,k], delimiter=\"\\t\")"
      ]
    },
    {
      "cell_type": "code",
      "execution_count": null,
      "metadata": {
        "colab": {
          "base_uri": "https://localhost:8080/"
        },
        "id": "fhlssg9kaIiy",
        "outputId": "f36aae3b-0f3a-46df-ba13-57c34dcf4012"
      },
      "outputs": [
        {
          "output_type": "stream",
          "name": "stdout",
          "text": [
            "Process is interrupted.\n"
          ]
        }
      ],
      "source": [
        "%%bash\n",
        "\n",
        "# Plot them using the supplied R script\n",
        "Rscript ./helper/plot_sequence_kernel_weights_per_dir.R ./visualize ./visualize plot_weight 5 2.5"
      ]
    },
    {
      "cell_type": "markdown",
      "metadata": {
        "id": "M8QJwyRZa7NJ"
      },
      "source": [
        "Now thay don't look the nice motifs with information content we are used to look at from ChIP-seq analysis and such. Our filters have positive and negative values all contributing to the \"matching score\" of a filter at a given position. In contrast, information content motifs don't have negative values just less informative bases that occur less often in a, let's say, binding site. Luckily there is a [transformation](https://www.biorxiv.org/content/10.1101/163220v2) we can apply to the filter weights to derive information content. For our purposes her just use the helper script that implements the transformation."
      ]
    },
    {
      "cell_type": "code",
      "execution_count": null,
      "metadata": {
        "colab": {
          "base_uri": "https://localhost:8080/"
        },
        "id": "VdQK0t8vbsJn",
        "outputId": "1850357b-7003-44ce-94b9-5b431ee60c54"
      },
      "outputs": [
        {
          "output_type": "stream",
          "name": "stdout",
          "text": [
            "Process is interrupted.\n"
          ]
        }
      ],
      "source": [
        "%%bash\n",
        "\n",
        "# Plot ICM like motifs using the supplied R script\n",
        "Rscript ./helper/plot_sequence_kernel_icms_per_dir.R ./visualize ./visualize plot_motif 5 2.5"
      ]
    },
    {
      "cell_type": "markdown",
      "metadata": {
        "id": "IIPoJryvdiwa"
      },
      "source": [
        "A little wrapper to zip all plots and filter weigths into a tar.gz. Gownload them from the files menu."
      ]
    },
    {
      "cell_type": "code",
      "execution_count": null,
      "metadata": {
        "colab": {
          "base_uri": "https://localhost:8080/"
        },
        "id": "eQC9DTgZdi8N",
        "outputId": "3df2d6b2-4fba-4183-ff8f-c9d8195c98dc"
      },
      "outputs": [
        {
          "output_type": "stream",
          "name": "stdout",
          "text": [
            "./visualize/\n",
            "./visualize/plot_motif_filter_2.png\n",
            "./visualize/plot_weight_filter_9.png\n",
            "./visualize/filter_9.txt\n",
            "./visualize/plot_weight_filter_7.png\n",
            "./visualize/filter_3.txt\n",
            "./visualize/plot_weight_filter_0.png\n",
            "./visualize/filter_2.txt\n",
            "./visualize/filter_8.txt\n",
            "./visualize/plot_motif_filter_5.png\n",
            "./visualize/filter_7.txt\n",
            "./visualize/plot_weight_filter_2.png\n",
            "./visualize/plot_motif_filter_1.png\n",
            "./visualize/plot_motif_filter_4.png\n",
            "./visualize/plot_weight_filter_8.png\n",
            "./visualize/plot_motif_filter_7.png\n",
            "./visualize/plot_weight_filter_6.png\n",
            "./visualize/filter_0.txt\n",
            "./visualize/filter_5.txt\n",
            "./visualize/plot_motif_filter_8.png\n",
            "./visualize/plot_motif_filter_3.png\n",
            "./visualize/plot_weight_filter_1.png\n",
            "./visualize/plot_weight_filter_4.png\n",
            "./visualize/filter_6.txt\n",
            "./visualize/plot_motif_filter_6.png\n",
            "./visualize/filter_1.txt\n",
            "./visualize/plot_weight_filter_5.png\n",
            "./visualize/filter_4.txt\n",
            "./visualize/plot_motif_filter_0.png\n",
            "./visualize/plot_weight_filter_3.png\n"
          ]
        }
      ],
      "source": [
        "%%bash\n",
        "\n",
        "tar czvf visualize.tar.gz ./visualize"
      ]
    },
    {
      "cell_type": "markdown",
      "metadata": {
        "id": "T6-X-0dZc6IQ"
      },
      "source": [
        "## Visualize Importance\n",
        "\n",
        "A popular approach to visualize and start to interpret the importance of sequence features is the so called **Saliency**. This term has been introduced to descripe the gradient of the model output with respect to a sequence input. In other words, how much would the prediction change if we were to change a single base pair. Here change mean changing the *1* in the hot encoding to a marginally different value e.g. *1.00001*.\n",
        "\n",
        "\n",
        "I nicked this function and visualization was adapted from the James Zhou's [Primer on Genomics](https://colab.research.google.com/drive/17E4h5aAOioh5DiTo7MZg4hpL6Z_0FyWr#scrollTo=WNT_Au-dAP8a) colab notebook. Check it out and the paper is worth a read.\n",
        "\n",
        "\n",
        "In summary, what we are doing here is calculating the gradient of the model ouput with respect to a single sequence input. We then multiply this gradient with the one hot endoded sequence, effectively zeroing all non present bases, and then sum this over the 4 output classes and trim everything below zero (for pure ease of visualization)."
      ]
    },
    {
      "cell_type": "code",
      "execution_count": null,
      "metadata": {
        "id": "6ocZEt_2eZcw"
      },
      "outputs": [],
      "source": [
        "import tensorflow.keras.backend as K\n",
        "\n",
        "def compute_salient_bases(model, x):\n",
        "  input_tensors = [model.input]\n",
        "  gradients = model.optimizer.get_gradients(model.output, model.input)\n",
        "  compute_gradients = K.function(inputs = input_tensors, outputs = gradients)\n",
        "\n",
        "  gradients = compute_gradients([x])[0][0]\n",
        "  x = np.squeeze(x, axis = 0)\n",
        "  sal = np.clip(np.sum(np.multiply(gradients,x), axis=1),a_min=0, a_max=None)\n",
        "\n",
        "  return sal"
      ]
    },
    {
      "cell_type": "code",
      "execution_count": null,
      "metadata": {
        "colab": {
          "base_uri": "https://localhost:8080/"
        },
        "id": "vg5oB0RdgzgS",
        "outputId": "e224e812-689d-4a13-e753-dac6c1f4d2c2"
      },
      "outputs": [
        {
          "output_type": "stream",
          "name": "stdout",
          "text": [
            "\u001b[1m1/1\u001b[0m \u001b[32m━━━━━━━━━━━━━━━━━━━━\u001b[0m\u001b[37m\u001b[0m \u001b[1m0s\u001b[0m 29ms/step\n",
            "Prediction: [[5.7596783e-03 9.9424028e-01 1.9433859e-11 2.9300218e-14]]\n",
            "True Label: 1\n"
          ]
        }
      ],
      "source": [
        "# use a single sequence again (index 1 works well)\n",
        "selected_index = 1\n",
        "\n",
        "single_seq = seqs[selected_index]\n",
        "\n",
        "# hot encode\n",
        "hotseq = get_hot_coded_seq(single_seq)\n",
        "\n",
        "hotseq = np.expand_dims(hotseq, axis=0)\n",
        "\n",
        "# calculate predictions\n",
        "single_prediction = model.predict(hotseq)\n",
        "\n",
        "print(\"Prediction: %s\" % single_prediction)\n",
        "\n",
        "print(\"True Label: %s\" % labels[selected_index])\n"
      ]
    },
    {
      "cell_type": "code",
      "execution_count": null,
      "metadata": {
        "colab": {
          "base_uri": "https://localhost:8080/",
          "height": 382
        },
        "id": "fTCrGCS6mMKP",
        "outputId": "0d65cb6f-1336-49ed-e386-d71fd6e19301"
      },
      "outputs": [
        {
          "output_type": "error",
          "ename": "AttributeError",
          "evalue": "The layer sequential_1 has never been called and thus has no defined input.",
          "traceback": [
            "\u001b[0;31m---------------------------------------------------------------------------\u001b[0m",
            "\u001b[0;31mAttributeError\u001b[0m                            Traceback (most recent call last)",
            "\u001b[0;32m<ipython-input-54-ba4d87a9ded7>\u001b[0m in \u001b[0;36m<cell line: 0>\u001b[0;34m()\u001b[0m\n\u001b[0;32m----> 1\u001b[0;31m \u001b[0msal\u001b[0m \u001b[0;34m=\u001b[0m \u001b[0mcompute_salient_bases\u001b[0m\u001b[0;34m(\u001b[0m\u001b[0mmodel\u001b[0m\u001b[0;34m,\u001b[0m \u001b[0mhotseq\u001b[0m\u001b[0;34m)\u001b[0m\u001b[0;34m\u001b[0m\u001b[0;34m\u001b[0m\u001b[0m\n\u001b[0m\u001b[1;32m      2\u001b[0m \u001b[0;34m\u001b[0m\u001b[0m\n\u001b[1;32m      3\u001b[0m \u001b[0mplt\u001b[0m\u001b[0;34m.\u001b[0m\u001b[0mfigure\u001b[0m\u001b[0;34m(\u001b[0m\u001b[0mfigsize\u001b[0m\u001b[0;34m=\u001b[0m\u001b[0;34m[\u001b[0m\u001b[0;36m25\u001b[0m\u001b[0;34m,\u001b[0m\u001b[0;36m3\u001b[0m\u001b[0;34m]\u001b[0m\u001b[0;34m)\u001b[0m\u001b[0;34m\u001b[0m\u001b[0;34m\u001b[0m\u001b[0m\n\u001b[1;32m      4\u001b[0m \u001b[0mbarlist\u001b[0m \u001b[0;34m=\u001b[0m \u001b[0mplt\u001b[0m\u001b[0;34m.\u001b[0m\u001b[0mbar\u001b[0m\u001b[0;34m(\u001b[0m\u001b[0mnp\u001b[0m\u001b[0;34m.\u001b[0m\u001b[0marange\u001b[0m\u001b[0;34m(\u001b[0m\u001b[0mlen\u001b[0m\u001b[0;34m(\u001b[0m\u001b[0msal\u001b[0m\u001b[0;34m)\u001b[0m\u001b[0;34m)\u001b[0m\u001b[0;34m,\u001b[0m \u001b[0msal\u001b[0m\u001b[0;34m)\u001b[0m\u001b[0;34m\u001b[0m\u001b[0;34m\u001b[0m\u001b[0m\n\u001b[1;32m      5\u001b[0m \u001b[0mplt\u001b[0m\u001b[0;34m.\u001b[0m\u001b[0mxlabel\u001b[0m\u001b[0;34m(\u001b[0m\u001b[0;34m'Bases'\u001b[0m\u001b[0;34m)\u001b[0m\u001b[0;34m\u001b[0m\u001b[0;34m\u001b[0m\u001b[0m\n",
            "\u001b[0;32m<ipython-input-52-8e3f383a63a0>\u001b[0m in \u001b[0;36mcompute_salient_bases\u001b[0;34m(model, x)\u001b[0m\n\u001b[1;32m      2\u001b[0m \u001b[0;34m\u001b[0m\u001b[0m\n\u001b[1;32m      3\u001b[0m \u001b[0;32mdef\u001b[0m \u001b[0mcompute_salient_bases\u001b[0m\u001b[0;34m(\u001b[0m\u001b[0mmodel\u001b[0m\u001b[0;34m,\u001b[0m \u001b[0mx\u001b[0m\u001b[0;34m)\u001b[0m\u001b[0;34m:\u001b[0m\u001b[0;34m\u001b[0m\u001b[0;34m\u001b[0m\u001b[0m\n\u001b[0;32m----> 4\u001b[0;31m   \u001b[0minput_tensors\u001b[0m \u001b[0;34m=\u001b[0m \u001b[0;34m[\u001b[0m\u001b[0mmodel\u001b[0m\u001b[0;34m.\u001b[0m\u001b[0minput\u001b[0m\u001b[0;34m]\u001b[0m\u001b[0;34m\u001b[0m\u001b[0;34m\u001b[0m\u001b[0m\n\u001b[0m\u001b[1;32m      5\u001b[0m   \u001b[0mgradients\u001b[0m \u001b[0;34m=\u001b[0m \u001b[0mmodel\u001b[0m\u001b[0;34m.\u001b[0m\u001b[0moptimizer\u001b[0m\u001b[0;34m.\u001b[0m\u001b[0mget_gradients\u001b[0m\u001b[0;34m(\u001b[0m\u001b[0mmodel\u001b[0m\u001b[0;34m.\u001b[0m\u001b[0moutput\u001b[0m\u001b[0;34m,\u001b[0m \u001b[0mmodel\u001b[0m\u001b[0;34m.\u001b[0m\u001b[0minput\u001b[0m\u001b[0;34m)\u001b[0m\u001b[0;34m\u001b[0m\u001b[0;34m\u001b[0m\u001b[0m\n\u001b[1;32m      6\u001b[0m   \u001b[0mcompute_gradients\u001b[0m \u001b[0;34m=\u001b[0m \u001b[0mK\u001b[0m\u001b[0;34m.\u001b[0m\u001b[0mfunction\u001b[0m\u001b[0;34m(\u001b[0m\u001b[0minputs\u001b[0m \u001b[0;34m=\u001b[0m \u001b[0minput_tensors\u001b[0m\u001b[0;34m,\u001b[0m \u001b[0moutputs\u001b[0m \u001b[0;34m=\u001b[0m \u001b[0mgradients\u001b[0m\u001b[0;34m)\u001b[0m\u001b[0;34m\u001b[0m\u001b[0;34m\u001b[0m\u001b[0m\n",
            "\u001b[0;32m/usr/local/lib/python3.11/dist-packages/keras/src/ops/operation.py\u001b[0m in \u001b[0;36minput\u001b[0;34m(self)\u001b[0m\n\u001b[1;32m    252\u001b[0m             \u001b[0mInput\u001b[0m \u001b[0mtensor\u001b[0m \u001b[0;32mor\u001b[0m \u001b[0mlist\u001b[0m \u001b[0mof\u001b[0m \u001b[0minput\u001b[0m \u001b[0mtensors\u001b[0m\u001b[0;34m.\u001b[0m\u001b[0;34m\u001b[0m\u001b[0;34m\u001b[0m\u001b[0m\n\u001b[1;32m    253\u001b[0m         \"\"\"\n\u001b[0;32m--> 254\u001b[0;31m         \u001b[0;32mreturn\u001b[0m \u001b[0mself\u001b[0m\u001b[0;34m.\u001b[0m\u001b[0m_get_node_attribute_at_index\u001b[0m\u001b[0;34m(\u001b[0m\u001b[0;36m0\u001b[0m\u001b[0;34m,\u001b[0m \u001b[0;34m\"input_tensors\"\u001b[0m\u001b[0;34m,\u001b[0m \u001b[0;34m\"input\"\u001b[0m\u001b[0;34m)\u001b[0m\u001b[0;34m\u001b[0m\u001b[0;34m\u001b[0m\u001b[0m\n\u001b[0m\u001b[1;32m    255\u001b[0m \u001b[0;34m\u001b[0m\u001b[0m\n\u001b[1;32m    256\u001b[0m     \u001b[0;34m@\u001b[0m\u001b[0mproperty\u001b[0m\u001b[0;34m\u001b[0m\u001b[0;34m\u001b[0m\u001b[0m\n",
            "\u001b[0;32m/usr/local/lib/python3.11/dist-packages/keras/src/ops/operation.py\u001b[0m in \u001b[0;36m_get_node_attribute_at_index\u001b[0;34m(self, node_index, attr, attr_name)\u001b[0m\n\u001b[1;32m    283\u001b[0m         \"\"\"\n\u001b[1;32m    284\u001b[0m         \u001b[0;32mif\u001b[0m \u001b[0;32mnot\u001b[0m \u001b[0mself\u001b[0m\u001b[0;34m.\u001b[0m\u001b[0m_inbound_nodes\u001b[0m\u001b[0;34m:\u001b[0m\u001b[0;34m\u001b[0m\u001b[0;34m\u001b[0m\u001b[0m\n\u001b[0;32m--> 285\u001b[0;31m             raise AttributeError(\n\u001b[0m\u001b[1;32m    286\u001b[0m                 \u001b[0;34mf\"The layer {self.name} has never been called \"\u001b[0m\u001b[0;34m\u001b[0m\u001b[0;34m\u001b[0m\u001b[0m\n\u001b[1;32m    287\u001b[0m                 \u001b[0;34mf\"and thus has no defined {attr_name}.\"\u001b[0m\u001b[0;34m\u001b[0m\u001b[0;34m\u001b[0m\u001b[0m\n",
            "\u001b[0;31mAttributeError\u001b[0m: The layer sequential_1 has never been called and thus has no defined input."
          ]
        }
      ],
      "source": [
        "sal = compute_salient_bases(model, hotseq)\n",
        "\n",
        "plt.figure(figsize=[25,3])\n",
        "barlist = plt.bar(np.arange(len(sal)), sal)\n",
        "plt.xlabel('Bases')\n",
        "plt.ylabel('Saliency values')\n",
        "plt.xticks(np.arange(len(sal)), list(single_seq));\n",
        "plt.title('Saliency map for bases in one of the test sequences');"
      ]
    },
    {
      "cell_type": "markdown",
      "metadata": {
        "id": "NKqSNnuhXkg4"
      },
      "source": [
        "## Further\n",
        "\n",
        "On the github page you wild find links to a slightly more difficult set, using more motifs and 300 bp sequences.\n",
        "You can adapt the notebook to run on those.\n"
      ]
    }
  ],
  "metadata": {
    "accelerator": "GPU",
    "colab": {
      "provenance": []
    },
    "kernelspec": {
      "display_name": "Python 3",
      "name": "python3"
    }
  },
  "nbformat": 4,
  "nbformat_minor": 0
}