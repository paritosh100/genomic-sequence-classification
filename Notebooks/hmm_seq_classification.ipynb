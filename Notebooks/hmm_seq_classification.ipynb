{
  "nbformat": 4,
  "nbformat_minor": 0,
  "metadata": {
    "colab": {
      "provenance": [],
      "gpuType": "V28"
    },
    "kernelspec": {
      "name": "python3",
      "display_name": "Python 3"
    },
    "language_info": {
      "name": "python"
    },
    "accelerator": "TPU"
  },
  "cells": [
    {
      "cell_type": "code",
      "source": [
        "%%bash\n",
        "\n",
        "# Download Example Data --------------------------------------------------------\n",
        "\n",
        "rm -rf ./sample_data/\n",
        "\n",
        "mkdir -p data\n",
        "\n",
        "rm -f ./data/*\n",
        "\n",
        "curl https://raw.githubusercontent.com/rschwess/tutorial_dl_for_genomics/master/data/pwm_seq_200bp_test_set.txt >./data/pwm_seq_200bp_test_set.txt\n",
        "curl https://raw.githubusercontent.com/rschwess/tutorial_dl_for_genomics/master/data/pwm_seq_200bp_valid_set.txt >./data/pwm_seq_200bp_valid_set.txt\n",
        "curl https://raw.githubusercontent.com/rschwess/tutorial_dl_for_genomics/master/data/pwm_seq_200bp_train_set.txt >./data/pwm_seq_200bp_train_set.txt\n"
      ],
      "metadata": {
        "colab": {
          "base_uri": "https://localhost:8080/"
        },
        "id": "9gocC05G0oRk",
        "outputId": "6a0e0394-2f05-45d7-de41-30b608f2ceba"
      },
      "execution_count": null,
      "outputs": [
        {
          "output_type": "stream",
          "name": "stderr",
          "text": [
            "  % Total    % Received % Xferd  Average Speed   Time    Time     Time  Current\n",
            "                                 Dload  Upload   Total   Spent    Left  Speed\n",
            "\r  0     0    0     0    0     0      0      0 --:--:-- --:--:-- --:--:--     0\r  2  198k    2  5679    0     0   9933      0  0:00:20 --:--:--  0:00:20  9928\r100  198k  100  198k    0     0   318k      0 --:--:-- --:--:-- --:--:--  318k\n",
            "  % Total    % Received % Xferd  Average Speed   Time    Time     Time  Current\n",
            "                                 Dload  Upload   Total   Spent    Left  Speed\n",
            "\r  0     0    0     0    0     0      0      0 --:--:-- --:--:-- --:--:--     0\r100  198k  100  198k    0     0   438k      0 --:--:-- --:--:-- --:--:--  439k\n",
            "  % Total    % Received % Xferd  Average Speed   Time    Time     Time  Current\n",
            "                                 Dload  Upload   Total   Spent    Left  Speed\n",
            "\r  0     0    0     0    0     0      0      0 --:--:-- --:--:-- --:--:--     0\r  0     0    0     0    0     0      0      0 --:--:-- --:--:-- --:--:--     0\r 86 7533k   86 6501k    0     0  5544k      0  0:00:01  0:00:01 --:--:-- 5542k\r100 7533k  100 7533k    0     0  6273k      0  0:00:01  0:00:01 --:--:-- 6272k\n"
          ]
        }
      ]
    },
    {
      "cell_type": "code",
      "source": [
        "%%bash\n",
        "\n",
        "# Create some directories and download helper scripts for later ----------------\n",
        "mkdir -p helper visualize\n",
        "\n",
        "curl https://raw.githubusercontent.com/rschwess/tutorial_dl_for_genomics/master/helper/functions_for_motif_plotting.R >./helper/functions_for_motif_plotting.R\n",
        "curl https://raw.githubusercontent.com/rschwess/tutorial_dl_for_genomics/master/helper/plot_sequence_kernel_weights_per_dir.R >./helper/plot_sequence_kernel_weights_per_dir.R\n",
        "curl https://raw.githubusercontent.com/rschwess/tutorial_dl_for_genomics/master/helper/plot_sequence_kernel_icms_per_dir.R >./helper/plot_sequence_kernel_icms_per_dir.R\n"
      ],
      "metadata": {
        "colab": {
          "base_uri": "https://localhost:8080/"
        },
        "id": "trhQXtte0q4m",
        "outputId": "798719ff-142a-4064-a518-92496f2a3cbd"
      },
      "execution_count": null,
      "outputs": [
        {
          "output_type": "stream",
          "name": "stderr",
          "text": [
            "  % Total    % Received % Xferd  Average Speed   Time    Time     Time  Current\n",
            "                                 Dload  Upload   Total   Spent    Left  Speed\n",
            "\r  0     0    0     0    0     0      0      0 --:--:-- --:--:-- --:--:--     0\r100 18139  100 18139    0     0  46823      0 --:--:-- --:--:-- --:--:-- 46870\n",
            "  % Total    % Received % Xferd  Average Speed   Time    Time     Time  Current\n",
            "                                 Dload  Upload   Total   Spent    Left  Speed\n",
            "\r  0     0    0     0    0     0      0      0 --:--:-- --:--:-- --:--:--     0\r100  1512  100  1512    0     0   4071      0 --:--:-- --:--:-- --:--:--  4075\n",
            "  % Total    % Received % Xferd  Average Speed   Time    Time     Time  Current\n",
            "                                 Dload  Upload   Total   Spent    Left  Speed\n",
            "\r  0     0    0     0    0     0      0      0 --:--:-- --:--:-- --:--:--     0\r  0     0    0     0    0     0      0      0 --:--:-- --:--:-- --:--:--     0\r100  1510  100  1510    0     0   4017      0 --:--:-- --:--:-- --:--:--  4015\n"
          ]
        }
      ]
    },
    {
      "cell_type": "code",
      "source": [
        "%%bash\n",
        "\n",
        "# Check Data Layout ###########################\n",
        "\n",
        "# check lines per set\n",
        "echo \"Numbers:\"\n",
        "wc -l ./data/pwm*\n",
        "\n",
        "# check data format\n",
        "echo -ne \"\\nFormat\\n\"\n",
        "head -n 3 ./data/pwm_seq_200bp_test_set.txt\n",
        "\n",
        "# check class representation\n",
        "echo -ne \"\\nClass Representations:\\n\"\n",
        "\n",
        "echo -ne \"\\nTraining:\\n\"\n",
        "cut -f 1 ./data/pwm_seq_200bp_train_set.txt | sort | uniq -c\n",
        "echo -ne \"\\nTest:\\n\"\n",
        "cut -f 1 ./data/pwm_seq_200bp_test_set.txt | sort | uniq -c\n",
        "echo -ne \"\\nValidation:\\n\"\n",
        "cut -f 1 ./data/pwm_seq_200bp_valid_set.txt | sort | uniq -c\n",
        "\n"
      ],
      "metadata": {
        "colab": {
          "base_uri": "https://localhost:8080/"
        },
        "id": "Rx4f6Jsx0v1p",
        "outputId": "4ab54a3d-d41e-4d2f-e686-f5c852cd6de6"
      },
      "execution_count": null,
      "outputs": [
        {
          "output_type": "stream",
          "name": "stdout",
          "text": [
            "Numbers:\n",
            "   1000 ./data/pwm_seq_200bp_test_set.txt\n",
            "  38000 ./data/pwm_seq_200bp_train_set.txt\n",
            "   1000 ./data/pwm_seq_200bp_valid_set.txt\n",
            "  40000 total\n",
            "\n",
            "Format\n",
            "3\tATGGCTGATAATGACGATTGTACAGATGGTGGATGAGATTGCCTCGTCCCGGCAGCATTACCCCCTGGTGGCAACGGCCACCAGGGGGCAATAAATCTGTGTCTTATCTCCGAGACCAAACAATTCCACAGCCTCTTATACAGCACCGAATGGACCGCCCCCTGGTGGCCAGGTATCGTCGAGGGCTCAATTAAACTCCT\n",
            "1\tGCAGGCATTATGAGGTAATAAACTCAGCGCGTGTTGAGATAAGATTCTAAGCGGCGCGCGCGCGCGACCGCGAGAAGTGGAGATTAAGCGCGCTAATGGTGTGTCCGATAGTCACGTGTCCGCGCGGCGCGCGCCATGTATGTTCTGTTCTGCGCGCCGCGCTTTGCGCGCGCGCTTGGTATATAAAGCTGGGTTTTAAT\n",
            "1\tGGCGCGCCTGGCATTTCTTAGAGAGGCGCGCAATACAACGAGAATCACCTAGAAGCCGTGTCTGTTGCTTATCACCGTTCGCCTAGGCCGCACGGGCACGTGGGTCTCCCGTTCCCTCAATCCTAACAGAAGCGCGCTAAGTCGTCGTTGGCTCTCTTACTAGCAGCGCGCCTGTACTAACCCGGCACTCGGCGGTGGGC\n",
            "\n",
            "Class Representations:\n",
            "\n",
            "Training:\n",
            "   9489 0\n",
            "   9513 1\n",
            "   9508 2\n",
            "   9490 3\n",
            "\n",
            "Test:\n",
            "    268 0\n",
            "    237 1\n",
            "    243 2\n",
            "    252 3\n",
            "\n",
            "Validation:\n",
            "    243 0\n",
            "    250 1\n",
            "    249 2\n",
            "    258 3\n"
          ]
        }
      ]
    },
    {
      "cell_type": "code",
      "source": [
        "pip install hmmlearn"
      ],
      "metadata": {
        "colab": {
          "base_uri": "https://localhost:8080/"
        },
        "id": "gvIuXTSnx0NP",
        "outputId": "125bcf21-e9e6-47cd-c79e-1c2786807757"
      },
      "execution_count": null,
      "outputs": [
        {
          "output_type": "stream",
          "name": "stdout",
          "text": [
            "Collecting hmmlearn\n",
            "  Downloading hmmlearn-0.3.3-cp311-cp311-manylinux_2_17_x86_64.manylinux2014_x86_64.whl.metadata (3.0 kB)\n",
            "Requirement already satisfied: numpy>=1.10 in /usr/local/lib/python3.11/dist-packages (from hmmlearn) (2.0.2)\n",
            "Requirement already satisfied: scikit-learn!=0.22.0,>=0.16 in /usr/local/lib/python3.11/dist-packages (from hmmlearn) (1.6.1)\n",
            "Requirement already satisfied: scipy>=0.19 in /usr/local/lib/python3.11/dist-packages (from hmmlearn) (1.14.1)\n",
            "Requirement already satisfied: joblib>=1.2.0 in /usr/local/lib/python3.11/dist-packages (from scikit-learn!=0.22.0,>=0.16->hmmlearn) (1.4.2)\n",
            "Requirement already satisfied: threadpoolctl>=3.1.0 in /usr/local/lib/python3.11/dist-packages (from scikit-learn!=0.22.0,>=0.16->hmmlearn) (3.6.0)\n",
            "Downloading hmmlearn-0.3.3-cp311-cp311-manylinux_2_17_x86_64.manylinux2014_x86_64.whl (165 kB)\n",
            "\u001b[2K   \u001b[90m━━━━━━━━━━━━━━━━━━━━━━━━━━━━━━━━━━━━━━━━\u001b[0m \u001b[32m165.9/165.9 kB\u001b[0m \u001b[31m3.0 MB/s\u001b[0m eta \u001b[36m0:00:00\u001b[0m\n",
            "\u001b[?25hInstalling collected packages: hmmlearn\n",
            "Successfully installed hmmlearn-0.3.3\n"
          ]
        }
      ]
    },
    {
      "cell_type": "code",
      "source": [
        "import pandas as pd\n",
        "import numpy as np\n",
        "from hmmlearn import hmm\n",
        "from sklearn.metrics import accuracy_score, confusion_matrix, classification_report\n"
      ],
      "metadata": {
        "id": "ucYbQun6xyND"
      },
      "execution_count": null,
      "outputs": []
    },
    {
      "cell_type": "code",
      "source": [
        "def encode_sequence(seq):\n",
        "    return [nucleotide_map[nuc] for nuc in seq if nuc in nucleotide_map]\n",
        "\n",
        "def load_data(filepath):\n",
        "    data = pd.read_csv(filepath, sep=\"\\t\", header=None, names=[\"label\", \"sequence\"])\n",
        "    data[\"encoded\"] = data[\"sequence\"].apply(encode_sequence)\n",
        "    return data\n",
        "\n",
        "def train_hmm_per_label(train_data, n_states=4):\n",
        "    label_hmms = {}\n",
        "    for label in sorted(train_data['label'].unique()):\n",
        "        label_data = train_data[train_data['label'] == label]\n",
        "        sequences = label_data['encoded'].tolist()\n",
        "        lengths = [len(seq) for seq in sequences]\n",
        "        X = np.concatenate([np.array(seq) for seq in sequences]).reshape(-1, 1)\n",
        "\n",
        "        model = hmm.CategoricalHMM(n_components=n_states, n_iter=100, tol=1e-5, init_params='ste',algorithm='map')\n",
        "        model.fit(X, lengths)\n",
        "        label_hmms[label] = model\n",
        "    return label_hmms\n",
        "\n",
        "def predict_labels(hmm_models, data):\n",
        "    predictions = []\n",
        "    for seq in data['encoded']:\n",
        "        seq_array = np.array(seq).reshape(-1, 1)\n",
        "        scores = {label: model.score(seq_array) for label, model in hmm_models.items()}\n",
        "        pred_label = max(scores, key=scores.get)\n",
        "        predictions.append(pred_label)\n",
        "    return predictions"
      ],
      "metadata": {
        "id": "1lqV6qfNx3nX"
      },
      "execution_count": null,
      "outputs": []
    },
    {
      "cell_type": "code",
      "source": [
        "def evaluate(true_labels, pred_labels, set_name=\"Test\"):\n",
        "    print(f\"\\n--- {set_name} Set Evaluation ---\")\n",
        "    print(\"Accuracy:\", accuracy_score(true_labels, pred_labels))\n",
        "    print(\"Confusion Matrix:\\n\", confusion_matrix(true_labels, pred_labels))\n",
        "    print(\"Classification Report:\\n\", classification_report(true_labels, pred_labels))\n"
      ],
      "metadata": {
        "id": "mNqbsUnTx3fH"
      },
      "execution_count": null,
      "outputs": []
    },
    {
      "cell_type": "code",
      "source": [
        "nucleotide_map = {'A': 0, 'C': 1, 'G': 2, 'T': 3}"
      ],
      "metadata": {
        "id": "h33IHHITTGUE"
      },
      "execution_count": null,
      "outputs": []
    },
    {
      "cell_type": "code",
      "source": [
        "# Load data\n",
        "train = load_data(\"/content/data/pwm_seq_200bp_train_set.txt\")\n",
        "test = load_data(\"/content/data/pwm_seq_200bp_test_set.txt\")\n",
        "valid = load_data(\"/content/data/pwm_seq_200bp_valid_set.txt\")\n"
      ],
      "metadata": {
        "id": "jCF7xX2ex3Wi"
      },
      "execution_count": null,
      "outputs": []
    },
    {
      "cell_type": "code",
      "source": [
        "# Train HMMs\n",
        "hmm_models = train_hmm_per_label(train, n_states=4)"
      ],
      "metadata": {
        "id": "dx7TwbzMx3D6",
        "collapsed": true
      },
      "execution_count": null,
      "outputs": []
    },
    {
      "cell_type": "code",
      "source": [
        "hmm_models[1].startprob_, hmm_models[1].emissionprob_ , hmm_models[1].transmat_"
      ],
      "metadata": {
        "colab": {
          "base_uri": "https://localhost:8080/"
        },
        "id": "LgTZ6Efb35aT",
        "outputId": "b7276c1c-2002-4cfa-abea-688e188de301"
      },
      "execution_count": null,
      "outputs": [
        {
          "output_type": "execute_result",
          "data": {
            "text/plain": [
              "(array([0.0025721 , 0.10742995, 0.83907443, 0.05092353]),\n",
              " array([[3.06149637e-04, 9.87795750e-01, 5.74784360e-04, 1.13233165e-02],\n",
              "        [1.99022456e-01, 5.31275408e-01, 6.74566663e-02, 2.02245470e-01],\n",
              "        [2.64284016e-01, 2.28807455e-01, 2.42538592e-01, 2.64369937e-01],\n",
              "        [1.52993193e-02, 1.13428960e-04, 9.83631013e-01, 9.56238440e-04]]),\n",
              " array([[1.25885280e-02, 5.32889151e-02, 3.12254232e-01, 6.21868325e-01],\n",
              "        [1.20935401e-05, 3.80740360e-01, 5.05670640e-01, 1.13576907e-01],\n",
              "        [2.75352917e-03, 1.54324202e-02, 9.43241307e-01, 3.85727440e-02],\n",
              "        [8.88067862e-01, 7.40187949e-02, 1.51060481e-02, 2.28072949e-02]]))"
            ]
          },
          "metadata": {},
          "execution_count": 26
        }
      ]
    },
    {
      "cell_type": "code",
      "source": [
        "\n",
        "hmm_models[0].startprob_, hmm_models[0].emissionprob_ , hmm_models[0].transmat_"
      ],
      "metadata": {
        "colab": {
          "base_uri": "https://localhost:8080/"
        },
        "id": "ujwVshZy4Yr_",
        "outputId": "69dcf3b6-506f-455f-ffe2-0089a07cc19f"
      },
      "execution_count": null,
      "outputs": [
        {
          "output_type": "execute_result",
          "data": {
            "text/plain": [
              "(array([0.07211919, 0.83908356, 0.00975971, 0.07903754]),\n",
              " array([[7.61627831e-04, 6.78701931e-04, 9.97690751e-01, 8.68918801e-04],\n",
              "        [2.64383669e-01, 2.40573659e-01, 2.30793209e-01, 2.64249463e-01],\n",
              "        [2.59229677e-04, 9.99259873e-01, 1.03229082e-04, 3.77667811e-04],\n",
              "        [2.59255221e-01, 1.75186203e-01, 3.12512520e-01, 2.53046056e-01]]),\n",
              " array([[3.27829791e-02, 9.39416272e-03, 9.57773152e-01, 4.97057352e-05],\n",
              "        [5.54371331e-02, 8.49450033e-01, 1.87863907e-04, 9.49249699e-02],\n",
              "        [6.54336638e-01, 2.94286498e-01, 3.43117106e-02, 1.70651536e-02],\n",
              "        [3.24526634e-01, 6.17060676e-01, 5.31481698e-02, 5.26452018e-03]]))"
            ]
          },
          "metadata": {},
          "execution_count": 27
        }
      ]
    },
    {
      "cell_type": "code",
      "source": [
        "hmm_models[2].startprob_, hmm_models[2].emissionprob_ , hmm_models[2].transmat_"
      ],
      "metadata": {
        "id": "WFZaQOMw4eqY",
        "outputId": "a525fa98-92d9-4901-fe70-d6dba606dc81",
        "colab": {
          "base_uri": "https://localhost:8080/"
        }
      },
      "execution_count": null,
      "outputs": [
        {
          "output_type": "execute_result",
          "data": {
            "text/plain": [
              "(array([0.91541639, 0.01695774, 0.02951272, 0.03811315]),\n",
              " array([[2.19821037e-01, 2.79913086e-01, 2.79433692e-01, 2.20832185e-01],\n",
              "        [7.65302319e-08, 3.75693162e-03, 2.84165283e-03, 9.93401339e-01],\n",
              "        [9.96706154e-01, 1.69333356e-03, 1.52497504e-03, 7.55369674e-05],\n",
              "        [9.25596862e-01, 2.45481449e-03, 3.98899142e-03, 6.79593324e-02]]),\n",
              " array([[9.57529825e-01, 4.90661670e-03, 1.67243296e-02, 2.08392286e-02],\n",
              "        [3.77649533e-01, 1.81048863e-02, 6.04185139e-01, 6.04423525e-05],\n",
              "        [3.24449011e-02, 9.37597059e-01, 2.06439133e-12, 2.99580395e-02],\n",
              "        [1.36923813e-01, 7.33519852e-01, 1.82870981e-07, 1.29556152e-01]]))"
            ]
          },
          "metadata": {},
          "execution_count": 28
        }
      ]
    },
    {
      "cell_type": "code",
      "source": [
        "hmm_models[3].startprob_, hmm_models[3].emissionprob_ , hmm_models[3].transmat_"
      ],
      "metadata": {
        "colab": {
          "base_uri": "https://localhost:8080/"
        },
        "id": "AW59qoPj1n0F",
        "outputId": "7b579428-e794-441f-969d-d84f1dd288ea"
      },
      "execution_count": null,
      "outputs": [
        {
          "output_type": "execute_result",
          "data": {
            "text/plain": [
              "(array([2.71500588e-01, 1.91131202e-01, 2.31641268e-06, 5.37365894e-01]),\n",
              " array([[0.18490707, 0.221647  , 0.19923978, 0.39420615],\n",
              "        [0.30656209, 0.4116794 , 0.12815142, 0.15360709],\n",
              "        [0.04658784, 0.5584532 , 0.24100294, 0.15395602],\n",
              "        [0.27406408, 0.18204282, 0.32373777, 0.22015533]]),\n",
              " array([[2.92133232e-01, 4.36837517e-01, 1.50846456e-06, 2.71027743e-01],\n",
              "        [9.47270545e-01, 5.74068391e-03, 2.47006856e-02, 2.22880860e-02],\n",
              "        [1.05791854e-02, 6.90329077e-01, 3.47249439e-08, 2.99091703e-01],\n",
              "        [1.72248288e-03, 4.63775259e-02, 1.16075857e-01, 8.35824134e-01]]))"
            ]
          },
          "metadata": {},
          "execution_count": 29
        }
      ]
    },
    {
      "cell_type": "code",
      "source": [
        "# Predict\n",
        "test_preds = predict_labels(hmm_models, test)\n",
        "valid_preds = predict_labels(hmm_models, valid)"
      ],
      "metadata": {
        "id": "jOlJvWfnx26e"
      },
      "execution_count": null,
      "outputs": []
    },
    {
      "cell_type": "code",
      "source": [
        "# Evaluate\n",
        "evaluate(test['label'], test_preds, \"Test\")\n",
        "evaluate(valid['label'], valid_preds, \"Validation\")"
      ],
      "metadata": {
        "colab": {
          "base_uri": "https://localhost:8080/"
        },
        "id": "Ku1eRTF_x2U4",
        "outputId": "15661e59-3d27-44fc-b685-c304f8189c0e"
      },
      "execution_count": null,
      "outputs": [
        {
          "output_type": "stream",
          "name": "stdout",
          "text": [
            "\n",
            "--- Test Set Evaluation ---\n",
            "Accuracy: 0.903\n",
            "Confusion Matrix:\n",
            " [[219  49   0   0]\n",
            " [ 24 209   0   4]\n",
            " [  0   0 236   7]\n",
            " [  0   7   6 239]]\n",
            "Classification Report:\n",
            "               precision    recall  f1-score   support\n",
            "\n",
            "           0       0.90      0.82      0.86       268\n",
            "           1       0.79      0.88      0.83       237\n",
            "           2       0.98      0.97      0.97       243\n",
            "           3       0.96      0.95      0.95       252\n",
            "\n",
            "    accuracy                           0.90      1000\n",
            "   macro avg       0.91      0.90      0.90      1000\n",
            "weighted avg       0.91      0.90      0.90      1000\n",
            "\n",
            "\n",
            "--- Validation Set Evaluation ---\n",
            "Accuracy: 0.901\n",
            "Confusion Matrix:\n",
            " [[198  45   0   0]\n",
            " [ 25 219   1   5]\n",
            " [  0   1 244   4]\n",
            " [  0  11   7 240]]\n",
            "Classification Report:\n",
            "               precision    recall  f1-score   support\n",
            "\n",
            "           0       0.89      0.81      0.85       243\n",
            "           1       0.79      0.88      0.83       250\n",
            "           2       0.97      0.98      0.97       249\n",
            "           3       0.96      0.93      0.95       258\n",
            "\n",
            "    accuracy                           0.90      1000\n",
            "   macro avg       0.90      0.90      0.90      1000\n",
            "weighted avg       0.90      0.90      0.90      1000\n",
            "\n"
          ]
        }
      ]
    },
    {
      "cell_type": "code",
      "execution_count": null,
      "metadata": {
        "id": "0UcHC5csZrdo",
        "colab": {
          "base_uri": "https://localhost:8080/"
        },
        "outputId": "8836c3df-3caf-4c41-93d9-5c11910f3e6f"
      },
      "outputs": [
        {
          "output_type": "stream",
          "name": "stderr",
          "text": [
            "/usr/local/lib/python3.11/dist-packages/keras/src/layers/convolutional/base_conv.py:107: UserWarning: Do not pass an `input_shape`/`input_dim` argument to a layer. When using Sequential models, prefer using an `Input(shape)` object as the first layer in the model instead.\n",
            "  super().__init__(activity_regularizer=activity_regularizer, **kwargs)\n"
          ]
        },
        {
          "output_type": "stream",
          "name": "stdout",
          "text": [
            "Epoch 1/10\n",
            "\u001b[1m268/268\u001b[0m \u001b[32m━━━━━━━━━━━━━━━━━━━━\u001b[0m\u001b[37m\u001b[0m \u001b[1m41s\u001b[0m 145ms/step - accuracy: 0.6172 - loss: 0.8210 - val_accuracy: 0.8803 - val_loss: 0.2860\n",
            "Epoch 2/10\n",
            "\u001b[1m268/268\u001b[0m \u001b[32m━━━━━━━━━━━━━━━━━━━━\u001b[0m\u001b[37m\u001b[0m \u001b[1m39s\u001b[0m 138ms/step - accuracy: 0.8847 - loss: 0.2769 - val_accuracy: 0.9284 - val_loss: 0.1822\n",
            "Epoch 3/10\n",
            "\u001b[1m268/268\u001b[0m \u001b[32m━━━━━━━━━━━━━━━━━━━━\u001b[0m\u001b[37m\u001b[0m \u001b[1m41s\u001b[0m 138ms/step - accuracy: 0.9346 - loss: 0.1713 - val_accuracy: 0.9687 - val_loss: 0.0849\n",
            "Epoch 4/10\n",
            "\u001b[1m268/268\u001b[0m \u001b[32m━━━━━━━━━━━━━━━━━━━━\u001b[0m\u001b[37m\u001b[0m \u001b[1m37s\u001b[0m 138ms/step - accuracy: 0.9627 - loss: 0.1038 - val_accuracy: 0.9763 - val_loss: 0.0650\n",
            "Epoch 5/10\n",
            "\u001b[1m268/268\u001b[0m \u001b[32m━━━━━━━━━━━━━━━━━━━━\u001b[0m\u001b[37m\u001b[0m \u001b[1m41s\u001b[0m 140ms/step - accuracy: 0.9730 - loss: 0.0752 - val_accuracy: 0.9813 - val_loss: 0.0526\n",
            "Epoch 6/10\n",
            "\u001b[1m268/268\u001b[0m \u001b[32m━━━━━━━━━━━━━━━━━━━━\u001b[0m\u001b[37m\u001b[0m \u001b[1m36s\u001b[0m 136ms/step - accuracy: 0.9784 - loss: 0.0617 - val_accuracy: 0.9845 - val_loss: 0.0435\n",
            "Epoch 7/10\n",
            "\u001b[1m268/268\u001b[0m \u001b[32m━━━━━━━━━━━━━━━━━━━━\u001b[0m\u001b[37m\u001b[0m \u001b[1m41s\u001b[0m 136ms/step - accuracy: 0.9833 - loss: 0.0495 - val_accuracy: 0.9855 - val_loss: 0.0380\n",
            "Epoch 8/10\n",
            "\u001b[1m268/268\u001b[0m \u001b[32m━━━━━━━━━━━━━━━━━━━━\u001b[0m\u001b[37m\u001b[0m \u001b[1m41s\u001b[0m 135ms/step - accuracy: 0.9852 - loss: 0.0437 - val_accuracy: 0.9874 - val_loss: 0.0374\n",
            "Epoch 9/10\n",
            "\u001b[1m268/268\u001b[0m \u001b[32m━━━━━━━━━━━━━━━━━━━━\u001b[0m\u001b[37m\u001b[0m \u001b[1m41s\u001b[0m 134ms/step - accuracy: 0.9872 - loss: 0.0376 - val_accuracy: 0.9855 - val_loss: 0.0403\n",
            "Epoch 10/10\n",
            "\u001b[1m268/268\u001b[0m \u001b[32m━━━━━━━━━━━━━━━━━━━━\u001b[0m\u001b[37m\u001b[0m \u001b[1m42s\u001b[0m 139ms/step - accuracy: 0.9872 - loss: 0.0356 - val_accuracy: 0.9816 - val_loss: 0.0487\n",
            "\u001b[1m32/32\u001b[0m \u001b[32m━━━━━━━━━━━━━━━━━━━━\u001b[0m\u001b[37m\u001b[0m \u001b[1m1s\u001b[0m 15ms/step\n",
            "\n",
            "CNN Classification Report:\n",
            "\n",
            "              precision    recall  f1-score   support\n",
            "\n",
            "           0       1.00      0.96      0.98       268\n",
            "           1       0.95      0.99      0.97       237\n",
            "           2       0.99      1.00      0.99       243\n",
            "           3       1.00      0.98      0.99       252\n",
            "\n",
            "    accuracy                           0.98      1000\n",
            "   macro avg       0.98      0.98      0.98      1000\n",
            "weighted avg       0.98      0.98      0.98      1000\n",
            "\n"
          ]
        }
      ],
      "source": [
        "import numpy as np\n",
        "from sklearn.model_selection import train_test_split\n",
        "from sklearn.metrics import classification_report\n",
        "from tensorflow.keras.models import Sequential\n",
        "from tensorflow.keras.layers import Conv1D, MaxPooling1D, Flatten, Dense, Dropout\n",
        "from tensorflow.keras.utils import to_categorical\n",
        "\n",
        "# Load sequences and labels\n",
        "def load_data(filepath):\n",
        "    sequences, labels = [], []\n",
        "    with open(filepath, 'r') as f:\n",
        "        for line in f:\n",
        "            label, seq = line.strip().split('\\t')\n",
        "            sequences.append(seq)\n",
        "            labels.append(int(label))\n",
        "    return sequences, labels\n",
        "\n",
        "def one_hot_encode(seq, seq_len=200):\n",
        "    mapping = {'A': 0, 'C': 1, 'G': 2, 'T': 3}\n",
        "    one_hot = np.zeros((seq_len, 4))\n",
        "    for i, base in enumerate(seq):\n",
        "        if base in mapping:\n",
        "            one_hot[i, mapping[base]] = 1\n",
        "    return one_hot\n",
        "\n",
        "train_sequences, train_labels = load_data(\"/content/data/pwm_seq_200bp_train_set.txt\")\n",
        "test_sequences, test_labels = load_data(\"/content/data/pwm_seq_200bp_test_set.txt\")\n",
        "\n",
        "X_train = np.array([one_hot_encode(seq) for seq in train_sequences])\n",
        "X_test = np.array([one_hot_encode(seq) for seq in test_sequences])\n",
        "y_train = to_categorical(train_labels, num_classes=4)\n",
        "y_test = to_categorical(test_labels, num_classes=4)\n",
        "\n",
        "# CNN Model\n",
        "model = Sequential([\n",
        "    Conv1D(64, 10, activation='relu', input_shape=(200, 4)),\n",
        "    MaxPooling1D(pool_size=3),\n",
        "    Dropout(0.3),\n",
        "    Conv1D(128, 10, activation='relu'),\n",
        "    MaxPooling1D(pool_size=3),\n",
        "    Dropout(0.3),\n",
        "    Flatten(),\n",
        "    Dense(256, activation='relu'),\n",
        "    Dropout(0.5),\n",
        "    Dense(4, activation='softmax')\n",
        "])\n",
        "\n",
        "model.compile(optimizer='adam', loss='categorical_crossentropy', metrics=['accuracy'])\n",
        "model.fit(X_train, y_train, epochs=10, batch_size=128, validation_split=0.1)\n",
        "\n",
        "# Evaluate\n",
        "preds = model.predict(X_test)\n",
        "y_pred_cnn = np.argmax(preds, axis=1)\n",
        "y_true_cnn = np.argmax(y_test, axis=1)\n",
        "print(\"\\nCNN Classification Report:\\n\")\n",
        "print(classification_report(y_true_cnn, y_pred_cnn))"
      ]
    },
    {
      "cell_type": "code",
      "source": [
        "#comparing model performance\n",
        "import matplotlib.pyplot as plt\n",
        "from sklearn.metrics import accuracy_score\n",
        "\n",
        "# HMM Accuracies (based on test and valid dataframes)\n",
        "hmm_test_accuracy = accuracy_score(test['label'], test_preds)\n",
        "hmm_valid_accuracy = accuracy_score(valid['label'], valid_preds)\n",
        "\n",
        "# CNN Accuracies (from earlier code)\n",
        "cnn_test_accuracy = accuracy_score(y_true_cnn, y_pred_cnn)\n",
        "\n",
        "# Plot\n",
        "labels = ['Test']\n",
        "x = range(len(labels))\n",
        "width = 0.35\n",
        "\n",
        "plt.figure(figsize=(8, 4))\n",
        "plt.bar([i - width/2 for i in x], [cnn_test_accuracy], width=width, label='CNN', color='green')\n",
        "plt.bar([i + width/2 for i in x], [hmm_test_accuracy], width=width, label='HMM', color='red')\n",
        "\n",
        "plt.xticks(x, labels)\n",
        "plt.ylim(0, 1)\n",
        "plt.ylabel('Accuracy')\n",
        "plt.title('CNN vs HMM Accuracy: Test Set')\n",
        "plt.legend()\n",
        "\n",
        "# Annotate\n",
        "for i, (c_acc, h_acc) in enumerate(zip([cnn_test_accuracy], [hmm_test_accuracy])):\n",
        "    plt.text(i - width/2, c_acc + 0.02, f'{c_acc:.2f}', ha='center')\n",
        "    plt.text(i + width/2, h_acc + 0.02, f'{h_acc:.2f}', ha='center')\n",
        "\n",
        "plt.grid(axis='y')\n",
        "plt.tight_layout()\n",
        "plt.show()\n"
      ],
      "metadata": {
        "id": "ZmbofQ1Ykr2W",
        "colab": {
          "base_uri": "https://localhost:8080/",
          "height": 407
        },
        "outputId": "e31353cc-625f-46b5-ba24-db14ea230a8a"
      },
      "execution_count": null,
      "outputs": [
        {
          "output_type": "display_data",
          "data": {
            "text/plain": [
              "<Figure size 800x400 with 1 Axes>"
            ],
            "image/png": "[encoded data removed]"
          },
          "metadata": {}
        }
      ]
    },
    {
      "cell_type": "code",
      "source": [
        "from sklearn.metrics import confusion_matrix\n",
        "import pandas as pd\n",
        "\n",
        "# CNN Confusion Matrix\n",
        "cm_cnn = confusion_matrix(y_true_cnn, y_pred_cnn)\n",
        "cm_cnn_df = pd.DataFrame(cm_cnn, index=[f\"True {i}\" for i in range(4)],\n",
        "                         columns=[f\"Pred {i}\" for i in range(4)])\n",
        "print(\" CNN Confusion Matrix:\")\n",
        "print(cm_cnn_df)\n",
        "\n",
        "# HMM Confusion Matrix\n",
        "cm_hmm = confusion_matrix(test['label'], test_preds)\n",
        "cm_hmm_df = pd.DataFrame(cm_hmm, index=[f\"True {i}\" for i in range(4)],\n",
        "                         columns=[f\"Pred {i}\" for i in range(4)])\n",
        "print(\"\\n HMM Confusion Matrix:\")\n",
        "print(cm_hmm_df)\n"
      ],
      "metadata": {
        "colab": {
          "base_uri": "https://localhost:8080/"
        },
        "id": "GoFb2nysYlQ4",
        "outputId": "b61ccfae-eadc-4b44-82e3-6cc86ea1fa5c"
      },
      "execution_count": null,
      "outputs": [
        {
          "output_type": "stream",
          "name": "stdout",
          "text": [
            " CNN Confusion Matrix:\n",
            "        Pred 0  Pred 1  Pred 2  Pred 3\n",
            "True 0     258      10       0       0\n",
            "True 1       1     235       0       1\n",
            "True 2       0       0     243       0\n",
            "True 3       0       3       3     246\n",
            "\n",
            " HMM Confusion Matrix:\n",
            "        Pred 0  Pred 1  Pred 2  Pred 3\n",
            "True 0     268       0       0       0\n",
            "True 1     237       0       0       0\n",
            "True 2     243       0       0       0\n",
            "True 3     252       0       0       0\n"
          ]
        }
      ]
    },
    {
      "cell_type": "code",
      "source": [],
      "metadata": {
        "id": "WvXtF16FwkXv"
      },
      "execution_count": null,
      "outputs": []
    },
    {
      "cell_type": "code",
      "source": [],
      "metadata": {
        "id": "OdZWmcY_bGji"
      },
      "execution_count": null,
      "outputs": []
    }
  ]
}