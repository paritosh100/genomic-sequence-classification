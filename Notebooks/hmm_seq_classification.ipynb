{
  "nbformat": 4,
  "nbformat_minor": 0,
  "metadata": {
    "colab": {
      "provenance": [],
      "gpuType": "V28"
    },
    "kernelspec": {
      "name": "python3",
      "display_name": "Python 3"
    },
    "language_info": {
      "name": "python"
    },
    "accelerator": "TPU"
  },
  "cells": [
    {
      "cell_type": "code",
      "source": [
        "%%bash\n",
        "\n",
        "# Download Example Data --------------------------------------------------------\n",
        "\n",
        "rm -rf ./sample_data/\n",
        "\n",
        "mkdir -p data\n",
        "\n",
        "rm -f ./data/*\n",
        "\n",
        "curl https://raw.githubusercontent.com/rschwess/tutorial_dl_for_genomics/master/data/pwm_seq_200bp_test_set.txt >./data/pwm_seq_200bp_test_set.txt\n",
        "curl https://raw.githubusercontent.com/rschwess/tutorial_dl_for_genomics/master/data/pwm_seq_200bp_valid_set.txt >./data/pwm_seq_200bp_valid_set.txt\n",
        "curl https://raw.githubusercontent.com/rschwess/tutorial_dl_for_genomics/master/data/pwm_seq_200bp_train_set.txt >./data/pwm_seq_200bp_train_set.txt\n"
      ],
      "metadata": {
        "colab": {
          "base_uri": "https://localhost:8080/"
        },
        "id": "9gocC05G0oRk",
        "outputId": "120f62fb-2d92-4244-ae7b-111738219e03"
      },
      "execution_count": 1,
      "outputs": [
        {
          "output_type": "stream",
          "name": "stderr",
          "text": [
            "  % Total    % Received % Xferd  Average Speed   Time    Time     Time  Current\n",
            "                                 Dload  Upload   Total   Spent    Left  Speed\n",
            "\r  0     0    0     0    0     0      0      0 --:--:-- --:--:-- --:--:--     0\r  2  198k    2  5503    0     0  13553      0  0:00:14 --:--:--  0:00:14 13554\r100  198k  100  198k    0     0   436k      0 --:--:-- --:--:-- --:--:--  436k\n",
            "  % Total    % Received % Xferd  Average Speed   Time    Time     Time  Current\n",
            "                                 Dload  Upload   Total   Spent    Left  Speed\n",
            "\r  0     0    0     0    0     0      0      0 --:--:-- --:--:-- --:--:--     0\r100  198k  100  198k    0     0   340k      0 --:--:-- --:--:-- --:--:--  341k\n",
            "  % Total    % Received % Xferd  Average Speed   Time    Time     Time  Current\n",
            "                                 Dload  Upload   Total   Spent    Left  Speed\n",
            "\r  0     0    0     0    0     0      0      0 --:--:-- --:--:-- --:--:--     0\r  0 7533k    0  5503    0     0   8210      0  0:15:39 --:--:--  0:15:39  8201\r100 7533k  100 7533k    0     0  6718k      0  0:00:01  0:00:01 --:--:-- 6720k\n"
          ]
        }
      ]
    },
    {
      "cell_type": "code",
      "source": [
        "%%bash\n",
        "\n",
        "# Create some directories and download helper scripts for later ----------------\n",
        "mkdir -p helper visualize\n",
        "\n",
        "curl https://raw.githubusercontent.com/rschwess/tutorial_dl_for_genomics/master/helper/functions_for_motif_plotting.R >./helper/functions_for_motif_plotting.R\n",
        "curl https://raw.githubusercontent.com/rschwess/tutorial_dl_for_genomics/master/helper/plot_sequence_kernel_weights_per_dir.R >./helper/plot_sequence_kernel_weights_per_dir.R\n",
        "curl https://raw.githubusercontent.com/rschwess/tutorial_dl_for_genomics/master/helper/plot_sequence_kernel_icms_per_dir.R >./helper/plot_sequence_kernel_icms_per_dir.R\n"
      ],
      "metadata": {
        "colab": {
          "base_uri": "https://localhost:8080/"
        },
        "id": "trhQXtte0q4m",
        "outputId": "1e5021a2-1f15-44cb-c432-80e87569b93a"
      },
      "execution_count": 2,
      "outputs": [
        {
          "output_type": "stream",
          "name": "stderr",
          "text": [
            "  % Total    % Received % Xferd  Average Speed   Time    Time     Time  Current\n",
            "                                 Dload  Upload   Total   Spent    Left  Speed\n",
            "\r  0     0    0     0    0     0      0      0 --:--:-- --:--:-- --:--:--     0\r100 18139  100 18139    0     0   102k      0 --:--:-- --:--:-- --:--:--  102k\n",
            "  % Total    % Received % Xferd  Average Speed   Time    Time     Time  Current\n",
            "                                 Dload  Upload   Total   Spent    Left  Speed\n",
            "\r  0     0    0     0    0     0      0      0 --:--:-- --:--:-- --:--:--     0\r  0     0    0     0    0     0      0      0 --:--:-- --:--:-- --:--:--     0\r100  1512  100  1512    0     0   7677      0 --:--:-- --:--:-- --:--:--  7675\n",
            "  % Total    % Received % Xferd  Average Speed   Time    Time     Time  Current\n",
            "                                 Dload  Upload   Total   Spent    Left  Speed\n",
            "\r  0     0    0     0    0     0      0      0 --:--:-- --:--:-- --:--:--     0\r100  1510  100  1510    0     0   5510      0 --:--:-- --:--:-- --:--:--  5531\n"
          ]
        }
      ]
    },
    {
      "cell_type": "code",
      "source": [
        "%%bash\n",
        "\n",
        "# Check Data Layout ###########################\n",
        "\n",
        "# check lines per set\n",
        "echo \"Numbers:\"\n",
        "wc -l ./data/pwm*\n",
        "\n",
        "# check data format\n",
        "echo -ne \"\\nFormat\\n\"\n",
        "head -n 3 ./data/pwm_seq_200bp_test_set.txt\n",
        "\n",
        "# check class representation\n",
        "echo -ne \"\\nClass Representations:\\n\"\n",
        "\n",
        "echo -ne \"\\nTraining:\\n\"\n",
        "cut -f 1 ./data/pwm_seq_200bp_train_set.txt | sort | uniq -c\n",
        "echo -ne \"\\nTest:\\n\"\n",
        "cut -f 1 ./data/pwm_seq_200bp_test_set.txt | sort | uniq -c\n",
        "echo -ne \"\\nValidation:\\n\"\n",
        "cut -f 1 ./data/pwm_seq_200bp_valid_set.txt | sort | uniq -c\n",
        "\n"
      ],
      "metadata": {
        "colab": {
          "base_uri": "https://localhost:8080/"
        },
        "id": "Rx4f6Jsx0v1p",
        "outputId": "ed52925e-abd9-4c72-c24f-c3d7ddfa5bc3"
      },
      "execution_count": 3,
      "outputs": [
        {
          "output_type": "stream",
          "name": "stdout",
          "text": [
            "Numbers:\n",
            "   1000 ./data/pwm_seq_200bp_test_set.txt\n",
            "  38000 ./data/pwm_seq_200bp_train_set.txt\n",
            "   1000 ./data/pwm_seq_200bp_valid_set.txt\n",
            "  40000 total\n",
            "\n",
            "Format\n",
            "3\tATGGCTGATAATGACGATTGTACAGATGGTGGATGAGATTGCCTCGTCCCGGCAGCATTACCCCCTGGTGGCAACGGCCACCAGGGGGCAATAAATCTGTGTCTTATCTCCGAGACCAAACAATTCCACAGCCTCTTATACAGCACCGAATGGACCGCCCCCTGGTGGCCAGGTATCGTCGAGGGCTCAATTAAACTCCT\n",
            "1\tGCAGGCATTATGAGGTAATAAACTCAGCGCGTGTTGAGATAAGATTCTAAGCGGCGCGCGCGCGCGACCGCGAGAAGTGGAGATTAAGCGCGCTAATGGTGTGTCCGATAGTCACGTGTCCGCGCGGCGCGCGCCATGTATGTTCTGTTCTGCGCGCCGCGCTTTGCGCGCGCGCTTGGTATATAAAGCTGGGTTTTAAT\n",
            "1\tGGCGCGCCTGGCATTTCTTAGAGAGGCGCGCAATACAACGAGAATCACCTAGAAGCCGTGTCTGTTGCTTATCACCGTTCGCCTAGGCCGCACGGGCACGTGGGTCTCCCGTTCCCTCAATCCTAACAGAAGCGCGCTAAGTCGTCGTTGGCTCTCTTACTAGCAGCGCGCCTGTACTAACCCGGCACTCGGCGGTGGGC\n",
            "\n",
            "Class Representations:\n",
            "\n",
            "Training:\n",
            "   9489 0\n",
            "   9513 1\n",
            "   9508 2\n",
            "   9490 3\n",
            "\n",
            "Test:\n",
            "    268 0\n",
            "    237 1\n",
            "    243 2\n",
            "    252 3\n",
            "\n",
            "Validation:\n",
            "    243 0\n",
            "    250 1\n",
            "    249 2\n",
            "    258 3\n"
          ]
        }
      ]
    },
    {
      "cell_type": "code",
      "source": [
        "pip install hmmlearn tensorflow"
      ],
      "metadata": {
        "colab": {
          "base_uri": "https://localhost:8080/"
        },
        "id": "gvIuXTSnx0NP",
        "outputId": "65492102-b41b-4022-ea8d-aa44a7081c55"
      },
      "execution_count": 18,
      "outputs": [
        {
          "output_type": "stream",
          "name": "stdout",
          "text": [
            "Requirement already satisfied: hmmlearn in /usr/local/lib/python3.11/dist-packages (0.3.3)\n",
            "Collecting tensorflow\n",
            "  Downloading tensorflow-2.19.0-cp311-cp311-manylinux_2_17_x86_64.manylinux2014_x86_64.whl.metadata (4.1 kB)\n",
            "Requirement already satisfied: numpy>=1.10 in /usr/local/lib/python3.11/dist-packages (from hmmlearn) (2.0.2)\n",
            "Requirement already satisfied: scikit-learn!=0.22.0,>=0.16 in /usr/local/lib/python3.11/dist-packages (from hmmlearn) (1.6.1)\n",
            "Requirement already satisfied: scipy>=0.19 in /usr/local/lib/python3.11/dist-packages (from hmmlearn) (1.14.1)\n",
            "Requirement already satisfied: absl-py>=1.0.0 in /usr/local/lib/python3.11/dist-packages (from tensorflow) (1.4.0)\n",
            "Collecting astunparse>=1.6.0 (from tensorflow)\n",
            "  Downloading astunparse-1.6.3-py2.py3-none-any.whl.metadata (4.4 kB)\n",
            "Collecting flatbuffers>=24.3.25 (from tensorflow)\n",
            "  Downloading flatbuffers-25.2.10-py2.py3-none-any.whl.metadata (875 bytes)\n",
            "Requirement already satisfied: gast!=0.5.0,!=0.5.1,!=0.5.2,>=0.2.1 in /usr/local/lib/python3.11/dist-packages (from tensorflow) (0.6.0)\n",
            "Collecting google-pasta>=0.1.1 (from tensorflow)\n",
            "  Downloading google_pasta-0.2.0-py3-none-any.whl.metadata (814 bytes)\n",
            "Collecting libclang>=13.0.0 (from tensorflow)\n",
            "  Downloading libclang-18.1.1-py2.py3-none-manylinux2010_x86_64.whl.metadata (5.2 kB)\n",
            "Requirement already satisfied: opt-einsum>=2.3.2 in /usr/local/lib/python3.11/dist-packages (from tensorflow) (3.4.0)\n",
            "Requirement already satisfied: packaging in /usr/local/lib/python3.11/dist-packages (from tensorflow) (24.2)\n",
            "Requirement already satisfied: protobuf!=4.21.0,!=4.21.1,!=4.21.2,!=4.21.3,!=4.21.4,!=4.21.5,<6.0.0dev,>=3.20.3 in /usr/local/lib/python3.11/dist-packages (from tensorflow) (5.29.4)\n",
            "Requirement already satisfied: requests<3,>=2.21.0 in /usr/local/lib/python3.11/dist-packages (from tensorflow) (2.32.3)\n",
            "Requirement already satisfied: setuptools in /usr/local/lib/python3.11/dist-packages (from tensorflow) (75.2.0)\n",
            "Requirement already satisfied: six>=1.12.0 in /usr/local/lib/python3.11/dist-packages (from tensorflow) (1.17.0)\n",
            "Requirement already satisfied: termcolor>=1.1.0 in /usr/local/lib/python3.11/dist-packages (from tensorflow) (3.0.1)\n",
            "Requirement already satisfied: typing-extensions>=3.6.6 in /usr/local/lib/python3.11/dist-packages (from tensorflow) (4.13.2)\n",
            "Requirement already satisfied: wrapt>=1.11.0 in /usr/local/lib/python3.11/dist-packages (from tensorflow) (1.17.2)\n",
            "Requirement already satisfied: grpcio<2.0,>=1.24.3 in /usr/local/lib/python3.11/dist-packages (from tensorflow) (1.71.0)\n",
            "Collecting tensorboard~=2.19.0 (from tensorflow)\n",
            "  Downloading tensorboard-2.19.0-py3-none-any.whl.metadata (1.8 kB)\n",
            "Requirement already satisfied: keras>=3.5.0 in /usr/local/lib/python3.11/dist-packages (from tensorflow) (3.8.0)\n",
            "Requirement already satisfied: h5py>=3.11.0 in /usr/local/lib/python3.11/dist-packages (from tensorflow) (3.13.0)\n",
            "Requirement already satisfied: ml-dtypes<1.0.0,>=0.5.1 in /usr/local/lib/python3.11/dist-packages (from tensorflow) (0.5.1)\n",
            "Collecting tensorflow-io-gcs-filesystem>=0.23.1 (from tensorflow)\n",
            "  Downloading tensorflow_io_gcs_filesystem-0.37.1-cp311-cp311-manylinux_2_17_x86_64.manylinux2014_x86_64.whl.metadata (14 kB)\n",
            "Collecting wheel<1.0,>=0.23.0 (from astunparse>=1.6.0->tensorflow)\n",
            "  Downloading wheel-0.45.1-py3-none-any.whl.metadata (2.3 kB)\n",
            "Requirement already satisfied: rich in /usr/local/lib/python3.11/dist-packages (from keras>=3.5.0->tensorflow) (14.0.0)\n",
            "Requirement already satisfied: namex in /usr/local/lib/python3.11/dist-packages (from keras>=3.5.0->tensorflow) (0.0.8)\n",
            "Requirement already satisfied: optree in /usr/local/lib/python3.11/dist-packages (from keras>=3.5.0->tensorflow) (0.15.0)\n",
            "Requirement already satisfied: charset-normalizer<4,>=2 in /usr/local/lib/python3.11/dist-packages (from requests<3,>=2.21.0->tensorflow) (3.4.1)\n",
            "Requirement already satisfied: idna<4,>=2.5 in /usr/local/lib/python3.11/dist-packages (from requests<3,>=2.21.0->tensorflow) (3.10)\n",
            "Requirement already satisfied: urllib3<3,>=1.21.1 in /usr/local/lib/python3.11/dist-packages (from requests<3,>=2.21.0->tensorflow) (2.3.0)\n",
            "Requirement already satisfied: certifi>=2017.4.17 in /usr/local/lib/python3.11/dist-packages (from requests<3,>=2.21.0->tensorflow) (2025.1.31)\n",
            "Requirement already satisfied: joblib>=1.2.0 in /usr/local/lib/python3.11/dist-packages (from scikit-learn!=0.22.0,>=0.16->hmmlearn) (1.4.2)\n",
            "Requirement already satisfied: threadpoolctl>=3.1.0 in /usr/local/lib/python3.11/dist-packages (from scikit-learn!=0.22.0,>=0.16->hmmlearn) (3.6.0)\n",
            "Requirement already satisfied: markdown>=2.6.8 in /usr/lib/python3/dist-packages (from tensorboard~=2.19.0->tensorflow) (3.3.6)\n",
            "Collecting tensorboard-data-server<0.8.0,>=0.7.0 (from tensorboard~=2.19.0->tensorflow)\n",
            "  Downloading tensorboard_data_server-0.7.2-py3-none-manylinux_2_31_x86_64.whl.metadata (1.1 kB)\n",
            "Collecting werkzeug>=1.0.1 (from tensorboard~=2.19.0->tensorflow)\n",
            "  Downloading werkzeug-3.1.3-py3-none-any.whl.metadata (3.7 kB)\n",
            "Requirement already satisfied: MarkupSafe>=2.1.1 in /usr/local/lib/python3.11/dist-packages (from werkzeug>=1.0.1->tensorboard~=2.19.0->tensorflow) (3.0.2)\n",
            "Requirement already satisfied: markdown-it-py>=2.2.0 in /usr/local/lib/python3.11/dist-packages (from rich->keras>=3.5.0->tensorflow) (3.0.0)\n",
            "Requirement already satisfied: pygments<3.0.0,>=2.13.0 in /usr/local/lib/python3.11/dist-packages (from rich->keras>=3.5.0->tensorflow) (2.19.1)\n",
            "Requirement already satisfied: mdurl~=0.1 in /usr/local/lib/python3.11/dist-packages (from markdown-it-py>=2.2.0->rich->keras>=3.5.0->tensorflow) (0.1.2)\n",
            "Downloading tensorflow-2.19.0-cp311-cp311-manylinux_2_17_x86_64.manylinux2014_x86_64.whl (644.9 MB)\n",
            "\u001b[2K   \u001b[90m━━━━━━━━━━━━━━━━━━━━━━━━━━━━━━━━━━━━━━━━\u001b[0m \u001b[32m644.9/644.9 MB\u001b[0m \u001b[31m1.6 MB/s\u001b[0m eta \u001b[36m0:00:00\u001b[0m\n",
            "\u001b[?25hDownloading astunparse-1.6.3-py2.py3-none-any.whl (12 kB)\n",
            "Downloading flatbuffers-25.2.10-py2.py3-none-any.whl (30 kB)\n",
            "Downloading google_pasta-0.2.0-py3-none-any.whl (57 kB)\n",
            "\u001b[2K   \u001b[90m━━━━━━━━━━━━━━━━━━━━━━━━━━━━━━━━━━━━━━━━\u001b[0m \u001b[32m57.5/57.5 kB\u001b[0m \u001b[31m3.4 MB/s\u001b[0m eta \u001b[36m0:00:00\u001b[0m\n",
            "\u001b[?25hDownloading libclang-18.1.1-py2.py3-none-manylinux2010_x86_64.whl (24.5 MB)\n",
            "\u001b[2K   \u001b[90m━━━━━━━━━━━━━━━━━━━━━━━━━━━━━━━━━━━━━━━━\u001b[0m \u001b[32m24.5/24.5 MB\u001b[0m \u001b[31m83.1 MB/s\u001b[0m eta \u001b[36m0:00:00\u001b[0m\n",
            "\u001b[?25hDownloading tensorboard-2.19.0-py3-none-any.whl (5.5 MB)\n",
            "\u001b[2K   \u001b[90m━━━━━━━━━━━━━━━━━━━━━━━━━━━━━━━━━━━━━━━━\u001b[0m \u001b[32m5.5/5.5 MB\u001b[0m \u001b[31m102.5 MB/s\u001b[0m eta \u001b[36m0:00:00\u001b[0m\n",
            "\u001b[?25hDownloading tensorflow_io_gcs_filesystem-0.37.1-cp311-cp311-manylinux_2_17_x86_64.manylinux2014_x86_64.whl (5.1 MB)\n",
            "\u001b[2K   \u001b[90m━━━━━━━━━━━━━━━━━━━━━━━━━━━━━━━━━━━━━━━━\u001b[0m \u001b[32m5.1/5.1 MB\u001b[0m \u001b[31m94.5 MB/s\u001b[0m eta \u001b[36m0:00:00\u001b[0m\n",
            "\u001b[?25hDownloading tensorboard_data_server-0.7.2-py3-none-manylinux_2_31_x86_64.whl (6.6 MB)\n",
            "\u001b[2K   \u001b[90m━━━━━━━━━━━━━━━━━━━━━━━━━━━━━━━━━━━━━━━━\u001b[0m \u001b[32m6.6/6.6 MB\u001b[0m \u001b[31m118.6 MB/s\u001b[0m eta \u001b[36m0:00:00\u001b[0m\n",
            "\u001b[?25hDownloading werkzeug-3.1.3-py3-none-any.whl (224 kB)\n",
            "\u001b[2K   \u001b[90m━━━━━━━━━━━━━━━━━━━━━━━━━━━━━━━━━━━━━━━━\u001b[0m \u001b[32m224.5/224.5 kB\u001b[0m \u001b[31m14.5 MB/s\u001b[0m eta \u001b[36m0:00:00\u001b[0m\n",
            "\u001b[?25hDownloading wheel-0.45.1-py3-none-any.whl (72 kB)\n",
            "\u001b[2K   \u001b[90m━━━━━━━━━━━━━━━━━━━━━━━━━━━━━━━━━━━━━━━━\u001b[0m \u001b[32m72.5/72.5 kB\u001b[0m \u001b[31m3.3 MB/s\u001b[0m eta \u001b[36m0:00:00\u001b[0m\n",
            "\u001b[?25hInstalling collected packages: libclang, flatbuffers, wheel, werkzeug, tensorflow-io-gcs-filesystem, tensorboard-data-server, google-pasta, tensorboard, astunparse, tensorflow\n",
            "Successfully installed astunparse-1.6.3 flatbuffers-25.2.10 google-pasta-0.2.0 libclang-18.1.1 tensorboard-2.19.0 tensorboard-data-server-0.7.2 tensorflow-2.19.0 tensorflow-io-gcs-filesystem-0.37.1 werkzeug-3.1.3 wheel-0.45.1\n"
          ]
        }
      ]
    },
    {
      "cell_type": "code",
      "source": [
        "import pandas as pd\n",
        "import numpy as np\n",
        "from hmmlearn import hmm\n",
        "from sklearn.metrics import accuracy_score, confusion_matrix, classification_report\n"
      ],
      "metadata": {
        "id": "ucYbQun6xyND"
      },
      "execution_count": 5,
      "outputs": []
    },
    {
      "cell_type": "code",
      "source": [
        "def encode_sequence(seq):\n",
        "    return [nucleotide_map[nuc] for nuc in seq if nuc in nucleotide_map]\n",
        "\n",
        "def load_data(filepath):\n",
        "    data = pd.read_csv(filepath, sep=\"\\t\", header=None, names=[\"label\", \"sequence\"])\n",
        "    data[\"encoded\"] = data[\"sequence\"].apply(encode_sequence)\n",
        "    return data\n",
        "\n",
        "def train_hmm_per_label(train_data, n_states=4):\n",
        "    label_hmms = {}\n",
        "    for label in sorted(train_data['label'].unique()):\n",
        "        label_data = train_data[train_data['label'] == label]\n",
        "        sequences = label_data['encoded'].tolist()\n",
        "        lengths = [len(seq) for seq in sequences]\n",
        "        X = np.concatenate([np.array(seq) for seq in sequences]).reshape(-1, 1)\n",
        "\n",
        "        model = hmm.CategoricalHMM(n_components=n_states, n_iter=100, tol=1e-5, init_params='ste',algorithm='viterbi', verbose= True)\n",
        "        model.fit(X, lengths)\n",
        "        label_hmms[label] = model\n",
        "    return label_hmms\n",
        "\n",
        "def predict_labels(hmm_models, data):\n",
        "    predictions = []\n",
        "    for seq in data['encoded']:\n",
        "        seq_array = np.array(seq).reshape(-1, 1)\n",
        "        scores = {label: model.score(seq_array) for label, model in hmm_models.items()}\n",
        "        pred_label = max(scores, key=scores.get)\n",
        "        predictions.append(pred_label)\n",
        "    return predictions"
      ],
      "metadata": {
        "id": "1lqV6qfNx3nX"
      },
      "execution_count": 6,
      "outputs": []
    },
    {
      "cell_type": "code",
      "source": [
        "def evaluate(true_labels, pred_labels, set_name=\"Test\"):\n",
        "    print(f\"\\n--- {set_name} Set Evaluation ---\")\n",
        "    print(\"Accuracy:\", accuracy_score(true_labels, pred_labels))\n",
        "    print(\"Confusion Matrix:\\n\", confusion_matrix(true_labels, pred_labels))\n",
        "    print(\"Classification Report:\\n\", classification_report(true_labels, pred_labels))\n"
      ],
      "metadata": {
        "id": "mNqbsUnTx3fH"
      },
      "execution_count": 7,
      "outputs": []
    },
    {
      "cell_type": "code",
      "source": [
        "nucleotide_map = {'A': 0, 'C': 1, 'G': 2, 'T': 3}"
      ],
      "metadata": {
        "id": "h33IHHITTGUE"
      },
      "execution_count": 8,
      "outputs": []
    },
    {
      "cell_type": "code",
      "source": [
        "# Load data\n",
        "train = load_data(\"/content/data/pwm_seq_200bp_train_set.txt\")\n",
        "test = load_data(\"/content/data/pwm_seq_200bp_test_set.txt\")\n",
        "valid = load_data(\"/content/data/pwm_seq_200bp_valid_set.txt\")\n"
      ],
      "metadata": {
        "id": "jCF7xX2ex3Wi"
      },
      "execution_count": 9,
      "outputs": []
    },
    {
      "cell_type": "code",
      "source": [
        "# Train HMMs\n",
        "hmm_models = train_hmm_per_label(train, n_states=4)"
      ],
      "metadata": {
        "id": "dx7TwbzMx3D6",
        "collapsed": true,
        "colab": {
          "base_uri": "https://localhost:8080/"
        },
        "outputId": "4d627fa0-3043-4363-bc6b-65cacaac72ed"
      },
      "execution_count": 10,
      "outputs": [
        {
          "output_type": "stream",
          "name": "stderr",
          "text": [
            "         1 -2998462.45998857             +nan\n",
            "         2 -2415016.37756804 +583446.08242053\n",
            "         3 -2399278.85061797  +15737.52695007\n",
            "         4 -2390528.38374487   +8750.46687310\n",
            "         5 -2382193.38415216   +8334.99959271\n",
            "         6 -2373417.80882286   +8775.57532931\n",
            "         7 -2365139.96795739   +8277.84086547\n",
            "         8 -2358243.95528509   +6896.01267230\n",
            "         9 -2352775.87462465   +5468.08066044\n",
            "        10 -2348234.49342266   +4541.38120199\n",
            "        11 -2344100.00608852   +4134.48733414\n",
            "        12 -2340027.66853796   +4072.33755056\n",
            "        13 -2335812.63174047   +4215.03679749\n",
            "        14 -2331321.24734635   +4491.38439412\n",
            "        15 -2326453.32826416   +4867.91908219\n",
            "        16 -2321135.82089317   +5317.50737099\n",
            "        17 -2315338.76208543   +5797.05880774\n",
            "        18 -2309104.70372626   +6234.05835917\n",
            "        19 -2302578.56315637   +6526.14056988\n",
            "        20 -2296017.57399069   +6560.98916569\n",
            "        21 -2289759.75730406   +6257.81668662\n",
            "        22 -2284145.63859810   +5614.11870597\n",
            "        23 -2279421.53887612   +4724.09972197\n",
            "        24 -2275676.87002193   +3744.66885420\n",
            "        25 -2272849.56854533   +2827.30147659\n",
            "        26 -2270784.54157675   +2065.02696858\n",
            "        27 -2269300.78535883   +1483.75621793\n",
            "        28 -2268235.47033489   +1065.31502394\n",
            "        29 -2267460.77575291    +774.69458198\n",
            "        30 -2266883.83044942    +576.94530349\n",
            "        31 -2266440.17039718    +443.66005224\n",
            "        32 -2266086.39264227    +353.77775491\n",
            "        33 -2265794.01626692    +292.37637535\n",
            "        34 -2265544.83841898    +249.17784795\n",
            "        35 -2265327.53184046    +217.30657851\n",
            "        36 -2265135.17785981    +192.35398066\n",
            "        37 -2264963.51178847    +171.66607134\n",
            "        38 -2264809.73366959    +153.77811888\n",
            "        39 -2264671.76944903    +137.96422056\n",
            "        40 -2264547.86991244    +123.89953659\n",
            "        41 -2264436.43489561    +111.43501683\n",
            "        42 -2264335.96448443    +100.47041118\n",
            "        43 -2264245.06574707     +90.89873736\n",
            "        44 -2264162.47276698     +82.59298009\n",
            "        45 -2264087.06081788     +75.41194910\n",
            "        46 -2264017.84960915     +69.21120873\n",
            "        47 -2263953.99710001     +63.85250914\n",
            "        48 -2263894.78731833     +59.20978168\n",
            "        49 -2263839.61538111     +55.17193722\n",
            "        50 -2263787.97199210     +51.64338901\n",
            "        51 -2263739.42877539     +48.54321671\n",
            "        52 -2263693.62512185     +45.80365354\n",
            "        53 -2263650.25678448     +43.36833737\n",
            "        54 -2263609.06620728     +41.19057720\n",
            "        55 -2263569.83444421     +39.23176306\n",
            "        56 -2263532.37447292     +37.45997129\n",
            "        57 -2263496.52569752     +35.84877540\n",
            "        58 -2263462.14944709     +34.37625043\n",
            "        59 -2263429.12529762     +33.02414947\n",
            "        60 -2263397.34806907     +31.77722855\n",
            "        61 -2263366.72537341     +30.62269567\n",
            "        62 -2263337.17561042     +29.54976299\n",
            "        63 -2263308.62632690     +28.54928352\n",
            "        64 -2263281.01287014     +27.61345676\n",
            "        65 -2263254.27728019     +26.73558995\n",
            "        66 -2263228.36737558     +25.90990461\n",
            "        67 -2263203.23599604     +25.13137954\n",
            "        68 -2263178.84037295     +24.39562309\n",
            "        69 -2263155.14160347     +23.69876948\n",
            "        70 -2263132.10420960     +23.03739387\n",
            "        71 -2263109.69576612     +22.40844349\n",
            "        72 -2263087.88658534     +21.80918078\n",
            "        73 -2263066.64944799     +21.23713735\n",
            "        74 -2263045.95937240     +20.69007559\n",
            "        75 -2263025.79341463     +20.16595776\n",
            "        76 -2263006.13049466     +19.66291997\n",
            "        77 -2262986.95124341     +19.17925126\n",
            "        78 -2262968.23786737     +18.71337603\n",
            "        79 -2262949.97402766     +18.26383971\n",
            "        80 -2262932.14473056     +17.82929710\n",
            "        81 -2262914.73622820     +17.40850236\n",
            "        82 -2262897.73592686     +17.00030135\n",
            "        83 -2262881.13230192     +16.60362493\n",
            "        84 -2262864.91481829     +16.21748363\n",
            "        85 -2262849.07385518     +15.84096311\n",
            "        86 -2262833.60063446     +15.47322072\n",
            "        87 -2262818.48715219     +15.11348227\n",
            "        88 -2262803.72611252     +14.76103967\n",
            "        89 -2262789.31086399     +14.41524852\n",
            "        90 -2262775.23533763     +14.07552637\n",
            "        91 -2262761.49398683     +13.74135080\n",
            "        92 -2262748.08172909     +13.41225775\n",
            "        93 -2262734.99388921     +13.08783988\n",
            "        94 -2262722.22614435     +12.76774486\n",
            "        95 -2262709.77447099     +12.45167336\n",
            "        96 -2262697.63509374     +12.13937725\n",
            "        97 -2262685.80443638     +11.83065737\n",
            "        98 -2262674.27907506     +11.52536132\n",
            "        99 -2262663.05569443     +11.22338062\n",
            "       100 -2262652.13104611     +10.92464832\n",
            "         1 -2655249.93504814             +nan\n",
            "         2 -2613815.93537764  +41433.99967050\n",
            "         3 -2608067.30938572   +5748.62599191\n",
            "         4 -2601896.77342725   +6170.53595847\n",
            "         5 -2595823.02312944   +6073.75029781\n",
            "         6 -2590497.47404366   +5325.54908578\n",
            "         7 -2586330.99162271   +4166.48242095\n",
            "         8 -2583342.46448531   +2988.52713740\n",
            "         9 -2581288.53606767   +2053.92841764\n",
            "        10 -2579870.16293311   +1418.37313456\n",
            "        11 -2578849.56269908   +1020.60023403\n",
            "        12 -2578071.43074732    +778.13195177\n",
            "        13 -2577443.39933214    +628.03141518\n",
            "        14 -2576912.26426670    +531.13506544\n",
            "        15 -2576447.13509786    +465.12916884\n",
            "        16 -2576029.45746902    +417.67762884\n",
            "        17 -2575647.51533139    +381.94213763\n",
            "        18 -2575293.46557547    +354.04975593\n",
            "        19 -2574961.72940067    +331.73617480\n",
            "        20 -2574648.10165602    +313.62774465\n",
            "        21 -2574349.24358605    +298.85806997\n",
            "        22 -2574062.38445786    +286.85912818\n",
            "        23 -2573785.13988645    +277.24457141\n",
            "        24 -2573515.39716455    +269.74272190\n",
            "        25 -2573251.24017972    +264.15698483\n",
            "        26 -2572990.89843986    +260.34173986\n",
            "        27 -2572732.71128377    +258.18715609\n",
            "        28 -2572475.10204471    +257.60923907\n",
            "        29 -2572216.55906306    +258.54298165\n",
            "        30 -2571955.62170809    +260.93735497\n",
            "        31 -2571690.87033596    +264.75137213\n",
            "        32 -2571420.91959516    +269.95074080\n",
            "        33 -2571144.41480536    +276.50478981\n",
            "        34 -2570860.03134603    +284.38345933\n",
            "        35 -2570566.47713429    +293.55421173\n",
            "        36 -2570262.49836208    +303.97877221\n",
            "        37 -2569946.88870966    +315.60965242\n",
            "        38 -2569618.50224763    +328.38646203\n",
            "        39 -2569276.27017812    +342.23206951\n",
            "        40 -2568919.22142828    +357.04874984\n",
            "        41 -2568546.50688367    +372.71454460\n",
            "        42 -2568157.42671469    +389.08016898\n",
            "        43 -2567751.45979997    +405.96691472\n",
            "        44 -2567328.29369148    +423.16610849\n",
            "        45 -2566887.85292237    +440.44076911\n",
            "        46 -2566430.32280084    +457.53012153\n",
            "        47 -2565956.16526323    +474.15753761\n",
            "        48 -2565466.12303510    +490.04222813\n",
            "        49 -2564961.20845248    +504.91458262\n",
            "        50 -2564442.67401247    +518.53444002\n",
            "        51 -2563911.96318168    +530.71083079\n",
            "        52 -2563370.64219118    +541.32099049\n",
            "        53 -2562820.31629516    +550.32589602\n",
            "        54 -2562262.53684707    +557.77944809\n",
            "        55 -2561698.70795105    +563.82889602\n",
            "        56 -2561130.00271859    +568.70523247\n",
            "        57 -2560557.29878895    +572.70392963\n",
            "        58 -2559981.14058881    +576.15820014\n",
            "        59 -2559401.73210823    +579.40848058\n",
            "        60 -2558818.95949104    +582.77261719\n",
            "        61 -2558232.43843923    +586.52105182\n",
            "        62 -2557641.57822604    +590.86021319\n",
            "        63 -2557045.65258957    +595.92563647\n",
            "        64 -2556443.86805771    +601.78453186\n",
            "        65 -2555835.42203291    +608.44602480\n",
            "        66 -2555219.54565605    +615.87637686\n",
            "        67 -2554595.52943621    +624.01621985\n",
            "        68 -2553962.73234083    +632.79709538\n",
            "        69 -2553320.57716478    +642.15517604\n",
            "        70 -2552668.53640134    +652.04076344\n",
            "        71 -2552006.11354867    +662.42285268\n",
            "        72 -2551332.82490035    +673.28864831\n",
            "        73 -2550648.18650521    +684.63839514\n",
            "        74 -2549951.71025485    +696.47625036\n",
            "        75 -2549242.91204937    +708.79820548\n",
            "        76 -2548521.33378243    +721.57826693\n",
            "        77 -2547786.57954553    +734.75423690\n",
            "        78 -2547038.36505855    +748.21448699\n",
            "        79 -2546276.57797344    +761.78708511\n",
            "        80 -2545501.34545346    +775.23251998\n",
            "        81 -2544713.10437280    +788.24108066\n",
            "        82 -2543912.66866426    +800.43570854\n",
            "        83 -2543101.28778926    +811.38087500\n",
            "        84 -2542280.69003077    +820.59775849\n",
            "        85 -2541453.10433762    +827.58569315\n",
            "        86 -2540621.25483731    +831.84950031\n",
            "        87 -2539788.32301075    +832.93182656\n",
            "        88 -2538957.87407284    +830.44893791\n",
            "        89 -2538133.74654097    +824.12753186\n",
            "        90 -2537319.90744221    +813.83909877\n",
            "        91 -2536520.28004706    +799.62739515\n",
            "        92 -2535738.55604558    +781.72400148\n",
            "        93 -2534978.00891675    +760.54712883\n",
            "        94 -2534241.32878620    +736.68013055\n",
            "        95 -2533530.50009989    +710.82868631\n",
            "        96 -2532846.74096402    +683.75913587\n",
            "        97 -2532190.51659576    +656.22436827\n",
            "        98 -2531561.62939966    +628.88719609\n",
            "        99 -2530959.37603829    +602.25336138\n",
            "       100 -2530382.74956823    +576.62647005\n",
            "         1 -2776302.97258861             +nan\n",
            "         2 -2637618.00717456 +138684.96541405\n",
            "         3 -2636110.50061701   +1507.50655755\n",
            "         4 -2635071.73968838   +1038.76092863\n",
            "         5 -2634310.40473272    +761.33495566\n",
            "         6 -2633711.36204985    +599.04268287\n",
            "         7 -2633197.81529864    +513.54675121\n",
            "         8 -2632711.88043090    +485.93486773\n",
            "         9 -2632203.11831859    +508.76211231\n",
            "        10 -2631620.73095088    +582.38736771\n",
            "        11 -2630907.75622612    +712.97472477\n",
            "        12 -2629997.29495790    +910.46126821\n",
            "        13 -2628812.67599532   +1184.61896258\n",
            "        14 -2627275.84716977   +1536.82882555\n",
            "        15 -2625329.88979925   +1945.95737052\n",
            "        16 -2622977.68013030   +2352.20966895\n",
            "        17 -2620322.68838993   +2654.99174037\n",
            "        18 -2617575.01478535   +2747.67360457\n",
            "        19 -2614989.89527518   +2585.11951017\n",
            "        20 -2612763.13667011   +2226.75860507\n",
            "        21 -2610960.53300516   +1802.60366495\n",
            "        22 -2609526.46525621   +1434.06774895\n",
            "        23 -2608343.45113631   +1183.01411990\n",
            "        24 -2607289.51867444   +1053.93246187\n",
            "        25 -2606265.68461410   +1023.83406034\n",
            "        26 -2605196.36985442   +1069.31475968\n",
            "        27 -2604016.81024033   +1179.55961409\n",
            "        28 -2602657.17361514   +1359.63662518\n",
            "        29 -2601025.74867208   +1631.42494306\n",
            "        30 -2598989.43188785   +2036.31678423\n",
            "        31 -2596349.47128084   +2639.96060700\n",
            "        32 -2592815.97784076   +3533.49344008\n",
            "        33 -2588005.83350608   +4810.14433468\n",
            "        34 -2581544.37891634   +6461.45458974\n",
            "        35 -2573415.58583388   +8128.79308247\n",
            "        36 -2564503.12094726   +8912.46488662\n",
            "        37 -2556498.60255113   +8004.51839613\n",
            "        38 -2550565.06103166   +5933.54151947\n",
            "        39 -2546517.13398331   +4047.92704835\n",
            "        40 -2543621.14472044   +2895.98926287\n",
            "        41 -2541350.79115934   +2270.35356110\n",
            "        42 -2539446.67001914   +1904.12114020\n",
            "        43 -2537788.99188819   +1657.67813095\n",
            "        44 -2536317.89785322   +1471.09403497\n",
            "        45 -2534998.80483658   +1319.09301664\n",
            "        46 -2533807.82177809   +1190.98305849\n",
            "        47 -2532725.40581293   +1082.41596516\n",
            "        48 -2531733.64839476    +991.75741817\n",
            "        49 -2530815.35356003    +918.29483473\n",
            "        50 -2529954.15977492    +861.19378511\n",
            "        51 -2529135.40469235    +818.75508257\n",
            "        52 -2528347.54116326    +787.86352909\n",
            "        53 -2527583.75690010    +763.78426316\n",
            "        54 -2526843.13607799    +740.62082211\n",
            "        55 -2526130.51897362    +712.61710437\n",
            "        56 -2525454.54059958    +675.97837404\n",
            "        57 -2524824.21288238    +630.32771721\n",
            "        58 -2524245.32277455    +578.89010782\n",
            "        59 -2523718.19050760    +527.13226695\n",
            "        60 -2523237.90530157    +480.28520603\n",
            "        61 -2522797.35742924    +440.54787233\n",
            "        62 -2522392.00787037    +405.34955886\n",
            "        63 -2522023.27505492    +368.73281545\n",
            "        64 -2521697.13733701    +326.13771791\n",
            "        65 -2521418.71440398    +278.42293303\n",
            "        66 -2521187.84104243    +230.87336155\n",
            "        67 -2520998.85480937    +188.98623306\n",
            "        68 -2520843.23983029    +155.61497907\n",
            "        69 -2520712.36590956    +130.87392074\n",
            "        70 -2520599.00376321    +113.36214635\n",
            "        71 -2520497.71638983    +101.28737337\n",
            "        72 -2520404.66028534     +93.05610449\n",
            "        73 -2520317.20857296     +87.45171238\n",
            "        74 -2520233.59568914     +83.61288382\n",
            "        75 -2520152.64485342     +80.95083572\n",
            "        76 -2520073.57774947     +79.06710395\n",
            "        77 -2519995.88729917     +77.69045029\n",
            "        78 -2519919.25381471     +76.63348446\n",
            "        79 -2519843.48941235     +75.76440236\n",
            "        80 -2519768.50040469     +74.98900766\n",
            "        81 -2519694.26107815     +74.23932654\n",
            "        82 -2519620.79475298     +73.46632518\n",
            "        83 -2519548.15960728     +72.63514570\n",
            "        84 -2519476.43772419     +71.72188309\n",
            "        85 -2519405.72641764     +70.71130655\n",
            "        86 -2519336.13125347     +69.59516417\n",
            "        87 -2519267.76040088     +68.37085259\n",
            "        88 -2519200.72008044     +67.04032044\n",
            "        89 -2519135.11095152     +65.60912892\n",
            "        90 -2519071.02532554     +64.08562598\n",
            "        91 -2519008.54511360     +62.48021194\n",
            "        92 -2518947.74042820     +60.80468540\n",
            "        93 -2518888.66876127     +59.07166693\n",
            "        94 -2518831.37466158     +57.29409969\n",
            "        95 -2518775.88983446     +55.48482712\n",
            "        96 -2518722.23358652     +53.65624794\n",
            "        97 -2518670.41354087     +51.82004565\n",
            "        98 -2518620.42655216     +49.98698870\n",
            "        99 -2518572.25975664     +48.16679552\n",
            "       100 -2518525.89169959     +46.36805705\n",
            "         1 -2722758.78620735             +nan\n",
            "         2 -2640562.68539140  +82196.10081594\n",
            "         3 -2638007.46392368   +2555.22146773\n",
            "         4 -2636372.68143481   +1634.78248887\n",
            "         5 -2635243.35045751   +1129.33097730\n",
            "         6 -2634420.09356826    +823.25688924\n",
            "         7 -2633795.88030059    +624.21326767\n",
            "         8 -2633308.27460686    +487.60569373\n",
            "         9 -2632918.43255749    +389.84204936\n",
            "        10 -2632600.91849463    +317.51406287\n",
            "        11 -2632338.36956490    +262.54892973\n",
            "        12 -2632118.51903079    +219.85053411\n",
            "        13 -2631932.44688727    +186.07214352\n",
            "        14 -2631773.50582023    +158.94106704\n",
            "        15 -2631636.63678929    +136.86903093\n",
            "        16 -2631517.91868958    +118.71809972\n",
            "        17 -2631414.26366175    +103.65502783\n",
            "        18 -2631323.20584276     +91.05781898\n",
            "        19 -2631242.75170072     +80.45414204\n",
            "        20 -2631171.27193874     +71.47976199\n",
            "        21 -2631107.42206144     +63.84987730\n",
            "        22 -2631050.08308665     +57.33897479\n",
            "        23 -2630998.31666208     +51.76642457\n",
            "        24 -2630951.33064580     +46.98601628\n",
            "        25 -2630908.45239615     +42.87824965\n",
            "        26 -2630869.10781806     +39.34457809\n",
            "        27 -2630832.80475893     +36.30305913\n",
            "        28 -2630799.11972875     +33.68503019\n",
            "        29 -2630767.68718649     +31.43254226\n",
            "        30 -2630738.19082752     +29.49635896\n",
            "        31 -2630710.35644423     +27.83438330\n",
            "        32 -2630683.94603392     +26.41041031\n",
            "        33 -2630658.75290237     +25.19313155\n",
            "        34 -2630634.59756727     +24.15533510\n",
            "        35 -2630611.32430755     +23.27325972\n",
            "        36 -2630588.79823690     +22.52607065\n",
            "        37 -2630566.90280335     +21.89543355\n",
            "        38 -2630545.53763701     +21.36516634\n",
            "        39 -2630524.61668204     +20.92095498\n",
            "        40 -2630504.06656114     +20.55012090\n",
            "        41 -2630483.82513064     +20.24143051\n",
            "        42 -2630463.84019175     +19.98493889\n",
            "        43 -2630444.06833043     +19.77186132\n",
            "        44 -2630424.47386355     +19.59446688\n",
            "        45 -2630405.02787369     +19.44598986\n",
            "        46 -2630385.70731918     +19.32055451\n",
            "        47 -2630366.49420858     +19.21311060\n",
            "        48 -2630347.37483309     +19.11937549\n",
            "        49 -2630328.33905079     +19.03578229\n",
            "        50 -2630309.37962039     +18.95943040\n",
            "        51 -2630290.49158285     +18.88803754\n",
            "        52 -2630271.67168999     +18.81989286\n",
            "        53 -2630252.91788124     +18.75380875\n",
            "        54 -2630234.22880861     +18.68907263\n",
            "        55 -2630215.60341179     +18.62539682\n",
            "        56 -2630197.04054348     +18.56286831\n",
            "        57 -2630178.53864665     +18.50189684\n",
            "        58 -2630160.09548325     +18.44316340\n",
            "        59 -2630141.70791484     +18.38756840\n",
            "        60 -2630123.37173399     +18.33618085\n",
            "        61 -2630105.08154539     +18.29018860\n",
            "        62 -2630086.83069435     +18.25085104\n",
            "        63 -2630068.61124065     +18.21945370\n",
            "        64 -2630050.41397385     +18.19726679\n",
            "        65 -2630032.22846738     +18.18550647\n",
            "        66 -2630014.04316650     +18.18530088\n",
            "        67 -2629995.84550630     +18.19766020\n",
            "        68 -2629977.62205500     +18.22345130\n",
            "        69 -2629959.35867760     +18.26337740\n",
            "        70 -2629941.04071519     +18.31796241\n",
            "        71 -2629922.65317518     +18.38754002\n",
            "        72 -2629904.18092740     +18.47224778\n",
            "        73 -2629885.60890211     +18.57202529\n",
            "        74 -2629866.92228527     +18.68661684\n",
            "        75 -2629848.10670760     +18.81557767\n",
            "        76 -2629829.14842366     +18.95828394\n",
            "        77 -2629810.03447843     +19.11394523\n",
            "        78 -2629790.75285832     +19.28162010\n",
            "        79 -2629771.29262540     +19.46023293\n",
            "        80 -2629751.64403229     +19.64859311\n",
            "        81 -2629731.79861760     +19.84541468\n",
            "        82 -2629711.74928065     +20.04933695\n",
            "        83 -2629691.49033539     +20.25894526\n",
            "        84 -2629671.01754379     +20.47279160\n",
            "        85 -2629650.32812891     +20.68941489\n",
            "        86 -2629629.42076841     +20.90736050\n",
            "        87 -2629608.29556956     +21.12519885\n",
            "        88 -2629586.95402699     +21.34154257\n",
            "        89 -2629565.39896417     +21.55506282\n",
            "        90 -2629543.63446053     +21.76450364\n",
            "        91 -2629521.66576560     +21.96869492\n",
            "        92 -2629499.49920205     +22.16656355\n",
            "        93 -2629477.14205922     +22.35714284\n",
            "        94 -2629454.60247899     +22.53958023\n",
            "        95 -2629431.88933612     +22.71314287\n",
            "        96 -2629409.01211455     +22.87722157\n",
            "        97 -2629385.98078160     +23.03133295\n",
            "        98 -2629362.80566208     +23.17511952\n",
            "        99 -2629339.49731370     +23.30834838\n",
            "       100 -2629316.06640572     +23.43090798\n"
          ]
        }
      ]
    },
    {
      "cell_type": "code",
      "source": [
        "hmm_models[1].startprob_, hmm_models[1].emissionprob_ , hmm_models[1].transmat_"
      ],
      "metadata": {
        "id": "LgTZ6Efb35aT",
        "colab": {
          "base_uri": "https://localhost:8080/"
        },
        "outputId": "20a70296-8cea-45c3-949d-08a2e3490644"
      },
      "execution_count": 11,
      "outputs": [
        {
          "output_type": "execute_result",
          "data": {
            "text/plain": [
              "(array([0.71435021, 0.0686874 , 0.08142157, 0.13554081]),\n",
              " array([[0.28205831, 0.19685205, 0.23279357, 0.28829608],\n",
              "        [0.09280187, 0.02254984, 0.87587089, 0.0087774 ],\n",
              "        [0.04194082, 0.78420683, 0.03256837, 0.14128398],\n",
              "        [0.31789033, 0.25368333, 0.35048147, 0.07794486]]),\n",
              " array([[8.52990127e-01, 3.69479096e-04, 8.07273812e-02, 6.59130132e-02],\n",
              "        [9.48390959e-04, 5.29674920e-02, 9.27163347e-01, 1.89207702e-02],\n",
              "        [3.74271036e-01, 5.68690540e-01, 5.39515427e-02, 3.08688207e-03],\n",
              "        [6.54595981e-01, 3.03981515e-01, 1.45103686e-02, 2.69121351e-02]]))"
            ]
          },
          "metadata": {},
          "execution_count": 11
        }
      ]
    },
    {
      "cell_type": "code",
      "source": [
        "\n",
        "hmm_models[0].startprob_, hmm_models[0].emissionprob_ , hmm_models[0].transmat_"
      ],
      "metadata": {
        "id": "ujwVshZy4Yr_",
        "colab": {
          "base_uri": "https://localhost:8080/"
        },
        "outputId": "83453f80-aff7-4cba-9500-7c6340cf2bd3"
      },
      "execution_count": 12,
      "outputs": [
        {
          "output_type": "execute_result",
          "data": {
            "text/plain": [
              "(array([0.00887812, 0.1256328 , 0.83807356, 0.02741552]),\n",
              " array([[6.00056244e-04, 9.98444321e-01, 2.57843822e-04, 6.97779283e-04],\n",
              "        [3.08621182e-02, 2.31775121e-02, 9.12517526e-01, 3.34428440e-02],\n",
              "        [2.86534577e-01, 2.54367126e-01, 1.73718961e-01, 2.85379337e-01],\n",
              "        [2.21847184e-06, 9.78911866e-06, 9.99966470e-01, 2.15224497e-05]]),\n",
              " array([[3.35578333e-02, 5.37979869e-02, 2.87540307e-01, 6.25103873e-01],\n",
              "        [3.86129781e-01, 8.50678247e-02, 4.72086250e-01, 5.67161448e-02],\n",
              "        [1.21923408e-08, 1.35352386e-01, 8.37236317e-01, 2.74112853e-02],\n",
              "        [9.70279952e-01, 1.26129339e-03, 1.19154007e-05, 2.84468387e-02]]))"
            ]
          },
          "metadata": {},
          "execution_count": 12
        }
      ]
    },
    {
      "cell_type": "code",
      "source": [
        "hmm_models[2].startprob_, hmm_models[2].emissionprob_ , hmm_models[2].transmat_"
      ],
      "metadata": {
        "id": "WFZaQOMw4eqY",
        "colab": {
          "base_uri": "https://localhost:8080/"
        },
        "outputId": "bd410049-0732-4c95-8343-7fb4ddbf8ab0"
      },
      "execution_count": 13,
      "outputs": [
        {
          "output_type": "execute_result",
          "data": {
            "text/plain": [
              "(array([0.05793439, 0.40271975, 0.52500648, 0.01433938]),\n",
              " array([[9.90911645e-01, 4.33463044e-03, 1.68078611e-03, 3.07293804e-03],\n",
              "        [3.01287074e-01, 4.98360109e-01, 9.56654385e-02, 1.04687378e-01],\n",
              "        [1.54549265e-01, 9.06959427e-02, 4.31677258e-01, 3.23077534e-01],\n",
              "        [1.83753978e-03, 5.99404647e-04, 8.95931621e-04, 9.96667124e-01]]),\n",
              " array([[2.37725999e-02, 2.41671601e-02, 2.04044281e-02, 9.31655812e-01],\n",
              "        [3.56176848e-02, 5.39389352e-01, 4.20835967e-01, 4.15699656e-03],\n",
              "        [3.72317236e-02, 3.59085506e-01, 6.03601636e-01, 8.11347583e-05],\n",
              "        [6.08744503e-01, 1.60217305e-01, 2.06996339e-01, 2.40418522e-02]]))"
            ]
          },
          "metadata": {},
          "execution_count": 13
        }
      ]
    },
    {
      "cell_type": "code",
      "source": [
        "hmm_models[3].startprob_, hmm_models[3].emissionprob_ , hmm_models[3].transmat_"
      ],
      "metadata": {
        "id": "AW59qoPj1n0F",
        "colab": {
          "base_uri": "https://localhost:8080/"
        },
        "outputId": "1b5225ba-ea31-4c5c-e26b-a6268eed7d14"
      },
      "execution_count": 14,
      "outputs": [
        {
          "output_type": "execute_result",
          "data": {
            "text/plain": [
              "(array([0.39377562, 0.40177692, 0.19285731, 0.01159015]),\n",
              " array([[0.2865016 , 0.3367751 , 0.18030409, 0.19641921],\n",
              "        [0.23281096, 0.20450403, 0.21799032, 0.34469469],\n",
              "        [0.13030684, 0.27078141, 0.3452074 , 0.25370434],\n",
              "        [0.31239475, 0.18139171, 0.32639187, 0.17982167]]),\n",
              " array([[1.30451814e-01, 8.12032830e-01, 1.04824680e-03, 5.64671086e-02],\n",
              "        [4.69920669e-01, 1.59355535e-02, 1.40951882e-01, 3.73191896e-01],\n",
              "        [6.87128130e-01, 3.64022955e-02, 1.35531921e-01, 1.40937653e-01],\n",
              "        [2.04999322e-07, 1.30553910e-04, 7.20002160e-01, 2.79867081e-01]]))"
            ]
          },
          "metadata": {},
          "execution_count": 14
        }
      ]
    },
    {
      "cell_type": "code",
      "source": [
        "# Predict\n",
        "test_preds = predict_labels(hmm_models, test)\n",
        "valid_preds = predict_labels(hmm_models, valid)"
      ],
      "metadata": {
        "id": "jOlJvWfnx26e"
      },
      "execution_count": 15,
      "outputs": []
    },
    {
      "cell_type": "code",
      "source": [
        "# Evaluate\n",
        "evaluate(test['label'], test_preds, \"Test\")\n",
        "evaluate(valid['label'], valid_preds, \"Validation\")"
      ],
      "metadata": {
        "id": "Ku1eRTF_x2U4",
        "colab": {
          "base_uri": "https://localhost:8080/"
        },
        "outputId": "10cf5cdd-3021-462a-8c72-7072a741886f"
      },
      "execution_count": 16,
      "outputs": [
        {
          "output_type": "stream",
          "name": "stdout",
          "text": [
            "\n",
            "--- Test Set Evaluation ---\n",
            "Accuracy: 0.887\n",
            "Confusion Matrix:\n",
            " [[251  17   0   0]\n",
            " [ 70 158   0   9]\n",
            " [  0   0 236   7]\n",
            " [  0   5   5 242]]\n",
            "Classification Report:\n",
            "               precision    recall  f1-score   support\n",
            "\n",
            "           0       0.78      0.94      0.85       268\n",
            "           1       0.88      0.67      0.76       237\n",
            "           2       0.98      0.97      0.98       243\n",
            "           3       0.94      0.96      0.95       252\n",
            "\n",
            "    accuracy                           0.89      1000\n",
            "   macro avg       0.89      0.88      0.88      1000\n",
            "weighted avg       0.89      0.89      0.88      1000\n",
            "\n",
            "\n",
            "--- Validation Set Evaluation ---\n",
            "Accuracy: 0.872\n",
            "Confusion Matrix:\n",
            " [[234   9   0   0]\n",
            " [ 95 148   1   6]\n",
            " [  0   3 243   3]\n",
            " [  0   5   6 247]]\n",
            "Classification Report:\n",
            "               precision    recall  f1-score   support\n",
            "\n",
            "           0       0.71      0.96      0.82       243\n",
            "           1       0.90      0.59      0.71       250\n",
            "           2       0.97      0.98      0.97       249\n",
            "           3       0.96      0.96      0.96       258\n",
            "\n",
            "    accuracy                           0.87      1000\n",
            "   macro avg       0.89      0.87      0.87      1000\n",
            "weighted avg       0.89      0.87      0.87      1000\n",
            "\n"
          ]
        }
      ]
    },
    {
      "cell_type": "code",
      "execution_count": 19,
      "metadata": {
        "id": "0UcHC5csZrdo",
        "colab": {
          "base_uri": "https://localhost:8080/"
        },
        "outputId": "dd73cc2d-d4a2-4a69-8615-f042b0e46244"
      },
      "outputs": [
        {
          "output_type": "stream",
          "name": "stderr",
          "text": [
            "/usr/local/lib/python3.11/dist-packages/keras/src/layers/convolutional/base_conv.py:107: UserWarning: Do not pass an `input_shape`/`input_dim` argument to a layer. When using Sequential models, prefer using an `Input(shape)` object as the first layer in the model instead.\n",
            "  super().__init__(activity_regularizer=activity_regularizer, **kwargs)\n"
          ]
        },
        {
          "output_type": "stream",
          "name": "stdout",
          "text": [
            "Epoch 1/10\n",
            "\u001b[1m268/268\u001b[0m \u001b[32m━━━━━━━━━━━━━━━━━━━━\u001b[0m\u001b[37m\u001b[0m \u001b[1m45s\u001b[0m 161ms/step - accuracy: 0.5722 - loss: 0.8761 - val_accuracy: 0.8697 - val_loss: 0.3139\n",
            "Epoch 2/10\n",
            "\u001b[1m268/268\u001b[0m \u001b[32m━━━━━━━━━━━━━━━━━━━━\u001b[0m\u001b[37m\u001b[0m \u001b[1m42s\u001b[0m 156ms/step - accuracy: 0.8598 - loss: 0.3310 - val_accuracy: 0.9284 - val_loss: 0.1796\n",
            "Epoch 3/10\n",
            "\u001b[1m268/268\u001b[0m \u001b[32m━━━━━━━━━━━━━━━━━━━━\u001b[0m\u001b[37m\u001b[0m \u001b[1m42s\u001b[0m 156ms/step - accuracy: 0.9254 - loss: 0.1932 - val_accuracy: 0.9697 - val_loss: 0.0912\n",
            "Epoch 4/10\n",
            "\u001b[1m268/268\u001b[0m \u001b[32m━━━━━━━━━━━━━━━━━━━━\u001b[0m\u001b[37m\u001b[0m \u001b[1m42s\u001b[0m 156ms/step - accuracy: 0.9563 - loss: 0.1171 - val_accuracy: 0.9739 - val_loss: 0.0773\n",
            "Epoch 5/10\n",
            "\u001b[1m268/268\u001b[0m \u001b[32m━━━━━━━━━━━━━━━━━━━━\u001b[0m\u001b[37m\u001b[0m \u001b[1m41s\u001b[0m 155ms/step - accuracy: 0.9685 - loss: 0.0885 - val_accuracy: 0.9747 - val_loss: 0.0712\n",
            "Epoch 6/10\n",
            "\u001b[1m268/268\u001b[0m \u001b[32m━━━━━━━━━━━━━━━━━━━━\u001b[0m\u001b[37m\u001b[0m \u001b[1m42s\u001b[0m 156ms/step - accuracy: 0.9752 - loss: 0.0706 - val_accuracy: 0.9842 - val_loss: 0.0484\n",
            "Epoch 7/10\n",
            "\u001b[1m268/268\u001b[0m \u001b[32m━━━━━━━━━━━━━━━━━━━━\u001b[0m\u001b[37m\u001b[0m \u001b[1m41s\u001b[0m 154ms/step - accuracy: 0.9793 - loss: 0.0590 - val_accuracy: 0.9847 - val_loss: 0.0432\n",
            "Epoch 8/10\n",
            "\u001b[1m268/268\u001b[0m \u001b[32m━━━━━━━━━━━━━━━━━━━━\u001b[0m\u001b[37m\u001b[0m \u001b[1m41s\u001b[0m 153ms/step - accuracy: 0.9837 - loss: 0.0487 - val_accuracy: 0.9861 - val_loss: 0.0453\n",
            "Epoch 9/10\n",
            "\u001b[1m268/268\u001b[0m \u001b[32m━━━━━━━━━━━━━━━━━━━━\u001b[0m\u001b[37m\u001b[0m \u001b[1m43s\u001b[0m 162ms/step - accuracy: 0.9856 - loss: 0.0422 - val_accuracy: 0.9782 - val_loss: 0.0597\n",
            "Epoch 10/10\n",
            "\u001b[1m268/268\u001b[0m \u001b[32m━━━━━━━━━━━━━━━━━━━━\u001b[0m\u001b[37m\u001b[0m \u001b[1m41s\u001b[0m 154ms/step - accuracy: 0.9849 - loss: 0.0419 - val_accuracy: 0.9842 - val_loss: 0.0455\n",
            "\u001b[1m32/32\u001b[0m \u001b[32m━━━━━━━━━━━━━━━━━━━━\u001b[0m\u001b[37m\u001b[0m \u001b[1m0s\u001b[0m 11ms/step\n",
            "\n",
            "CNN Classification Report:\n",
            "\n",
            "              precision    recall  f1-score   support\n",
            "\n",
            "           0       0.99      0.97      0.98       268\n",
            "           1       0.96      0.99      0.97       237\n",
            "           2       0.98      1.00      0.99       243\n",
            "           3       1.00      0.98      0.99       252\n",
            "\n",
            "    accuracy                           0.98      1000\n",
            "   macro avg       0.98      0.98      0.98      1000\n",
            "weighted avg       0.98      0.98      0.98      1000\n",
            "\n"
          ]
        }
      ],
      "source": [
        "import numpy as np\n",
        "from sklearn.model_selection import train_test_split\n",
        "from sklearn.metrics import classification_report\n",
        "from tensorflow.keras.models import Sequential\n",
        "from tensorflow.keras.layers import Conv1D, MaxPooling1D, Flatten, Dense, Dropout\n",
        "from tensorflow.keras.utils import to_categorical\n",
        "\n",
        "# Load sequences and labels\n",
        "def load_data(filepath):\n",
        "    sequences, labels = [], []\n",
        "    with open(filepath, 'r') as f:\n",
        "        for line in f:\n",
        "            label, seq = line.strip().split('\\t')\n",
        "            sequences.append(seq)\n",
        "            labels.append(int(label))\n",
        "    return sequences, labels\n",
        "\n",
        "def one_hot_encode(seq, seq_len=200):\n",
        "    mapping = {'A': 0, 'C': 1, 'G': 2, 'T': 3}\n",
        "    one_hot = np.zeros((seq_len, 4))\n",
        "    for i, base in enumerate(seq):\n",
        "        if base in mapping:\n",
        "            one_hot[i, mapping[base]] = 1\n",
        "    return one_hot\n",
        "\n",
        "train_sequences, train_labels = load_data(\"/content/data/pwm_seq_200bp_train_set.txt\")\n",
        "test_sequences, test_labels = load_data(\"/content/data/pwm_seq_200bp_test_set.txt\")\n",
        "\n",
        "X_train = np.array([one_hot_encode(seq) for seq in train_sequences])\n",
        "X_test = np.array([one_hot_encode(seq) for seq in test_sequences])\n",
        "y_train = to_categorical(train_labels, num_classes=4)\n",
        "y_test = to_categorical(test_labels, num_classes=4)\n",
        "\n",
        "# CNN Model\n",
        "model = Sequential([\n",
        "    Conv1D(64, 10, activation='relu', input_shape=(200, 4)),\n",
        "    MaxPooling1D(pool_size=3),\n",
        "    Dropout(0.3),\n",
        "    Conv1D(128, 10, activation='relu'),\n",
        "    MaxPooling1D(pool_size=3),\n",
        "    Dropout(0.3),\n",
        "    Flatten(),\n",
        "    Dense(256, activation='relu'),\n",
        "    Dropout(0.5),\n",
        "    Dense(4, activation='softmax')\n",
        "])\n",
        "\n",
        "model.compile(optimizer='adam', loss='categorical_crossentropy', metrics=['accuracy'])\n",
        "model.fit(X_train, y_train, epochs=10, batch_size=128, validation_split=0.1)\n",
        "\n",
        "# Evaluate\n",
        "preds = model.predict(X_test)\n",
        "y_pred_cnn = np.argmax(preds, axis=1)\n",
        "y_true_cnn = np.argmax(y_test, axis=1)\n",
        "print(\"\\nCNN Classification Report:\\n\")\n",
        "print(classification_report(y_true_cnn, y_pred_cnn))"
      ]
    },
    {
      "cell_type": "code",
      "source": [
        "#comparing model performance\n",
        "import matplotlib.pyplot as plt\n",
        "from sklearn.metrics import accuracy_score\n",
        "\n",
        "# HMM Accuracies (based on test and valid dataframes)\n",
        "hmm_test_accuracy = accuracy_score(test['label'], test_preds)\n",
        "hmm_valid_accuracy = accuracy_score(valid['label'], valid_preds)\n",
        "\n",
        "# CNN Accuracies (from earlier code)\n",
        "cnn_test_accuracy = accuracy_score(y_true_cnn, y_pred_cnn)\n",
        "\n",
        "# Plot\n",
        "labels = ['Test']\n",
        "x = range(len(labels))\n",
        "width = 0.35\n",
        "\n",
        "plt.figure(figsize=(8, 4))\n",
        "plt.bar([i - width/2 for i in x], [cnn_test_accuracy], width=width, label='CNN', color='green')\n",
        "plt.bar([i + width/2 for i in x], [hmm_test_accuracy], width=width, label='HMM', color='red')\n",
        "\n",
        "plt.xticks(x, labels)\n",
        "plt.ylim(0, 1)\n",
        "plt.ylabel('Accuracy')\n",
        "plt.title('CNN vs HMM Accuracy: Test Set')\n",
        "plt.legend()\n",
        "\n",
        "# Annotate\n",
        "for i, (c_acc, h_acc) in enumerate(zip([cnn_test_accuracy], [hmm_test_accuracy])):\n",
        "    plt.text(i - width/2, c_acc + 0.02, f'{c_acc:.2f}', ha='center')\n",
        "    plt.text(i + width/2, h_acc + 0.02, f'{h_acc:.2f}', ha='center')\n",
        "\n",
        "plt.grid(axis='y')\n",
        "plt.tight_layout()\n",
        "plt.show()\n"
      ],
      "metadata": {
        "id": "ZmbofQ1Ykr2W",
        "colab": {
          "base_uri": "https://localhost:8080/",
          "height": 407
        },
        "outputId": "3e1bff98-4377-49ca-85b1-03bdd046ecc9"
      },
      "execution_count": 20,
      "outputs": [
        {
          "output_type": "display_data",
          "data": {
            "text/plain": [
              "<Figure size 800x400 with 1 Axes>"
            ],
            "image/png": "[encoded data removed]"
          },
          "metadata": {}
        }
      ]
    },
    {
      "cell_type": "code",
      "source": [
        "from sklearn.metrics import confusion_matrix\n",
        "import pandas as pd\n",
        "\n",
        "# CNN Confusion Matrix\n",
        "cm_cnn = confusion_matrix(y_true_cnn, y_pred_cnn)\n",
        "cm_cnn_df = pd.DataFrame(cm_cnn, index=[f\"True {i}\" for i in range(4)],\n",
        "                         columns=[f\"Pred {i}\" for i in range(4)])\n",
        "print(\" CNN Confusion Matrix:\")\n",
        "print(cm_cnn_df)\n",
        "\n",
        "# HMM Confusion Matrix\n",
        "cm_hmm = confusion_matrix(test['label'], test_preds)\n",
        "cm_hmm_df = pd.DataFrame(cm_hmm, index=[f\"True {i}\" for i in range(4)],\n",
        "                         columns=[f\"Pred {i}\" for i in range(4)])\n",
        "print(\"\\n HMM Confusion Matrix:\")\n",
        "print(cm_hmm_df)\n"
      ],
      "metadata": {
        "id": "GoFb2nysYlQ4",
        "colab": {
          "base_uri": "https://localhost:8080/"
        },
        "outputId": "cb31d2eb-dff8-4c53-d115-f64997d730cb"
      },
      "execution_count": 21,
      "outputs": [
        {
          "output_type": "stream",
          "name": "stdout",
          "text": [
            " CNN Confusion Matrix:\n",
            "        Pred 0  Pred 1  Pred 2  Pred 3\n",
            "True 0     260       8       0       0\n",
            "True 1       2     234       0       1\n",
            "True 2       0       0     243       0\n",
            "True 3       0       1       4     247\n",
            "\n",
            " HMM Confusion Matrix:\n",
            "        Pred 0  Pred 1  Pred 2  Pred 3\n",
            "True 0     251      17       0       0\n",
            "True 1      70     158       0       9\n",
            "True 2       0       0     236       7\n",
            "True 3       0       5       5     242\n"
          ]
        }
      ]
    },
    {
      "cell_type": "code",
      "source": [],
      "metadata": {
        "id": "3mXJLKLbCoh1"
      },
      "execution_count": null,
      "outputs": []
    }
  ]
}