{
  "nbformat": 4,
  "nbformat_minor": 0,
  "metadata": {
    "colab": {
      "provenance": []
    },
    "kernelspec": {
      "name": "python3",
      "display_name": "Python 3"
    },
    "language_info": {
      "name": "python"
    }
  },
  "cells": [
    {
      "cell_type": "code",
      "source": [
        "pip install hmmlearn"
      ],
      "metadata": {
        "colab": {
          "base_uri": "https://localhost:8080/"
        },
        "id": "g40KVANL0zYY",
        "outputId": "128fce3c-4f09-46e1-fd43-4abdd8f73cf8"
      },
      "execution_count": 1,
      "outputs": [
        {
          "output_type": "stream",
          "name": "stdout",
          "text": [
            "Collecting hmmlearn\n",
            "  Downloading hmmlearn-0.3.3-cp311-cp311-manylinux_2_17_x86_64.manylinux2014_x86_64.whl.metadata (3.0 kB)\n",
            "Requirement already satisfied: numpy>=1.10 in /usr/local/lib/python3.11/dist-packages (from hmmlearn) (2.0.2)\n",
            "Requirement already satisfied: scikit-learn!=0.22.0,>=0.16 in /usr/local/lib/python3.11/dist-packages (from hmmlearn) (1.6.1)\n",
            "Requirement already satisfied: scipy>=0.19 in /usr/local/lib/python3.11/dist-packages (from hmmlearn) (1.14.1)\n",
            "Requirement already satisfied: joblib>=1.2.0 in /usr/local/lib/python3.11/dist-packages (from scikit-learn!=0.22.0,>=0.16->hmmlearn) (1.4.2)\n",
            "Requirement already satisfied: threadpoolctl>=3.1.0 in /usr/local/lib/python3.11/dist-packages (from scikit-learn!=0.22.0,>=0.16->hmmlearn) (3.6.0)\n",
            "Downloading hmmlearn-0.3.3-cp311-cp311-manylinux_2_17_x86_64.manylinux2014_x86_64.whl (165 kB)\n",
            "\u001b[2K   \u001b[90m━━━━━━━━━━━━━━━━━━━━━━━━━━━━━━━━━━━━━━━━\u001b[0m \u001b[32m165.9/165.9 kB\u001b[0m \u001b[31m2.9 MB/s\u001b[0m eta \u001b[36m0:00:00\u001b[0m\n",
            "\u001b[?25hInstalling collected packages: hmmlearn\n",
            "Successfully installed hmmlearn-0.3.3\n"
          ]
        }
      ]
    },
    {
      "cell_type": "code",
      "source": [
        "%%bash\n",
        "\n",
        "# Download Example Data --------------------------------------------------------\n",
        "\n",
        "rm -rf ./sample_data/\n",
        "\n",
        "mkdir -p data\n",
        "\n",
        "rm -f ./data/*\n",
        "\n",
        "curl https://raw.githubusercontent.com/rschwess/tutorial_dl_for_genomics/master/data/pwm_seq_200bp_test_set.txt >./data/pwm_seq_200bp_test_set.txt\n",
        "curl https://raw.githubusercontent.com/rschwess/tutorial_dl_for_genomics/master/data/pwm_seq_200bp_valid_set.txt >./data/pwm_seq_200bp_valid_set.txt\n",
        "curl https://raw.githubusercontent.com/rschwess/tutorial_dl_for_genomics/master/data/pwm_seq_200bp_train_set.txt >./data/pwm_seq_200bp_train_set.txt\n"
      ],
      "metadata": {
        "colab": {
          "base_uri": "https://localhost:8080/"
        },
        "id": "9gocC05G0oRk",
        "outputId": "52b6b255-d505-4e8c-d2cf-407c07cb7025"
      },
      "execution_count": 2,
      "outputs": [
        {
          "output_type": "stream",
          "name": "stderr",
          "text": [
            "  % Total    % Received % Xferd  Average Speed   Time    Time     Time  Current\n",
            "                                 Dload  Upload   Total   Spent    Left  Speed\n",
            "\r  0     0    0     0    0     0      0      0 --:--:-- --:--:-- --:--:--     0\r  7  198k    7 14211    0     0  35298      0  0:00:05 --:--:--  0:00:05 35263\r100  198k  100  198k    0     0   436k      0 --:--:-- --:--:-- --:--:--  435k\n",
            "  % Total    % Received % Xferd  Average Speed   Time    Time     Time  Current\n",
            "                                 Dload  Upload   Total   Spent    Left  Speed\n",
            "\r  0     0    0     0    0     0      0      0 --:--:-- --:--:-- --:--:--     0\r100  198k  100  198k    0     0   485k      0 --:--:-- --:--:-- --:--:--  487k\n",
            "  % Total    % Received % Xferd  Average Speed   Time    Time     Time  Current\n",
            "                                 Dload  Upload   Total   Spent    Left  Speed\n",
            "\r  0     0    0     0    0     0      0      0 --:--:-- --:--:-- --:--:--     0\r  0 7533k    0 11367    0     0  23109      0  0:05:33 --:--:--  0:05:33 23103\r100 7533k  100 7533k    0     0  7725k      0 --:--:-- --:--:-- --:--:-- 7726k\n"
          ]
        }
      ]
    },
    {
      "cell_type": "code",
      "source": [
        "%%bash\n",
        "\n",
        "# Create some directories and download helper scripts for later ----------------\n",
        "mkdir -p helper visualize\n",
        "\n",
        "curl https://raw.githubusercontent.com/rschwess/tutorial_dl_for_genomics/master/helper/functions_for_motif_plotting.R >./helper/functions_for_motif_plotting.R\n",
        "curl https://raw.githubusercontent.com/rschwess/tutorial_dl_for_genomics/master/helper/plot_sequence_kernel_weights_per_dir.R >./helper/plot_sequence_kernel_weights_per_dir.R\n",
        "curl https://raw.githubusercontent.com/rschwess/tutorial_dl_for_genomics/master/helper/plot_sequence_kernel_icms_per_dir.R >./helper/plot_sequence_kernel_icms_per_dir.R\n"
      ],
      "metadata": {
        "colab": {
          "base_uri": "https://localhost:8080/"
        },
        "id": "trhQXtte0q4m",
        "outputId": "1bcf3b5d-e97a-4006-9066-63299aa1e9ce"
      },
      "execution_count": 3,
      "outputs": [
        {
          "output_type": "stream",
          "name": "stderr",
          "text": [
            "  % Total    % Received % Xferd  Average Speed   Time    Time     Time  Current\n",
            "                                 Dload  Upload   Total   Spent    Left  Speed\n",
            "\r  0     0    0     0    0     0      0      0 --:--:-- --:--:-- --:--:--     0\r100 18139  100 18139    0     0  54072      0 --:--:-- --:--:-- --:--:-- 54146\n",
            "  % Total    % Received % Xferd  Average Speed   Time    Time     Time  Current\n",
            "                                 Dload  Upload   Total   Spent    Left  Speed\n",
            "\r  0     0    0     0    0     0      0      0 --:--:-- --:--:-- --:--:--     0\r  0     0    0     0    0     0      0      0 --:--:-- --:--:-- --:--:--     0\r100  1512  100  1512    0     0   5630      0 --:--:-- --:--:-- --:--:--  5620\n",
            "  % Total    % Received % Xferd  Average Speed   Time    Time     Time  Current\n",
            "                                 Dload  Upload   Total   Spent    Left  Speed\n",
            "\r  0     0    0     0    0     0      0      0 --:--:-- --:--:-- --:--:--     0\r100  1510  100  1510    0     0   3636      0 --:--:-- --:--:-- --:--:--  3638\n"
          ]
        }
      ]
    },
    {
      "cell_type": "code",
      "source": [
        "%%bash\n",
        "\n",
        "# Check Data Layout ###########################\n",
        "\n",
        "# check lines per set\n",
        "echo \"Numbers:\"\n",
        "wc -l ./data/pwm*\n",
        "\n",
        "# check data format\n",
        "echo -ne \"\\nFormat\\n\"\n",
        "head -n 3 ./data/pwm_seq_200bp_test_set.txt\n",
        "\n",
        "# check class representation\n",
        "echo -ne \"\\nClass Representations:\\n\"\n",
        "\n",
        "echo -ne \"\\nTraining:\\n\"\n",
        "cut -f 1 ./data/pwm_seq_200bp_train_set.txt | sort | uniq -c\n",
        "echo -ne \"\\nTest:\\n\"\n",
        "cut -f 1 ./data/pwm_seq_200bp_test_set.txt | sort | uniq -c\n",
        "echo -ne \"\\nValidation:\\n\"\n",
        "cut -f 1 ./data/pwm_seq_200bp_valid_set.txt | sort | uniq -c\n",
        "\n"
      ],
      "metadata": {
        "colab": {
          "base_uri": "https://localhost:8080/"
        },
        "id": "Rx4f6Jsx0v1p",
        "outputId": "1ff20199-45ba-4ba2-fe20-c5669c6201b9"
      },
      "execution_count": 4,
      "outputs": [
        {
          "output_type": "stream",
          "name": "stdout",
          "text": [
            "Numbers:\n",
            "   1000 ./data/pwm_seq_200bp_test_set.txt\n",
            "  38000 ./data/pwm_seq_200bp_train_set.txt\n",
            "   1000 ./data/pwm_seq_200bp_valid_set.txt\n",
            "  40000 total\n",
            "\n",
            "Format\n",
            "3\tATGGCTGATAATGACGATTGTACAGATGGTGGATGAGATTGCCTCGTCCCGGCAGCATTACCCCCTGGTGGCAACGGCCACCAGGGGGCAATAAATCTGTGTCTTATCTCCGAGACCAAACAATTCCACAGCCTCTTATACAGCACCGAATGGACCGCCCCCTGGTGGCCAGGTATCGTCGAGGGCTCAATTAAACTCCT\n",
            "1\tGCAGGCATTATGAGGTAATAAACTCAGCGCGTGTTGAGATAAGATTCTAAGCGGCGCGCGCGCGCGACCGCGAGAAGTGGAGATTAAGCGCGCTAATGGTGTGTCCGATAGTCACGTGTCCGCGCGGCGCGCGCCATGTATGTTCTGTTCTGCGCGCCGCGCTTTGCGCGCGCGCTTGGTATATAAAGCTGGGTTTTAAT\n",
            "1\tGGCGCGCCTGGCATTTCTTAGAGAGGCGCGCAATACAACGAGAATCACCTAGAAGCCGTGTCTGTTGCTTATCACCGTTCGCCTAGGCCGCACGGGCACGTGGGTCTCCCGTTCCCTCAATCCTAACAGAAGCGCGCTAAGTCGTCGTTGGCTCTCTTACTAGCAGCGCGCCTGTACTAACCCGGCACTCGGCGGTGGGC\n",
            "\n",
            "Class Representations:\n",
            "\n",
            "Training:\n",
            "   9489 0\n",
            "   9513 1\n",
            "   9508 2\n",
            "   9490 3\n",
            "\n",
            "Test:\n",
            "    268 0\n",
            "    237 1\n",
            "    243 2\n",
            "    252 3\n",
            "\n",
            "Validation:\n",
            "    243 0\n",
            "    250 1\n",
            "    249 2\n",
            "    258 3\n"
          ]
        }
      ]
    },
    {
      "cell_type": "code",
      "source": [
        "pip install hmmlearn"
      ],
      "metadata": {
        "colab": {
          "base_uri": "https://localhost:8080/"
        },
        "id": "gvIuXTSnx0NP",
        "outputId": "22840f5c-c852-4e75-d207-928fcbf011e0"
      },
      "execution_count": 5,
      "outputs": [
        {
          "output_type": "stream",
          "name": "stdout",
          "text": [
            "Requirement already satisfied: hmmlearn in /usr/local/lib/python3.11/dist-packages (0.3.3)\n",
            "Requirement already satisfied: numpy>=1.10 in /usr/local/lib/python3.11/dist-packages (from hmmlearn) (2.0.2)\n",
            "Requirement already satisfied: scikit-learn!=0.22.0,>=0.16 in /usr/local/lib/python3.11/dist-packages (from hmmlearn) (1.6.1)\n",
            "Requirement already satisfied: scipy>=0.19 in /usr/local/lib/python3.11/dist-packages (from hmmlearn) (1.14.1)\n",
            "Requirement already satisfied: joblib>=1.2.0 in /usr/local/lib/python3.11/dist-packages (from scikit-learn!=0.22.0,>=0.16->hmmlearn) (1.4.2)\n",
            "Requirement already satisfied: threadpoolctl>=3.1.0 in /usr/local/lib/python3.11/dist-packages (from scikit-learn!=0.22.0,>=0.16->hmmlearn) (3.6.0)\n"
          ]
        }
      ]
    },
    {
      "cell_type": "code",
      "source": [
        "import pandas as pd\n",
        "import numpy as np\n",
        "from hmmlearn import hmm\n",
        "from sklearn.metrics import accuracy_score, confusion_matrix, classification_report\n"
      ],
      "metadata": {
        "id": "ucYbQun6xyND"
      },
      "execution_count": 6,
      "outputs": []
    },
    {
      "cell_type": "code",
      "source": [
        "def encode_sequence(seq):\n",
        "    return [nucleotide_map[nuc] for nuc in seq if nuc in nucleotide_map]\n",
        "\n",
        "def load_data(filepath):\n",
        "    data = pd.read_csv(filepath, sep=\"\\t\", header=None, names=[\"label\", \"sequence\"])\n",
        "    data[\"encoded\"] = data[\"sequence\"].apply(encode_sequence)\n",
        "    return data\n",
        "\n",
        "def train_hmm_per_label(train_data, n_states=3):\n",
        "    label_hmms = {}\n",
        "    for label in sorted(train_data['label'].unique()):\n",
        "        label_data = train_data[train_data['label'] == label]\n",
        "        sequences = label_data['encoded'].tolist()\n",
        "        lengths = [len(seq) for seq in sequences]\n",
        "        X = np.concatenate([np.array(seq) for seq in sequences]).reshape(-1, 1)\n",
        "\n",
        "        model = hmm.MultinomialHMM(n_components=n_states, n_iter=100, tol=1e-4, random_state=42)\n",
        "        model.fit(X, lengths)\n",
        "        label_hmms[label] = model\n",
        "    return label_hmms\n",
        "\n",
        "def predict_labels(hmm_models, data):\n",
        "    predictions = []\n",
        "    for seq in data['encoded']:\n",
        "        seq_array = np.array(seq).reshape(-1, 1)\n",
        "        scores = {label: model.score(seq_array) for label, model in hmm_models.items()}\n",
        "        pred_label = max(scores, key=scores.get)\n",
        "        predictions.append(pred_label)\n",
        "    return predictions"
      ],
      "metadata": {
        "id": "1lqV6qfNx3nX"
      },
      "execution_count": 7,
      "outputs": []
    },
    {
      "cell_type": "code",
      "source": [
        "\n",
        "def evaluate(true_labels, pred_labels, set_name=\"Test\"):\n",
        "    print(f\"\\n--- {set_name} Set Evaluation ---\")\n",
        "    print(\"Accuracy:\", accuracy_score(true_labels, pred_labels))\n",
        "    print(\"Confusion Matrix:\\n\", confusion_matrix(true_labels, pred_labels))\n",
        "    print(\"Classification Report:\\n\", classification_report(true_labels, pred_labels))\n"
      ],
      "metadata": {
        "id": "mNqbsUnTx3fH"
      },
      "execution_count": 8,
      "outputs": []
    },
    {
      "cell_type": "code",
      "source": [
        "nucleotide_map = {'A': 0, 'C': 1, 'G': 2, 'T': 3}"
      ],
      "metadata": {
        "id": "h33IHHITTGUE"
      },
      "execution_count": 10,
      "outputs": []
    },
    {
      "cell_type": "code",
      "source": [
        "\n",
        "# Load data\n",
        "train = load_data(\"/content/data/pwm_seq_200bp_train_set.txt\")\n",
        "test = load_data(\"/content/data/pwm_seq_200bp_test_set.txt\")\n",
        "valid = load_data(\"/content/data/pwm_seq_200bp_valid_set.txt\")  # Ensure this file exists\n"
      ],
      "metadata": {
        "id": "jCF7xX2ex3Wi"
      },
      "execution_count": 11,
      "outputs": []
    },
    {
      "cell_type": "code",
      "source": [
        "# Train HMMs\n",
        "hmm_models = train_hmm_per_label(train, n_states=6)\n"
      ],
      "metadata": {
        "colab": {
          "base_uri": "https://localhost:8080/"
        },
        "id": "dx7TwbzMx3D6",
        "outputId": "2c70fd36-f7db-4918-c577-58f467463b75"
      },
      "execution_count": 12,
      "outputs": [
        {
          "output_type": "stream",
          "name": "stderr",
          "text": [
            "WARNING:hmmlearn.hmm:MultinomialHMM has undergone major changes. The previous version was implementing a CategoricalHMM (a special case of MultinomialHMM). This new implementation follows the standard definition for a Multinomial distribution (e.g. as in https://en.wikipedia.org/wiki/Multinomial_distribution). See these issues for details:\n",
            "https://github.com/hmmlearn/hmmlearn/issues/335\n",
            "https://github.com/hmmlearn/hmmlearn/issues/340\n",
            "WARNING:hmmlearn.hmm:MultinomialHMM has undergone major changes. The previous version was implementing a CategoricalHMM (a special case of MultinomialHMM). This new implementation follows the standard definition for a Multinomial distribution (e.g. as in https://en.wikipedia.org/wiki/Multinomial_distribution). See these issues for details:\n",
            "https://github.com/hmmlearn/hmmlearn/issues/335\n",
            "https://github.com/hmmlearn/hmmlearn/issues/340\n",
            "WARNING:hmmlearn.hmm:MultinomialHMM has undergone major changes. The previous version was implementing a CategoricalHMM (a special case of MultinomialHMM). This new implementation follows the standard definition for a Multinomial distribution (e.g. as in https://en.wikipedia.org/wiki/Multinomial_distribution). See these issues for details:\n",
            "https://github.com/hmmlearn/hmmlearn/issues/335\n",
            "https://github.com/hmmlearn/hmmlearn/issues/340\n",
            "WARNING:hmmlearn.hmm:MultinomialHMM has undergone major changes. The previous version was implementing a CategoricalHMM (a special case of MultinomialHMM). This new implementation follows the standard definition for a Multinomial distribution (e.g. as in https://en.wikipedia.org/wiki/Multinomial_distribution). See these issues for details:\n",
            "https://github.com/hmmlearn/hmmlearn/issues/335\n",
            "https://github.com/hmmlearn/hmmlearn/issues/340\n"
          ]
        }
      ]
    },
    {
      "cell_type": "code",
      "source": [
        "# Predict\n",
        "test_preds = predict_labels(hmm_models, test)\n",
        "valid_preds = predict_labels(hmm_models, valid)"
      ],
      "metadata": {
        "id": "jOlJvWfnx26e"
      },
      "execution_count": 13,
      "outputs": []
    },
    {
      "cell_type": "code",
      "source": [
        "\n",
        "# Evaluate\n",
        "evaluate(test['label'], test_preds, \"Test\")\n",
        "evaluate(valid['label'], valid_preds, \"Validation\")"
      ],
      "metadata": {
        "colab": {
          "base_uri": "https://localhost:8080/"
        },
        "id": "Ku1eRTF_x2U4",
        "outputId": "059bb8a7-c1dc-4cba-a9cc-97c1b8b64b09"
      },
      "execution_count": 14,
      "outputs": [
        {
          "output_type": "stream",
          "name": "stdout",
          "text": [
            "\n",
            "--- Test Set Evaluation ---\n",
            "Accuracy: 0.237\n",
            "Confusion Matrix:\n",
            " [[  0 268   0   0]\n",
            " [  0 237   0   0]\n",
            " [  0 243   0   0]\n",
            " [  0 252   0   0]]\n",
            "Classification Report:\n",
            "               precision    recall  f1-score   support\n",
            "\n",
            "           0       0.00      0.00      0.00       268\n",
            "           1       0.24      1.00      0.38       237\n",
            "           2       0.00      0.00      0.00       243\n",
            "           3       0.00      0.00      0.00       252\n",
            "\n",
            "    accuracy                           0.24      1000\n",
            "   macro avg       0.06      0.25      0.10      1000\n",
            "weighted avg       0.06      0.24      0.09      1000\n",
            "\n",
            "\n",
            "--- Validation Set Evaluation ---\n",
            "Accuracy: 0.25\n",
            "Confusion Matrix:\n",
            " [[  0 243   0   0]\n",
            " [  0 250   0   0]\n",
            " [  0 249   0   0]\n",
            " [  0 258   0   0]]\n",
            "Classification Report:\n",
            "               precision    recall  f1-score   support\n",
            "\n",
            "           0       0.00      0.00      0.00       243\n",
            "           1       0.25      1.00      0.40       250\n",
            "           2       0.00      0.00      0.00       249\n",
            "           3       0.00      0.00      0.00       258\n",
            "\n",
            "    accuracy                           0.25      1000\n",
            "   macro avg       0.06      0.25      0.10      1000\n",
            "weighted avg       0.06      0.25      0.10      1000\n",
            "\n"
          ]
        },
        {
          "output_type": "stream",
          "name": "stderr",
          "text": [
            "/usr/local/lib/python3.11/dist-packages/sklearn/metrics/_classification.py:1565: UndefinedMetricWarning: Precision is ill-defined and being set to 0.0 in labels with no predicted samples. Use `zero_division` parameter to control this behavior.\n",
            "  _warn_prf(average, modifier, f\"{metric.capitalize()} is\", len(result))\n",
            "/usr/local/lib/python3.11/dist-packages/sklearn/metrics/_classification.py:1565: UndefinedMetricWarning: Precision is ill-defined and being set to 0.0 in labels with no predicted samples. Use `zero_division` parameter to control this behavior.\n",
            "  _warn_prf(average, modifier, f\"{metric.capitalize()} is\", len(result))\n",
            "/usr/local/lib/python3.11/dist-packages/sklearn/metrics/_classification.py:1565: UndefinedMetricWarning: Precision is ill-defined and being set to 0.0 in labels with no predicted samples. Use `zero_division` parameter to control this behavior.\n",
            "  _warn_prf(average, modifier, f\"{metric.capitalize()} is\", len(result))\n",
            "/usr/local/lib/python3.11/dist-packages/sklearn/metrics/_classification.py:1565: UndefinedMetricWarning: Precision is ill-defined and being set to 0.0 in labels with no predicted samples. Use `zero_division` parameter to control this behavior.\n",
            "  _warn_prf(average, modifier, f\"{metric.capitalize()} is\", len(result))\n",
            "/usr/local/lib/python3.11/dist-packages/sklearn/metrics/_classification.py:1565: UndefinedMetricWarning: Precision is ill-defined and being set to 0.0 in labels with no predicted samples. Use `zero_division` parameter to control this behavior.\n",
            "  _warn_prf(average, modifier, f\"{metric.capitalize()} is\", len(result))\n",
            "/usr/local/lib/python3.11/dist-packages/sklearn/metrics/_classification.py:1565: UndefinedMetricWarning: Precision is ill-defined and being set to 0.0 in labels with no predicted samples. Use `zero_division` parameter to control this behavior.\n",
            "  _warn_prf(average, modifier, f\"{metric.capitalize()} is\", len(result))\n"
          ]
        }
      ]
    },
    {
      "cell_type": "code",
      "execution_count": 15,
      "metadata": {
        "id": "0UcHC5csZrdo",
        "colab": {
          "base_uri": "https://localhost:8080/"
        },
        "outputId": "5ffaebbc-b3f2-4066-b3f0-3b3b5048eabc"
      },
      "outputs": [
        {
          "output_type": "stream",
          "name": "stderr",
          "text": [
            "/usr/local/lib/python3.11/dist-packages/keras/src/layers/convolutional/base_conv.py:107: UserWarning: Do not pass an `input_shape`/`input_dim` argument to a layer. When using Sequential models, prefer using an `Input(shape)` object as the first layer in the model instead.\n",
            "  super().__init__(activity_regularizer=activity_regularizer, **kwargs)\n"
          ]
        },
        {
          "output_type": "stream",
          "name": "stdout",
          "text": [
            "Epoch 1/10\n",
            "\u001b[1m268/268\u001b[0m \u001b[32m━━━━━━━━━━━━━━━━━━━━\u001b[0m\u001b[37m\u001b[0m \u001b[1m47s\u001b[0m 158ms/step - accuracy: 0.6110 - loss: 0.8289 - val_accuracy: 0.8534 - val_loss: 0.3315\n",
            "Epoch 2/10\n",
            "\u001b[1m268/268\u001b[0m \u001b[32m━━━━━━━━━━━━━━━━━━━━\u001b[0m\u001b[37m\u001b[0m \u001b[1m77s\u001b[0m 138ms/step - accuracy: 0.8835 - loss: 0.2854 - val_accuracy: 0.9153 - val_loss: 0.2060\n",
            "Epoch 3/10\n",
            "\u001b[1m268/268\u001b[0m \u001b[32m━━━━━━━━━━━━━━━━━━━━\u001b[0m\u001b[37m\u001b[0m \u001b[1m41s\u001b[0m 139ms/step - accuracy: 0.9380 - loss: 0.1606 - val_accuracy: 0.9734 - val_loss: 0.0838\n",
            "Epoch 4/10\n",
            "\u001b[1m268/268\u001b[0m \u001b[32m━━━━━━━━━━━━━━━━━━━━\u001b[0m\u001b[37m\u001b[0m \u001b[1m40s\u001b[0m 134ms/step - accuracy: 0.9629 - loss: 0.1041 - val_accuracy: 0.9726 - val_loss: 0.0749\n",
            "Epoch 5/10\n",
            "\u001b[1m268/268\u001b[0m \u001b[32m━━━━━━━━━━━━━━━━━━━━\u001b[0m\u001b[37m\u001b[0m \u001b[1m42s\u001b[0m 137ms/step - accuracy: 0.9691 - loss: 0.0840 - val_accuracy: 0.9821 - val_loss: 0.0590\n",
            "Epoch 6/10\n",
            "\u001b[1m268/268\u001b[0m \u001b[32m━━━━━━━━━━━━━━━━━━━━\u001b[0m\u001b[37m\u001b[0m \u001b[1m40s\u001b[0m 132ms/step - accuracy: 0.9748 - loss: 0.0703 - val_accuracy: 0.9850 - val_loss: 0.0465\n",
            "Epoch 7/10\n",
            "\u001b[1m268/268\u001b[0m \u001b[32m━━━━━━━━━━━━━━━━━━━━\u001b[0m\u001b[37m\u001b[0m \u001b[1m41s\u001b[0m 134ms/step - accuracy: 0.9809 - loss: 0.0556 - val_accuracy: 0.9834 - val_loss: 0.0486\n",
            "Epoch 8/10\n",
            "\u001b[1m268/268\u001b[0m \u001b[32m━━━━━━━━━━━━━━━━━━━━\u001b[0m\u001b[37m\u001b[0m \u001b[1m42s\u001b[0m 136ms/step - accuracy: 0.9826 - loss: 0.0484 - val_accuracy: 0.9861 - val_loss: 0.0440\n",
            "Epoch 9/10\n",
            "\u001b[1m268/268\u001b[0m \u001b[32m━━━━━━━━━━━━━━━━━━━━\u001b[0m\u001b[37m\u001b[0m \u001b[1m41s\u001b[0m 136ms/step - accuracy: 0.9841 - loss: 0.0470 - val_accuracy: 0.9884 - val_loss: 0.0366\n",
            "Epoch 10/10\n",
            "\u001b[1m268/268\u001b[0m \u001b[32m━━━━━━━━━━━━━━━━━━━━\u001b[0m\u001b[37m\u001b[0m \u001b[1m41s\u001b[0m 135ms/step - accuracy: 0.9858 - loss: 0.0431 - val_accuracy: 0.9861 - val_loss: 0.0450\n",
            "\u001b[1m32/32\u001b[0m \u001b[32m━━━━━━━━━━━━━━━━━━━━\u001b[0m\u001b[37m\u001b[0m \u001b[1m1s\u001b[0m 14ms/step\n",
            "\n",
            "CNN Classification Report:\n",
            "\n",
            "              precision    recall  f1-score   support\n",
            "\n",
            "           0       0.96      1.00      0.98       268\n",
            "           1       1.00      0.95      0.97       237\n",
            "           2       0.99      1.00      0.99       243\n",
            "           3       0.99      0.99      0.99       252\n",
            "\n",
            "    accuracy                           0.98      1000\n",
            "   macro avg       0.99      0.98      0.98      1000\n",
            "weighted avg       0.98      0.98      0.98      1000\n",
            "\n"
          ]
        }
      ],
      "source": [
        "import numpy as np\n",
        "from sklearn.model_selection import train_test_split\n",
        "from sklearn.metrics import classification_report\n",
        "from tensorflow.keras.models import Sequential\n",
        "from tensorflow.keras.layers import Conv1D, MaxPooling1D, Flatten, Dense, Dropout\n",
        "from tensorflow.keras.utils import to_categorical\n",
        "\n",
        "# Load sequences and labels\n",
        "def load_data(filepath):\n",
        "    sequences, labels = [], []\n",
        "    with open(filepath, 'r') as f:\n",
        "        for line in f:\n",
        "            label, seq = line.strip().split('\\t')\n",
        "            sequences.append(seq)\n",
        "            labels.append(int(label))\n",
        "    return sequences, labels\n",
        "\n",
        "def one_hot_encode(seq, seq_len=200):\n",
        "    mapping = {'A': 0, 'C': 1, 'G': 2, 'T': 3}\n",
        "    one_hot = np.zeros((seq_len, 4))\n",
        "    for i, base in enumerate(seq):\n",
        "        if base in mapping:\n",
        "            one_hot[i, mapping[base]] = 1\n",
        "    return one_hot\n",
        "\n",
        "train_sequences, train_labels = load_data(\"/content/data/pwm_seq_200bp_train_set.txt\")\n",
        "test_sequences, test_labels = load_data(\"/content/data/pwm_seq_200bp_test_set.txt\")\n",
        "\n",
        "X_train = np.array([one_hot_encode(seq) for seq in train_sequences])\n",
        "X_test = np.array([one_hot_encode(seq) for seq in test_sequences])\n",
        "y_train = to_categorical(train_labels, num_classes=4)\n",
        "y_test = to_categorical(test_labels, num_classes=4)\n",
        "\n",
        "# CNN Model\n",
        "model = Sequential([\n",
        "    Conv1D(64, 10, activation='relu', input_shape=(200, 4)),\n",
        "    MaxPooling1D(pool_size=3),\n",
        "    Dropout(0.3),\n",
        "    Conv1D(128, 10, activation='relu'),\n",
        "    MaxPooling1D(pool_size=3),\n",
        "    Dropout(0.3),\n",
        "    Flatten(),\n",
        "    Dense(256, activation='relu'),\n",
        "    Dropout(0.5),\n",
        "    Dense(4, activation='softmax')\n",
        "])\n",
        "\n",
        "model.compile(optimizer='adam', loss='categorical_crossentropy', metrics=['accuracy'])\n",
        "model.fit(X_train, y_train, epochs=10, batch_size=128, validation_split=0.1)\n",
        "\n",
        "# Evaluate\n",
        "preds = model.predict(X_test)\n",
        "y_pred_cnn = np.argmax(preds, axis=1)\n",
        "y_true_cnn = np.argmax(y_test, axis=1)\n",
        "print(\"\\nCNN Classification Report:\\n\")\n",
        "print(classification_report(y_true_cnn, y_pred_cnn))"
      ]
    },
    {
      "cell_type": "code",
      "source": [
        "#comparing model performance\n",
        "import matplotlib.pyplot as plt\n",
        "from sklearn.metrics import accuracy_score\n",
        "\n",
        "# HMM Accuracies (based on test and valid dataframes)\n",
        "hmm_test_accuracy = accuracy_score(test['label'], test_preds)\n",
        "hmm_valid_accuracy = accuracy_score(valid['label'], valid_preds)\n",
        "\n",
        "# CNN Accuracies (from earlier code)\n",
        "cnn_test_accuracy = accuracy_score(y_true_cnn, y_pred_cnn)\n",
        "\n",
        "# Plot\n",
        "labels = ['Test']\n",
        "x = range(len(labels))\n",
        "width = 0.35\n",
        "\n",
        "plt.figure(figsize=(8, 4))\n",
        "plt.bar([i - width/2 for i in x], [cnn_test_accuracy], width=width, label='CNN', color='green')\n",
        "plt.bar([i + width/2 for i in x], [hmm_test_accuracy], width=width, label='HMM', color='red')\n",
        "\n",
        "plt.xticks(x, labels)\n",
        "plt.ylim(0, 1)\n",
        "plt.ylabel('Accuracy')\n",
        "plt.title('CNN vs HMM Accuracy: Test Set')\n",
        "plt.legend()\n",
        "\n",
        "# Annotate\n",
        "for i, (c_acc, h_acc) in enumerate(zip([cnn_test_accuracy], [hmm_test_accuracy])):\n",
        "    plt.text(i - width/2, c_acc + 0.02, f'{c_acc:.2f}', ha='center')\n",
        "    plt.text(i + width/2, h_acc + 0.02, f'{h_acc:.2f}', ha='center')\n",
        "\n",
        "plt.grid(axis='y')\n",
        "plt.tight_layout()\n",
        "plt.show()\n"
      ],
      "metadata": {
        "id": "ZmbofQ1Ykr2W",
        "colab": {
          "base_uri": "https://localhost:8080/",
          "height": 407
        },
        "outputId": "6af35b14-d23d-48c3-ad2d-b2e773a33abf"
      },
      "execution_count": 22,
      "outputs": [
        {
          "output_type": "display_data",
          "data": {
            "text/plain": [
              "<Figure size 800x400 with 1 Axes>"
            ],
            "image/png": "[encoded data removed]"
          },
          "metadata": {}
        }
      ]
    },
    {
      "cell_type": "code",
      "source": [],
      "metadata": {
        "id": "GoFb2nysYlQ4"
      },
      "execution_count": null,
      "outputs": []
    }
  ]
}