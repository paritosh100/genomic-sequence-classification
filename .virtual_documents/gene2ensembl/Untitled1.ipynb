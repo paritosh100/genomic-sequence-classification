import numpy as np



# Example Data
states = ['Coding', 'Non-Coding']
observations = [0, 1, 0, 2]  # Example nucleotide mapping
start_prob = [0.6, 0.4]
trans_prob = [[0.7, 0.3], [0.4, 0.6]]
emit_prob = [[0.5, 0.4, 0.1], [0.1, 0.3, 0.6]]

# Prediction
result = viterbi(observations, states, start_prob, trans_prob, emit_prob)
print("Predicted Sequence of States:", [states[i] for i in result])
















