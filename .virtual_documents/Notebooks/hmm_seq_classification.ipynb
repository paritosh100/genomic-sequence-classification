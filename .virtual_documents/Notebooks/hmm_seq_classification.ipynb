pip install -r "../requirements.txt"


import pandas as pd
import numpy as np
from hmmlearn import hmm
from sklearn.metrics import accuracy_score, confusion_matrix, classification_report



def encode_sequence(seq):
    return [nucleotide_map[nuc] for nuc in seq if nuc in nucleotide_map]

def load_data(filepath):
    data = pd.read_csv(filepath, sep="\t", header=None, names=["label", "sequence"])
    data["encoded"] = data["sequence"].apply(encode_sequence)
    return data

def train_hmm_per_label(train_data, n_states=4):
    label_hmms = {}
    for label in sorted(train_data['label'].unique()):
        label_data = train_data[train_data['label'] == label]
        sequences = label_data['encoded'].tolist()
        lengths = [len(seq) for seq in sequences]
        X = np.concatenate([np.array(seq) for seq in sequences]).reshape(-1, 1)

        model = hmm.CategoricalHMM(n_components=n_states, n_iter=100, tol=1e-5, init_params='ste',algorithm='viterbi', verbose=1)
        model.fit(X, lengths)
        label_hmms[label] = model
    return label_hmms

def predict_labels(hmm_models, data):
    predictions = []
    for seq in data['encoded']:
        seq_array = np.array(seq).reshape(-1, 1)
        scores = {label: model.score(seq_array) for label, model in hmm_models.items()}
        pred_label = max(scores, key=scores.get)
        predictions.append(pred_label)
    return predictions


def evaluate(true_labels, pred_labels, set_name="Test"):
    print(f"\n--- {set_name} Set Evaluation ---")
    print("Accuracy:", accuracy_score(true_labels, pred_labels))
    print("Confusion Matrix:\n", confusion_matrix(true_labels, pred_labels))
    print("Classification Report:\n", classification_report(true_labels, pred_labels))



nucleotide_map = {'A': 0, 'C': 1, 'G': 2, 'T': 3}


# Load data
train = load_data("data/pwm_seq_200bp_train_set.txt")
test = load_data("data/pwm_seq_200bp_test_set.txt")
valid = load_data("data/pwm_seq_200bp_valid_set.txt")



# Train HMMs
hmm_models = train_hmm_per_label(train, n_states=4)


hmm_models[1].startprob_, hmm_models[1].emissionprob_ , hmm_models[1].transmat_



hmm_models[0].startprob_, hmm_models[0].emissionprob_ , hmm_models[0].transmat_


hmm_models[2].startprob_, hmm_models[2].emissionprob_ , hmm_models[2].transmat_


hmm_models[3].startprob_, hmm_models[3].emissionprob_ , hmm_models[3].transmat_


# Predict
test_preds = predict_labels(hmm_models, test)
valid_preds = predict_labels(hmm_models, valid)


# Evaluate
evaluate(test['label'], test_preds, "Test")
evaluate(valid['label'], valid_preds, "Validation")


import numpy as np
from sklearn.model_selection import train_test_split
from sklearn.metrics import classification_report
from tensorflow.keras.models import Sequential
from tensorflow.keras.layers import Conv1D, MaxPooling1D, Flatten, Dense, Dropout
from tensorflow.keras.utils import to_categorical

# Load sequences and labels
def load_data(filepath):
    sequences, labels = [], []
    with open(filepath, 'r') as f:
        for line in f:
            label, seq = line.strip().split('\t')
            sequences.append(seq)
            labels.append(int(label))
    return sequences, labels

def one_hot_encode(seq, seq_len=200):
    mapping = {'A': 0, 'C': 1, 'G': 2, 'T': 3}
    one_hot = np.zeros((seq_len, 4))
    for i, base in enumerate(seq):
        if base in mapping:
            one_hot[i, mapping[base]] = 1
    return one_hot

train_sequences, train_labels = load_data("/content/data/pwm_seq_200bp_train_set.txt")
test_sequences, test_labels = load_data("/content/data/pwm_seq_200bp_test_set.txt")

X_train = np.array([one_hot_encode(seq) for seq in train_sequences])
X_test = np.array([one_hot_encode(seq) for seq in test_sequences])
y_train = to_categorical(train_labels, num_classes=4)
y_test = to_categorical(test_labels, num_classes=4)

# CNN Model
model = Sequential([
    Conv1D(64, 10, activation='relu', input_shape=(200, 4)),
    MaxPooling1D(pool_size=3),
    Dropout(0.3),
    Conv1D(128, 10, activation='relu'),
    MaxPooling1D(pool_size=3),
    Dropout(0.3),
    Flatten(),
    Dense(256, activation='relu'),
    Dropout(0.5),
    Dense(4, activation='softmax')
])

model.compile(optimizer='adam', loss='categorical_crossentropy', metrics=['accuracy'])
model.fit(X_train, y_train, epochs=10, batch_size=128, validation_split=0.1)

# Evaluate
preds = model.predict(X_test)
y_pred_cnn = np.argmax(preds, axis=1)
y_true_cnn = np.argmax(y_test, axis=1)
print("\nCNN Classification Report:\n")
print(classification_report(y_true_cnn, y_pred_cnn))


#comparing model performance
import matplotlib.pyplot as plt
from sklearn.metrics import accuracy_score

# HMM Accuracies (based on test and valid dataframes)
hmm_test_accuracy = accuracy_score(test['label'], test_preds)
hmm_valid_accuracy = accuracy_score(valid['label'], valid_preds)

# CNN Accuracies (from earlier code)
cnn_test_accuracy = accuracy_score(y_true_cnn, y_pred_cnn)

# Plot
labels = ['Test']
x = range(len(labels))
width = 0.35

plt.figure(figsize=(8, 4))
plt.bar([i - width/2 for i in x], [cnn_test_accuracy], width=width, label='CNN', color='green')
plt.bar([i + width/2 for i in x], [hmm_test_accuracy], width=width, label='HMM', color='red')

plt.xticks(x, labels)
plt.ylim(0, 1)
plt.ylabel('Accuracy')
plt.title('CNN vs HMM Accuracy: Test Set')
plt.legend()

# Annotate
for i, (c_acc, h_acc) in enumerate(zip([cnn_test_accuracy], [hmm_test_accuracy])):
    plt.text(i - width/2, c_acc + 0.02, f'{c_acc:.2f}', ha='center')
    plt.text(i + width/2, h_acc + 0.02, f'{h_acc:.2f}', ha='center')

plt.grid(axis='y')
plt.tight_layout()
plt.show()



from sklearn.metrics import confusion_matrix
import pandas as pd

# CNN Confusion Matrix
cm_cnn = confusion_matrix(y_true_cnn, y_pred_cnn)
cm_cnn_df = pd.DataFrame(cm_cnn, index=[f"True {i}" for i in range(4)],
                         columns=[f"Pred {i}" for i in range(4)])
print(" CNN Confusion Matrix:")
print(cm_cnn_df)

# HMM Confusion Matrix
cm_hmm = confusion_matrix(test['label'], test_preds)
cm_hmm_df = pd.DataFrame(cm_hmm, index=[f"True {i}" for i in range(4)],
                         columns=[f"Pred {i}" for i in range(4)])
print("\n HMM Confusion Matrix:")
print(cm_hmm_df)







